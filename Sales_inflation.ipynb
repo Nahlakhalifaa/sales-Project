{
 "cells": [
  {
   "cell_type": "code",
   "execution_count": 209,
   "id": "c60e34f9-44a4-481a-b808-efa54feee0a4",
   "metadata": {},
   "outputs": [],
   "source": [
    "\n",
    "import sqlite3 as sl\n",
    "import pandas as pd\n",
    "import numpy as np\n",
    "import seaborn as sns\n",
    "import matplotlib.pyplot as plt"
   ]
  },
  {
   "cell_type": "code",
   "execution_count": 682,
   "id": "4aa92515-06f6-4e88-9384-0710c1120c5f",
   "metadata": {},
   "outputs": [
    {
     "data": {
      "text/html": [
       "<div>\n",
       "<style scoped>\n",
       "    .dataframe tbody tr th:only-of-type {\n",
       "        vertical-align: middle;\n",
       "    }\n",
       "\n",
       "    .dataframe tbody tr th {\n",
       "        vertical-align: top;\n",
       "    }\n",
       "\n",
       "    .dataframe thead th {\n",
       "        text-align: right;\n",
       "    }\n",
       "</style>\n",
       "<table border=\"1\" class=\"dataframe\">\n",
       "  <thead>\n",
       "    <tr style=\"text-align: right;\">\n",
       "      <th></th>\n",
       "      <th>Year</th>\n",
       "      <th>Inflation Rate YOY, From Previous Dec.</th>\n",
       "      <th>Federal Funds Rate</th>\n",
       "      <th>Business Cycle*</th>\n",
       "      <th>Events Affecting Inflation</th>\n",
       "    </tr>\n",
       "  </thead>\n",
       "  <tbody>\n",
       "    <tr>\n",
       "      <th>0</th>\n",
       "      <td>1929</td>\n",
       "      <td>0.60%</td>\n",
       "      <td>NaN</td>\n",
       "      <td>August peak</td>\n",
       "      <td>Market crash</td>\n",
       "    </tr>\n",
       "    <tr>\n",
       "      <th>1</th>\n",
       "      <td>1930</td>\n",
       "      <td>-6.40%</td>\n",
       "      <td>NaN</td>\n",
       "      <td>Contraction (-8.5%)</td>\n",
       "      <td>Smoot-Hawley Tariff Act</td>\n",
       "    </tr>\n",
       "    <tr>\n",
       "      <th>2</th>\n",
       "      <td>1931</td>\n",
       "      <td>-9.30%</td>\n",
       "      <td>NaN</td>\n",
       "      <td>Contraction (-6.4%)</td>\n",
       "      <td>Dust Bowl began</td>\n",
       "    </tr>\n",
       "    <tr>\n",
       "      <th>3</th>\n",
       "      <td>1932</td>\n",
       "      <td>-10.30%</td>\n",
       "      <td>NaN</td>\n",
       "      <td>Contraction (-12.9%)</td>\n",
       "      <td>Hoover tax hikes</td>\n",
       "    </tr>\n",
       "    <tr>\n",
       "      <th>4</th>\n",
       "      <td>1933</td>\n",
       "      <td>0.80%</td>\n",
       "      <td>NaN</td>\n",
       "      <td>Contraction ended in March (-1.2%)</td>\n",
       "      <td>FDR’s New Deal</td>\n",
       "    </tr>\n",
       "    <tr>\n",
       "      <th>...</th>\n",
       "      <td>...</td>\n",
       "      <td>...</td>\n",
       "      <td>...</td>\n",
       "      <td>...</td>\n",
       "      <td>...</td>\n",
       "    </tr>\n",
       "    <tr>\n",
       "      <th>90</th>\n",
       "      <td>2019</td>\n",
       "      <td>2.30%</td>\n",
       "      <td>1.75%</td>\n",
       "      <td>Expansion (2.5%)</td>\n",
       "      <td>NaN</td>\n",
       "    </tr>\n",
       "    <tr>\n",
       "      <th>91</th>\n",
       "      <td>2020</td>\n",
       "      <td>1.40%</td>\n",
       "      <td>0.25%</td>\n",
       "      <td>Contraction (-2.2%)</td>\n",
       "      <td>COVID-19 pandemic</td>\n",
       "    </tr>\n",
       "    <tr>\n",
       "      <th>92</th>\n",
       "      <td>2021</td>\n",
       "      <td>7.00%</td>\n",
       "      <td>0.25%</td>\n",
       "      <td>Expansion (5.8%)</td>\n",
       "      <td>COVID-19 pandemic</td>\n",
       "    </tr>\n",
       "    <tr>\n",
       "      <th>93</th>\n",
       "      <td>2022</td>\n",
       "      <td>6.50%</td>\n",
       "      <td>4.50%</td>\n",
       "      <td>Expansion (1.9%)</td>\n",
       "      <td>Russia invades Ukraine</td>\n",
       "    </tr>\n",
       "    <tr>\n",
       "      <th>94</th>\n",
       "      <td>2023</td>\n",
       "      <td>3.40%</td>\n",
       "      <td>5.50%</td>\n",
       "      <td>Expansion (2.5%)</td>\n",
       "      <td>Fed raised rates</td>\n",
       "    </tr>\n",
       "  </tbody>\n",
       "</table>\n",
       "<p>95 rows × 5 columns</p>\n",
       "</div>"
      ],
      "text/plain": [
       "    Year Inflation Rate YOY, From Previous Dec. Federal Funds Rate  \\\n",
       "0   1929                                  0.60%                NaN   \n",
       "1   1930                                 -6.40%                NaN   \n",
       "2   1931                                 -9.30%                NaN   \n",
       "3   1932                                -10.30%                NaN   \n",
       "4   1933                                  0.80%                NaN   \n",
       "..   ...                                    ...                ...   \n",
       "90  2019                                  2.30%              1.75%   \n",
       "91  2020                                  1.40%              0.25%   \n",
       "92  2021                                  7.00%              0.25%   \n",
       "93  2022                                  6.50%              4.50%   \n",
       "94  2023                                  3.40%              5.50%   \n",
       "\n",
       "                       Business Cycle* Events Affecting Inflation  \n",
       "0                          August peak               Market crash  \n",
       "1                  Contraction (-8.5%)    Smoot-Hawley Tariff Act  \n",
       "2                  Contraction (-6.4%)            Dust Bowl began  \n",
       "3                 Contraction (-12.9%)           Hoover tax hikes  \n",
       "4   Contraction ended in March (-1.2%)             FDR’s New Deal  \n",
       "..                                 ...                        ...  \n",
       "90                    Expansion (2.5%)                        NaN  \n",
       "91                 Contraction (-2.2%)          COVID-19 pandemic  \n",
       "92                    Expansion (5.8%)          COVID-19 pandemic  \n",
       "93                    Expansion (1.9%)     Russia invades Ukraine  \n",
       "94                    Expansion (2.5%)           Fed raised rates  \n",
       "\n",
       "[95 rows x 5 columns]"
      ]
     },
     "execution_count": 682,
     "metadata": {},
     "output_type": "execute_result"
    }
   ],
   "source": [
    "Inflation_Rate_df=pd.read_csv(\"C:/Users/nahla/OneDrive/Desktop/Data_Analysis/DataSets/Historical U.S. Inflation Rate by Year_ 1929 to 2024 - Sheet1 (1).csv\" )\n",
    "Inflation_Rate_df"
   ]
  },
  {
   "cell_type": "code",
   "execution_count": null,
   "id": "0a3403ac-7120-4f44-ad77-63d5df814959",
   "metadata": {},
   "outputs": [],
   "source": []
  },
  {
   "cell_type": "code",
   "execution_count": 689,
   "id": "2851cab4-ddce-41af-b513-44cdd6094d6f",
   "metadata": {},
   "outputs": [
    {
     "data": {
      "text/html": [
       "<div>\n",
       "<style scoped>\n",
       "    .dataframe tbody tr th:only-of-type {\n",
       "        vertical-align: middle;\n",
       "    }\n",
       "\n",
       "    .dataframe tbody tr th {\n",
       "        vertical-align: top;\n",
       "    }\n",
       "\n",
       "    .dataframe thead th {\n",
       "        text-align: right;\n",
       "    }\n",
       "</style>\n",
       "<table border=\"1\" class=\"dataframe\">\n",
       "  <thead>\n",
       "    <tr style=\"text-align: right;\">\n",
       "      <th></th>\n",
       "      <th>Year</th>\n",
       "      <th>Inflation Rate YOY, From Previous Dec.</th>\n",
       "      <th>Federal Funds Rate</th>\n",
       "      <th>Business Cycle*</th>\n",
       "      <th>Events Affecting Inflation</th>\n",
       "    </tr>\n",
       "  </thead>\n",
       "  <tbody>\n",
       "    <tr>\n",
       "      <th>89</th>\n",
       "      <td>2018</td>\n",
       "      <td>1.90%</td>\n",
       "      <td>2.50%</td>\n",
       "      <td>Expansion (3.0%)</td>\n",
       "      <td>NaN</td>\n",
       "    </tr>\n",
       "    <tr>\n",
       "      <th>90</th>\n",
       "      <td>2019</td>\n",
       "      <td>2.30%</td>\n",
       "      <td>1.75%</td>\n",
       "      <td>Expansion (2.5%)</td>\n",
       "      <td>NaN</td>\n",
       "    </tr>\n",
       "    <tr>\n",
       "      <th>91</th>\n",
       "      <td>2020</td>\n",
       "      <td>1.40%</td>\n",
       "      <td>0.25%</td>\n",
       "      <td>Contraction (-2.2%)</td>\n",
       "      <td>COVID-19 pandemic</td>\n",
       "    </tr>\n",
       "    <tr>\n",
       "      <th>92</th>\n",
       "      <td>2021</td>\n",
       "      <td>7.00%</td>\n",
       "      <td>0.25%</td>\n",
       "      <td>Expansion (5.8%)</td>\n",
       "      <td>COVID-19 pandemic</td>\n",
       "    </tr>\n",
       "    <tr>\n",
       "      <th>93</th>\n",
       "      <td>2022</td>\n",
       "      <td>6.50%</td>\n",
       "      <td>4.50%</td>\n",
       "      <td>Expansion (1.9%)</td>\n",
       "      <td>Russia invades Ukraine</td>\n",
       "    </tr>\n",
       "    <tr>\n",
       "      <th>94</th>\n",
       "      <td>2023</td>\n",
       "      <td>3.40%</td>\n",
       "      <td>5.50%</td>\n",
       "      <td>Expansion (2.5%)</td>\n",
       "      <td>Fed raised rates</td>\n",
       "    </tr>\n",
       "  </tbody>\n",
       "</table>\n",
       "</div>"
      ],
      "text/plain": [
       "    Year Inflation Rate YOY, From Previous Dec. Federal Funds Rate  \\\n",
       "89  2018                                  1.90%              2.50%   \n",
       "90  2019                                  2.30%              1.75%   \n",
       "91  2020                                  1.40%              0.25%   \n",
       "92  2021                                  7.00%              0.25%   \n",
       "93  2022                                  6.50%              4.50%   \n",
       "94  2023                                  3.40%              5.50%   \n",
       "\n",
       "        Business Cycle* Events Affecting Inflation  \n",
       "89     Expansion (3.0%)                        NaN  \n",
       "90     Expansion (2.5%)                        NaN  \n",
       "91  Contraction (-2.2%)          COVID-19 pandemic  \n",
       "92     Expansion (5.8%)          COVID-19 pandemic  \n",
       "93     Expansion (1.9%)     Russia invades Ukraine  \n",
       "94     Expansion (2.5%)           Fed raised rates  "
      ]
     },
     "execution_count": 689,
     "metadata": {},
     "output_type": "execute_result"
    }
   ],
   "source": [
    "Inflation_Rate_df['Year'] = Inflation_Rate_df['Year'].astype(int)\n",
    "\n",
    "# Filter the data from 2018 onwards\n",
    "Inflation_Rate_df = Inflation_Rate_df[Inflation_Rate_df['Year'] >= 2018]\n",
    "\n",
    "Inflation_Rate_df"
   ]
  },
  {
   "cell_type": "code",
   "execution_count": 671,
   "id": "185ed31b-fead-452d-90bc-0c18c0f1bf4e",
   "metadata": {},
   "outputs": [
    {
     "name": "stdout",
     "output_type": "stream",
     "text": [
      "[2020 2021 2022 2023]\n"
     ]
    }
   ],
   "source": [
    "years_inf = Inflation_Rate_df['Year'].values \n",
    "print(years_inf)"
   ]
  },
  {
   "cell_type": "code",
   "execution_count": 695,
   "id": "4b373ef3-ae24-47f6-9cea-06dfa54576ff",
   "metadata": {},
   "outputs": [
    {
     "data": {
      "text/plain": [
       "Year                                      0\n",
       "Inflation Rate YOY, From Previous Dec.    0\n",
       "Federal Funds Rate                        0\n",
       "Business Cycle*                           0\n",
       "Events Affecting Inflation                2\n",
       "dtype: int64"
      ]
     },
     "execution_count": 695,
     "metadata": {},
     "output_type": "execute_result"
    }
   ],
   "source": [
    "Inflation_Rate_df.isnull().sum()"
   ]
  },
  {
   "cell_type": "code",
   "execution_count": 697,
   "id": "e06d7d5a-cc18-48c2-8dea-a7df37f1908b",
   "metadata": {},
   "outputs": [
    {
     "name": "stdout",
     "output_type": "stream",
     "text": [
      "<class 'pandas.core.frame.DataFrame'>\n",
      "Index: 6 entries, 89 to 94\n",
      "Data columns (total 5 columns):\n",
      " #   Column                                  Non-Null Count  Dtype \n",
      "---  ------                                  --------------  ----- \n",
      " 0   Year                                    6 non-null      int32 \n",
      " 1   Inflation Rate YOY, From Previous Dec.  6 non-null      object\n",
      " 2   Federal Funds Rate                      6 non-null      object\n",
      " 3   Business Cycle*                         6 non-null      object\n",
      " 4   Events Affecting Inflation              4 non-null      object\n",
      "dtypes: int32(1), object(4)\n",
      "memory usage: 264.0+ bytes\n"
     ]
    }
   ],
   "source": [
    "Inflation_Rate_df.info()"
   ]
  },
  {
   "cell_type": "code",
   "execution_count": 699,
   "id": "6d057bed-c5bd-4671-980c-49e1b9ad5251",
   "metadata": {},
   "outputs": [
    {
     "data": {
      "text/plain": [
       "Index(['Date', 'State', 'Category', 'Variable', 'Value'], dtype='object')"
      ]
     },
     "execution_count": 699,
     "metadata": {},
     "output_type": "execute_result"
    }
   ],
   "source": [
    "retail_sales_df = pd.read_csv(\"C:/Users/nahla/OneDrive/Desktop/Data_Analysis/DataSets/StateAndCategory (1).csv\", encoding=\"latin1\")\n",
    "retail_sales_df.columns"
   ]
  },
  {
   "cell_type": "code",
   "execution_count": 701,
   "id": "657a01cb-2dcf-4821-99e3-ed0e7578b57a",
   "metadata": {},
   "outputs": [],
   "source": [
    "sales_df = pd.merge(Groceries_sales_df, Inflation_Rate_df, \n",
    "                              left_on='Year', right_on='Year', how='left')"
   ]
  },
  {
   "cell_type": "code",
   "execution_count": 220,
   "id": "2803ab5b-c074-4d8a-9042-512a194bc07a",
   "metadata": {},
   "outputs": [
    {
     "data": {
      "text/plain": [
       "Index(['Consumer Price Index item', 'Year', 'Percent change'], dtype='object')"
      ]
     },
     "execution_count": 220,
     "metadata": {},
     "output_type": "execute_result"
    }
   ],
   "source": [
    "Groceries_sales_df = pd.read_csv(\"C:/Users/nahla/OneDrive/Desktop/Data_Analysis/DataSets/Food_price.csv\")\n",
    "Groceries_sales_df.columns"
   ]
  },
  {
   "cell_type": "code",
   "execution_count": 462,
   "id": "e6bdb57b-06c5-47c9-9427-790799a5f1c2",
   "metadata": {},
   "outputs": [
    {
     "data": {
      "text/html": [
       "<div>\n",
       "<style scoped>\n",
       "    .dataframe tbody tr th:only-of-type {\n",
       "        vertical-align: middle;\n",
       "    }\n",
       "\n",
       "    .dataframe tbody tr th {\n",
       "        vertical-align: top;\n",
       "    }\n",
       "\n",
       "    .dataframe thead th {\n",
       "        text-align: right;\n",
       "    }\n",
       "</style>\n",
       "<table border=\"1\" class=\"dataframe\">\n",
       "  <thead>\n",
       "    <tr style=\"text-align: right;\">\n",
       "      <th></th>\n",
       "      <th>Date</th>\n",
       "      <th>State</th>\n",
       "      <th>Category</th>\n",
       "      <th>Variable</th>\n",
       "      <th>Value</th>\n",
       "    </tr>\n",
       "  </thead>\n",
       "  <tbody>\n",
       "    <tr>\n",
       "      <th>0</th>\n",
       "      <td>2019-10-06</td>\n",
       "      <td>Alabama</td>\n",
       "      <td>Alcohol</td>\n",
       "      <td>Dollars</td>\n",
       "      <td>23611285.0</td>\n",
       "    </tr>\n",
       "    <tr>\n",
       "      <th>1</th>\n",
       "      <td>2019-10-13</td>\n",
       "      <td>Alabama</td>\n",
       "      <td>Alcohol</td>\n",
       "      <td>Dollars</td>\n",
       "      <td>23220758.0</td>\n",
       "    </tr>\n",
       "    <tr>\n",
       "      <th>2</th>\n",
       "      <td>2019-10-20</td>\n",
       "      <td>Alabama</td>\n",
       "      <td>Alcohol</td>\n",
       "      <td>Dollars</td>\n",
       "      <td>21770283.0</td>\n",
       "    </tr>\n",
       "    <tr>\n",
       "      <th>3</th>\n",
       "      <td>2019-10-27</td>\n",
       "      <td>Alabama</td>\n",
       "      <td>Alcohol</td>\n",
       "      <td>Dollars</td>\n",
       "      <td>21956558.0</td>\n",
       "    </tr>\n",
       "    <tr>\n",
       "      <th>4</th>\n",
       "      <td>2019-11-03</td>\n",
       "      <td>Alabama</td>\n",
       "      <td>Alcohol</td>\n",
       "      <td>Dollars</td>\n",
       "      <td>23183482.0</td>\n",
       "    </tr>\n",
       "    <tr>\n",
       "      <th>...</th>\n",
       "      <td>...</td>\n",
       "      <td>...</td>\n",
       "      <td>...</td>\n",
       "      <td>...</td>\n",
       "      <td>...</td>\n",
       "    </tr>\n",
       "    <tr>\n",
       "      <th>889235</th>\n",
       "      <td>2023-04-09</td>\n",
       "      <td>Wyoming</td>\n",
       "      <td>Vegetables</td>\n",
       "      <td>Percent change units 3 years</td>\n",
       "      <td>-10.0</td>\n",
       "    </tr>\n",
       "    <tr>\n",
       "      <th>889236</th>\n",
       "      <td>2023-04-16</td>\n",
       "      <td>Wyoming</td>\n",
       "      <td>Vegetables</td>\n",
       "      <td>Percent change units 3 years</td>\n",
       "      <td>-22.2</td>\n",
       "    </tr>\n",
       "    <tr>\n",
       "      <th>889237</th>\n",
       "      <td>2023-04-23</td>\n",
       "      <td>Wyoming</td>\n",
       "      <td>Vegetables</td>\n",
       "      <td>Percent change units 3 years</td>\n",
       "      <td>-18.6</td>\n",
       "    </tr>\n",
       "    <tr>\n",
       "      <th>889238</th>\n",
       "      <td>2023-04-30</td>\n",
       "      <td>Wyoming</td>\n",
       "      <td>Vegetables</td>\n",
       "      <td>Percent change units 3 years</td>\n",
       "      <td>-17.9</td>\n",
       "    </tr>\n",
       "    <tr>\n",
       "      <th>889239</th>\n",
       "      <td>2023-05-07</td>\n",
       "      <td>Wyoming</td>\n",
       "      <td>Vegetables</td>\n",
       "      <td>Percent change units 3 years</td>\n",
       "      <td>-13.3</td>\n",
       "    </tr>\n",
       "  </tbody>\n",
       "</table>\n",
       "<p>889240 rows × 5 columns</p>\n",
       "</div>"
      ],
      "text/plain": [
       "              Date    State    Category                      Variable  \\\n",
       "0       2019-10-06  Alabama     Alcohol                       Dollars   \n",
       "1       2019-10-13  Alabama     Alcohol                       Dollars   \n",
       "2       2019-10-20  Alabama     Alcohol                       Dollars   \n",
       "3       2019-10-27  Alabama     Alcohol                       Dollars   \n",
       "4       2019-11-03  Alabama     Alcohol                       Dollars   \n",
       "...            ...      ...         ...                           ...   \n",
       "889235  2023-04-09  Wyoming  Vegetables  Percent change units 3 years   \n",
       "889236  2023-04-16  Wyoming  Vegetables  Percent change units 3 years   \n",
       "889237  2023-04-23  Wyoming  Vegetables  Percent change units 3 years   \n",
       "889238  2023-04-30  Wyoming  Vegetables  Percent change units 3 years   \n",
       "889239  2023-05-07  Wyoming  Vegetables  Percent change units 3 years   \n",
       "\n",
       "             Value  \n",
       "0       23611285.0  \n",
       "1       23220758.0  \n",
       "2       21770283.0  \n",
       "3       21956558.0  \n",
       "4       23183482.0  \n",
       "...            ...  \n",
       "889235       -10.0  \n",
       "889236       -22.2  \n",
       "889237       -18.6  \n",
       "889238       -17.9  \n",
       "889239       -13.3  \n",
       "\n",
       "[889240 rows x 5 columns]"
      ]
     },
     "execution_count": 462,
     "metadata": {},
     "output_type": "execute_result"
    }
   ],
   "source": [
    "retail_sales_df"
   ]
  },
  {
   "cell_type": "code",
   "execution_count": 476,
   "id": "74aa8a77-c1a8-4edf-ba21-86190cb9a547",
   "metadata": {},
   "outputs": [
    {
     "name": "stdout",
     "output_type": "stream",
     "text": [
      "<class 'pandas.core.frame.DataFrame'>\n",
      "RangeIndex: 1100 entries, 0 to 1099\n",
      "Data columns (total 3 columns):\n",
      " #   Column                     Non-Null Count  Dtype  \n",
      "---  ------                     --------------  -----  \n",
      " 0   Consumer Price Index item  1100 non-null   object \n",
      " 1   Year                       1100 non-null   int64  \n",
      " 2   Percent change             1075 non-null   float64\n",
      "dtypes: float64(1), int64(1), object(1)\n",
      "memory usage: 25.9+ KB\n"
     ]
    }
   ],
   "source": [
    "Groceries_sales_df.info()"
   ]
  },
  {
   "cell_type": "code",
   "execution_count": 478,
   "id": "d26ffe3e-bd07-4d18-a8c3-849080739c62",
   "metadata": {},
   "outputs": [
    {
     "name": "stdout",
     "output_type": "stream",
     "text": [
      "int64\n"
     ]
    }
   ],
   "source": [
    "print(Groceries_sales_df['Year'].dtype)"
   ]
  },
  {
   "cell_type": "code",
   "execution_count": 703,
   "id": "3b414289-82a9-4cb1-a064-1f5d92c81541",
   "metadata": {},
   "outputs": [
    {
     "name": "stdout",
     "output_type": "stream",
     "text": [
      "<class 'pandas.core.series.Series'>\n",
      "RangeIndex: 1100 entries, 0 to 1099\n",
      "Series name: Year\n",
      "Non-Null Count  Dtype\n",
      "--------------  -----\n",
      "1100 non-null   int64\n",
      "dtypes: int64(1)\n",
      "memory usage: 8.7 KB\n"
     ]
    }
   ],
   "source": [
    "Groceries_sales_df['Year'].info()"
   ]
  },
  {
   "cell_type": "code",
   "execution_count": 705,
   "id": "f622b41a-e209-46f2-85db-2b8a3b773f11",
   "metadata": {},
   "outputs": [
    {
     "name": "stdout",
     "output_type": "stream",
     "text": [
      "int32\n"
     ]
    }
   ],
   "source": [
    "print(Inflation_Rate_df['Year'].dtype)"
   ]
  },
  {
   "cell_type": "code",
   "execution_count": 707,
   "id": "5859d1ef-0209-4c43-8439-f7a1ef5c431a",
   "metadata": {},
   "outputs": [
    {
     "name": "stdout",
     "output_type": "stream",
     "text": [
      "Consumer Price Index item     object\n",
      "Year                           int64\n",
      "Percent change               float64\n",
      "dtype: object\n"
     ]
    }
   ],
   "source": [
    "print(Groceries_sales_df.dtypes)"
   ]
  },
  {
   "cell_type": "code",
   "execution_count": 721,
   "id": "1ba58995-a66b-4155-929e-721889c963e2",
   "metadata": {},
   "outputs": [
    {
     "data": {
      "text/html": [
       "<div>\n",
       "<style scoped>\n",
       "    .dataframe tbody tr th:only-of-type {\n",
       "        vertical-align: middle;\n",
       "    }\n",
       "\n",
       "    .dataframe tbody tr th {\n",
       "        vertical-align: top;\n",
       "    }\n",
       "\n",
       "    .dataframe thead th {\n",
       "        text-align: right;\n",
       "    }\n",
       "</style>\n",
       "<table border=\"1\" class=\"dataframe\">\n",
       "  <thead>\n",
       "    <tr style=\"text-align: right;\">\n",
       "      <th></th>\n",
       "      <th>Consumer Price Index item</th>\n",
       "      <th>Year</th>\n",
       "      <th>Percent change</th>\n",
       "    </tr>\n",
       "  </thead>\n",
       "  <tbody>\n",
       "    <tr>\n",
       "      <th>194</th>\n",
       "      <td>Meats, poultry, and fish</td>\n",
       "      <td>2018</td>\n",
       "      <td>0.7</td>\n",
       "    </tr>\n",
       "    <tr>\n",
       "      <th>195</th>\n",
       "      <td>Meats, poultry, and fish</td>\n",
       "      <td>2019</td>\n",
       "      <td>1.0</td>\n",
       "    </tr>\n",
       "    <tr>\n",
       "      <th>196</th>\n",
       "      <td>Meats, poultry, and fish</td>\n",
       "      <td>2020</td>\n",
       "      <td>6.3</td>\n",
       "    </tr>\n",
       "    <tr>\n",
       "      <th>197</th>\n",
       "      <td>Meats, poultry, and fish</td>\n",
       "      <td>2021</td>\n",
       "      <td>6.8</td>\n",
       "    </tr>\n",
       "    <tr>\n",
       "      <th>198</th>\n",
       "      <td>Meats, poultry, and fish</td>\n",
       "      <td>2022</td>\n",
       "      <td>9.6</td>\n",
       "    </tr>\n",
       "  </tbody>\n",
       "</table>\n",
       "</div>"
      ],
      "text/plain": [
       "    Consumer Price Index item  Year  Percent change\n",
       "194  Meats, poultry, and fish  2018             0.7\n",
       "195  Meats, poultry, and fish  2019             1.0\n",
       "196  Meats, poultry, and fish  2020             6.3\n",
       "197  Meats, poultry, and fish  2021             6.8\n",
       "198  Meats, poultry, and fish  2022             9.6"
      ]
     },
     "execution_count": 721,
     "metadata": {},
     "output_type": "execute_result"
    }
   ],
   "source": [
    "# Drop rows where 'Consumer Price Index item' is 'All food' or 'Other foods'\n",
    "Groceries_sales_df = Groceries_sales_df[~Groceries_sales_df['Consumer Price Index item'].isin(['All food', 'Food away from home','Food at home'\t, 'Other foods'])]\n",
    "Groceries_sales_df = Groceries_sales_df[Groceries_sales_df['Year'] >= 2018]\n",
    "# Display the updated DataFrame\n",
    "Groceries_sales_df.head()\n"
   ]
  },
  {
   "cell_type": "code",
   "execution_count": 723,
   "id": "e0d93c88-ac7e-41b4-85f1-bdb635796b46",
   "metadata": {},
   "outputs": [],
   "source": [
    "sales_df = pd.merge(Groceries_sales_df, Inflation_Rate_df, \n",
    "                              left_on='Year', right_on='Year', how='left')\n"
   ]
  },
  {
   "cell_type": "code",
   "execution_count": 725,
   "id": "8f949384-b6e3-4eb6-9f2b-bd270172dfa0",
   "metadata": {},
   "outputs": [
    {
     "data": {
      "text/html": [
       "<div>\n",
       "<style scoped>\n",
       "    .dataframe tbody tr th:only-of-type {\n",
       "        vertical-align: middle;\n",
       "    }\n",
       "\n",
       "    .dataframe tbody tr th {\n",
       "        vertical-align: top;\n",
       "    }\n",
       "\n",
       "    .dataframe thead th {\n",
       "        text-align: right;\n",
       "    }\n",
       "</style>\n",
       "<table border=\"1\" class=\"dataframe\">\n",
       "  <thead>\n",
       "    <tr style=\"text-align: right;\">\n",
       "      <th></th>\n",
       "      <th>Consumer Price Index item</th>\n",
       "      <th>Year</th>\n",
       "      <th>Percent change</th>\n",
       "      <th>Inflation Rate YOY, From Previous Dec.</th>\n",
       "      <th>Federal Funds Rate</th>\n",
       "      <th>Business Cycle*</th>\n",
       "      <th>Events Affecting Inflation</th>\n",
       "    </tr>\n",
       "  </thead>\n",
       "  <tbody>\n",
       "    <tr>\n",
       "      <th>0</th>\n",
       "      <td>Meats, poultry, and fish</td>\n",
       "      <td>2018</td>\n",
       "      <td>0.7</td>\n",
       "      <td>1.90%</td>\n",
       "      <td>2.50%</td>\n",
       "      <td>Expansion (3.0%)</td>\n",
       "      <td>NaN</td>\n",
       "    </tr>\n",
       "    <tr>\n",
       "      <th>1</th>\n",
       "      <td>Meats, poultry, and fish</td>\n",
       "      <td>2019</td>\n",
       "      <td>1.0</td>\n",
       "      <td>2.30%</td>\n",
       "      <td>1.75%</td>\n",
       "      <td>Expansion (2.5%)</td>\n",
       "      <td>NaN</td>\n",
       "    </tr>\n",
       "    <tr>\n",
       "      <th>2</th>\n",
       "      <td>Meats, poultry, and fish</td>\n",
       "      <td>2020</td>\n",
       "      <td>6.3</td>\n",
       "      <td>1.40%</td>\n",
       "      <td>0.25%</td>\n",
       "      <td>Contraction (-2.2%)</td>\n",
       "      <td>COVID-19 pandemic</td>\n",
       "    </tr>\n",
       "    <tr>\n",
       "      <th>3</th>\n",
       "      <td>Meats, poultry, and fish</td>\n",
       "      <td>2021</td>\n",
       "      <td>6.8</td>\n",
       "      <td>7.00%</td>\n",
       "      <td>0.25%</td>\n",
       "      <td>Expansion (5.8%)</td>\n",
       "      <td>COVID-19 pandemic</td>\n",
       "    </tr>\n",
       "    <tr>\n",
       "      <th>4</th>\n",
       "      <td>Meats, poultry, and fish</td>\n",
       "      <td>2022</td>\n",
       "      <td>9.6</td>\n",
       "      <td>6.50%</td>\n",
       "      <td>4.50%</td>\n",
       "      <td>Expansion (1.9%)</td>\n",
       "      <td>Russia invades Ukraine</td>\n",
       "    </tr>\n",
       "    <tr>\n",
       "      <th>...</th>\n",
       "      <td>...</td>\n",
       "      <td>...</td>\n",
       "      <td>...</td>\n",
       "      <td>...</td>\n",
       "      <td>...</td>\n",
       "      <td>...</td>\n",
       "      <td>...</td>\n",
       "    </tr>\n",
       "    <tr>\n",
       "      <th>103</th>\n",
       "      <td>Nonalcoholic beverages</td>\n",
       "      <td>2019</td>\n",
       "      <td>1.9</td>\n",
       "      <td>2.30%</td>\n",
       "      <td>1.75%</td>\n",
       "      <td>Expansion (2.5%)</td>\n",
       "      <td>NaN</td>\n",
       "    </tr>\n",
       "    <tr>\n",
       "      <th>104</th>\n",
       "      <td>Nonalcoholic beverages</td>\n",
       "      <td>2020</td>\n",
       "      <td>3.6</td>\n",
       "      <td>1.40%</td>\n",
       "      <td>0.25%</td>\n",
       "      <td>Contraction (-2.2%)</td>\n",
       "      <td>COVID-19 pandemic</td>\n",
       "    </tr>\n",
       "    <tr>\n",
       "      <th>105</th>\n",
       "      <td>Nonalcoholic beverages</td>\n",
       "      <td>2021</td>\n",
       "      <td>2.8</td>\n",
       "      <td>7.00%</td>\n",
       "      <td>0.25%</td>\n",
       "      <td>Expansion (5.8%)</td>\n",
       "      <td>COVID-19 pandemic</td>\n",
       "    </tr>\n",
       "    <tr>\n",
       "      <th>106</th>\n",
       "      <td>Nonalcoholic beverages</td>\n",
       "      <td>2022</td>\n",
       "      <td>11.0</td>\n",
       "      <td>6.50%</td>\n",
       "      <td>4.50%</td>\n",
       "      <td>Expansion (1.9%)</td>\n",
       "      <td>Russia invades Ukraine</td>\n",
       "    </tr>\n",
       "    <tr>\n",
       "      <th>107</th>\n",
       "      <td>Nonalcoholic beverages</td>\n",
       "      <td>2023</td>\n",
       "      <td>7.0</td>\n",
       "      <td>3.40%</td>\n",
       "      <td>5.50%</td>\n",
       "      <td>Expansion (2.5%)</td>\n",
       "      <td>Fed raised rates</td>\n",
       "    </tr>\n",
       "  </tbody>\n",
       "</table>\n",
       "<p>108 rows × 7 columns</p>\n",
       "</div>"
      ],
      "text/plain": [
       "    Consumer Price Index item  Year  Percent change  \\\n",
       "0    Meats, poultry, and fish  2018             0.7   \n",
       "1    Meats, poultry, and fish  2019             1.0   \n",
       "2    Meats, poultry, and fish  2020             6.3   \n",
       "3    Meats, poultry, and fish  2021             6.8   \n",
       "4    Meats, poultry, and fish  2022             9.6   \n",
       "..                        ...   ...             ...   \n",
       "103    Nonalcoholic beverages  2019             1.9   \n",
       "104    Nonalcoholic beverages  2020             3.6   \n",
       "105    Nonalcoholic beverages  2021             2.8   \n",
       "106    Nonalcoholic beverages  2022            11.0   \n",
       "107    Nonalcoholic beverages  2023             7.0   \n",
       "\n",
       "    Inflation Rate YOY, From Previous Dec. Federal Funds Rate  \\\n",
       "0                                    1.90%              2.50%   \n",
       "1                                    2.30%              1.75%   \n",
       "2                                    1.40%              0.25%   \n",
       "3                                    7.00%              0.25%   \n",
       "4                                    6.50%              4.50%   \n",
       "..                                     ...                ...   \n",
       "103                                  2.30%              1.75%   \n",
       "104                                  1.40%              0.25%   \n",
       "105                                  7.00%              0.25%   \n",
       "106                                  6.50%              4.50%   \n",
       "107                                  3.40%              5.50%   \n",
       "\n",
       "         Business Cycle* Events Affecting Inflation  \n",
       "0       Expansion (3.0%)                        NaN  \n",
       "1       Expansion (2.5%)                        NaN  \n",
       "2    Contraction (-2.2%)          COVID-19 pandemic  \n",
       "3       Expansion (5.8%)          COVID-19 pandemic  \n",
       "4       Expansion (1.9%)     Russia invades Ukraine  \n",
       "..                   ...                        ...  \n",
       "103     Expansion (2.5%)                        NaN  \n",
       "104  Contraction (-2.2%)          COVID-19 pandemic  \n",
       "105     Expansion (5.8%)          COVID-19 pandemic  \n",
       "106     Expansion (1.9%)     Russia invades Ukraine  \n",
       "107     Expansion (2.5%)           Fed raised rates  \n",
       "\n",
       "[108 rows x 7 columns]"
      ]
     },
     "execution_count": 725,
     "metadata": {},
     "output_type": "execute_result"
    }
   ],
   "source": [
    "sales_df"
   ]
  },
  {
   "cell_type": "code",
   "execution_count": 727,
   "id": "22112de3-e1a4-43ea-913f-23d8145618df",
   "metadata": {},
   "outputs": [
    {
     "name": "stdout",
     "output_type": "stream",
     "text": [
      "<class 'pandas.core.frame.DataFrame'>\n",
      "Index: 108 entries, 194 to 1049\n",
      "Data columns (total 3 columns):\n",
      " #   Column                     Non-Null Count  Dtype  \n",
      "---  ------                     --------------  -----  \n",
      " 0   Consumer Price Index item  108 non-null    object \n",
      " 1   Year                       108 non-null    int64  \n",
      " 2   Percent change             108 non-null    float64\n",
      "dtypes: float64(1), int64(1), object(1)\n",
      "memory usage: 3.4+ KB\n"
     ]
    }
   ],
   "source": [
    "Groceries_sales_df.info()"
   ]
  },
  {
   "cell_type": "code",
   "execution_count": 729,
   "id": "a10c89a7-f31b-411e-9750-f6f9db723819",
   "metadata": {},
   "outputs": [
    {
     "data": {
      "text/plain": [
       "Consumer Price Index item                  0\n",
       "Year                                       0\n",
       "Percent change                             0\n",
       "Inflation Rate YOY, From Previous Dec.     0\n",
       "Federal Funds Rate                         0\n",
       "Business Cycle*                            0\n",
       "Events Affecting Inflation                36\n",
       "dtype: int64"
      ]
     },
     "execution_count": 729,
     "metadata": {},
     "output_type": "execute_result"
    }
   ],
   "source": [
    "sales_df.isnull().sum()"
   ]
  },
  {
   "cell_type": "code",
   "execution_count": 731,
   "id": "337e0083-4310-42df-a0bf-8dc75e4ea27b",
   "metadata": {},
   "outputs": [],
   "source": [
    "sales_df.dropna(inplace=True)"
   ]
  },
  {
   "cell_type": "code",
   "execution_count": 733,
   "id": "4bf0bf91-a0e4-45e2-a3c7-27c469ca3e48",
   "metadata": {},
   "outputs": [
    {
     "data": {
      "text/plain": [
       "Consumer Price Index item                 0\n",
       "Year                                      0\n",
       "Percent change                            0\n",
       "Inflation Rate YOY, From Previous Dec.    0\n",
       "Federal Funds Rate                        0\n",
       "Business Cycle*                           0\n",
       "Events Affecting Inflation                0\n",
       "dtype: int64"
      ]
     },
     "execution_count": 733,
     "metadata": {},
     "output_type": "execute_result"
    }
   ],
   "source": [
    "sales_df.isnull().sum()"
   ]
  },
  {
   "cell_type": "code",
   "execution_count": 735,
   "id": "fe1c72c3-5fb5-4460-b795-3de329b33515",
   "metadata": {},
   "outputs": [
    {
     "data": {
      "text/html": [
       "<div>\n",
       "<style scoped>\n",
       "    .dataframe tbody tr th:only-of-type {\n",
       "        vertical-align: middle;\n",
       "    }\n",
       "\n",
       "    .dataframe tbody tr th {\n",
       "        vertical-align: top;\n",
       "    }\n",
       "\n",
       "    .dataframe thead th {\n",
       "        text-align: right;\n",
       "    }\n",
       "</style>\n",
       "<table border=\"1\" class=\"dataframe\">\n",
       "  <thead>\n",
       "    <tr style=\"text-align: right;\">\n",
       "      <th></th>\n",
       "      <th>Consumer Price Index item</th>\n",
       "      <th>Year</th>\n",
       "      <th>Percent change</th>\n",
       "      <th>Inflation Rate YOY, From Previous Dec.</th>\n",
       "      <th>Federal Funds Rate</th>\n",
       "      <th>Business Cycle*</th>\n",
       "      <th>Events Affecting Inflation</th>\n",
       "    </tr>\n",
       "  </thead>\n",
       "  <tbody>\n",
       "    <tr>\n",
       "      <th>2</th>\n",
       "      <td>Meats, poultry, and fish</td>\n",
       "      <td>2020</td>\n",
       "      <td>6.3</td>\n",
       "      <td>1.40%</td>\n",
       "      <td>0.25%</td>\n",
       "      <td>Contraction (-2.2%)</td>\n",
       "      <td>COVID-19 pandemic</td>\n",
       "    </tr>\n",
       "    <tr>\n",
       "      <th>3</th>\n",
       "      <td>Meats, poultry, and fish</td>\n",
       "      <td>2021</td>\n",
       "      <td>6.8</td>\n",
       "      <td>7.00%</td>\n",
       "      <td>0.25%</td>\n",
       "      <td>Expansion (5.8%)</td>\n",
       "      <td>COVID-19 pandemic</td>\n",
       "    </tr>\n",
       "    <tr>\n",
       "      <th>4</th>\n",
       "      <td>Meats, poultry, and fish</td>\n",
       "      <td>2022</td>\n",
       "      <td>9.6</td>\n",
       "      <td>6.50%</td>\n",
       "      <td>4.50%</td>\n",
       "      <td>Expansion (1.9%)</td>\n",
       "      <td>Russia invades Ukraine</td>\n",
       "    </tr>\n",
       "    <tr>\n",
       "      <th>5</th>\n",
       "      <td>Meats, poultry, and fish</td>\n",
       "      <td>2023</td>\n",
       "      <td>2.0</td>\n",
       "      <td>3.40%</td>\n",
       "      <td>5.50%</td>\n",
       "      <td>Expansion (2.5%)</td>\n",
       "      <td>Fed raised rates</td>\n",
       "    </tr>\n",
       "    <tr>\n",
       "      <th>8</th>\n",
       "      <td>Meats</td>\n",
       "      <td>2020</td>\n",
       "      <td>7.4</td>\n",
       "      <td>1.40%</td>\n",
       "      <td>0.25%</td>\n",
       "      <td>Contraction (-2.2%)</td>\n",
       "      <td>COVID-19 pandemic</td>\n",
       "    </tr>\n",
       "    <tr>\n",
       "      <th>...</th>\n",
       "      <td>...</td>\n",
       "      <td>...</td>\n",
       "      <td>...</td>\n",
       "      <td>...</td>\n",
       "      <td>...</td>\n",
       "      <td>...</td>\n",
       "      <td>...</td>\n",
       "    </tr>\n",
       "    <tr>\n",
       "      <th>101</th>\n",
       "      <td>Cereals and bakery products</td>\n",
       "      <td>2023</td>\n",
       "      <td>8.4</td>\n",
       "      <td>3.40%</td>\n",
       "      <td>5.50%</td>\n",
       "      <td>Expansion (2.5%)</td>\n",
       "      <td>Fed raised rates</td>\n",
       "    </tr>\n",
       "    <tr>\n",
       "      <th>104</th>\n",
       "      <td>Nonalcoholic beverages</td>\n",
       "      <td>2020</td>\n",
       "      <td>3.6</td>\n",
       "      <td>1.40%</td>\n",
       "      <td>0.25%</td>\n",
       "      <td>Contraction (-2.2%)</td>\n",
       "      <td>COVID-19 pandemic</td>\n",
       "    </tr>\n",
       "    <tr>\n",
       "      <th>105</th>\n",
       "      <td>Nonalcoholic beverages</td>\n",
       "      <td>2021</td>\n",
       "      <td>2.8</td>\n",
       "      <td>7.00%</td>\n",
       "      <td>0.25%</td>\n",
       "      <td>Expansion (5.8%)</td>\n",
       "      <td>COVID-19 pandemic</td>\n",
       "    </tr>\n",
       "    <tr>\n",
       "      <th>106</th>\n",
       "      <td>Nonalcoholic beverages</td>\n",
       "      <td>2022</td>\n",
       "      <td>11.0</td>\n",
       "      <td>6.50%</td>\n",
       "      <td>4.50%</td>\n",
       "      <td>Expansion (1.9%)</td>\n",
       "      <td>Russia invades Ukraine</td>\n",
       "    </tr>\n",
       "    <tr>\n",
       "      <th>107</th>\n",
       "      <td>Nonalcoholic beverages</td>\n",
       "      <td>2023</td>\n",
       "      <td>7.0</td>\n",
       "      <td>3.40%</td>\n",
       "      <td>5.50%</td>\n",
       "      <td>Expansion (2.5%)</td>\n",
       "      <td>Fed raised rates</td>\n",
       "    </tr>\n",
       "  </tbody>\n",
       "</table>\n",
       "<p>72 rows × 7 columns</p>\n",
       "</div>"
      ],
      "text/plain": [
       "       Consumer Price Index item  Year  Percent change  \\\n",
       "2       Meats, poultry, and fish  2020             6.3   \n",
       "3       Meats, poultry, and fish  2021             6.8   \n",
       "4       Meats, poultry, and fish  2022             9.6   \n",
       "5       Meats, poultry, and fish  2023             2.0   \n",
       "8                          Meats  2020             7.4   \n",
       "..                           ...   ...             ...   \n",
       "101  Cereals and bakery products  2023             8.4   \n",
       "104       Nonalcoholic beverages  2020             3.6   \n",
       "105       Nonalcoholic beverages  2021             2.8   \n",
       "106       Nonalcoholic beverages  2022            11.0   \n",
       "107       Nonalcoholic beverages  2023             7.0   \n",
       "\n",
       "    Inflation Rate YOY, From Previous Dec. Federal Funds Rate  \\\n",
       "2                                    1.40%              0.25%   \n",
       "3                                    7.00%              0.25%   \n",
       "4                                    6.50%              4.50%   \n",
       "5                                    3.40%              5.50%   \n",
       "8                                    1.40%              0.25%   \n",
       "..                                     ...                ...   \n",
       "101                                  3.40%              5.50%   \n",
       "104                                  1.40%              0.25%   \n",
       "105                                  7.00%              0.25%   \n",
       "106                                  6.50%              4.50%   \n",
       "107                                  3.40%              5.50%   \n",
       "\n",
       "         Business Cycle* Events Affecting Inflation  \n",
       "2    Contraction (-2.2%)          COVID-19 pandemic  \n",
       "3       Expansion (5.8%)          COVID-19 pandemic  \n",
       "4       Expansion (1.9%)     Russia invades Ukraine  \n",
       "5       Expansion (2.5%)           Fed raised rates  \n",
       "8    Contraction (-2.2%)          COVID-19 pandemic  \n",
       "..                   ...                        ...  \n",
       "101     Expansion (2.5%)           Fed raised rates  \n",
       "104  Contraction (-2.2%)          COVID-19 pandemic  \n",
       "105     Expansion (5.8%)          COVID-19 pandemic  \n",
       "106     Expansion (1.9%)     Russia invades Ukraine  \n",
       "107     Expansion (2.5%)           Fed raised rates  \n",
       "\n",
       "[72 rows x 7 columns]"
      ]
     },
     "execution_count": 735,
     "metadata": {},
     "output_type": "execute_result"
    }
   ],
   "source": [
    "sales_df"
   ]
  },
  {
   "cell_type": "code",
   "execution_count": 737,
   "id": "de52ba58-62a7-4d31-a702-1a42858cee87",
   "metadata": {},
   "outputs": [
    {
     "data": {
      "text/plain": [
       "Index(['Consumer Price Index item', 'Year', 'Percent change',\n",
       "       'Inflation Rate YOY, From Previous Dec.', 'Federal Funds Rate',\n",
       "       'Business Cycle*', 'Events Affecting Inflation'],\n",
       "      dtype='object')"
      ]
     },
     "execution_count": 737,
     "metadata": {},
     "output_type": "execute_result"
    }
   ],
   "source": [
    "sales_df.columns"
   ]
  },
  {
   "cell_type": "code",
   "execution_count": 739,
   "id": "6c128c36-bf8e-401c-abf6-334b2680872d",
   "metadata": {},
   "outputs": [
    {
     "data": {
      "text/plain": [
       "Index(['Consumer Price Index item', 'Year', 'Percent change',\n",
       "       'Inflation Rate YOY, From Previous Dec.', 'Federal Funds Rate',\n",
       "       'Business Cycle*', 'Events Affecting Inflation'],\n",
       "      dtype='object')"
      ]
     },
     "execution_count": 739,
     "metadata": {},
     "output_type": "execute_result"
    }
   ],
   "source": [
    "sales_df.columns"
   ]
  },
  {
   "cell_type": "code",
   "execution_count": 741,
   "id": "f8f8be01-65ee-4c42-a505-c595a109a60a",
   "metadata": {},
   "outputs": [],
   "source": [
    "# Rename remaining columns for clarity\n",
    "sales_df.rename(columns={\n",
    "    'Inflation Rate YOY, From Previous Dec.': 'Inflation Rate YOY From Previous Dec', \n",
    "    'Federal Funds Rate_x': 'Federal Funds Rate', \n",
    "    'Business Cycle*_x': 'Business Cycle*', \n",
    "    'Events Affecting Inflation_x': 'Events Affecting Inflation'\n",
    "    ,'Consumer Price Index item':'item'\n",
    "}, inplace=True)\n",
    "\n"
   ]
  },
  {
   "cell_type": "code",
   "execution_count": 510,
   "id": "243f56c6-3cc3-4bcf-9a28-d9657102d32f",
   "metadata": {},
   "outputs": [
    {
     "data": {
      "text/plain": [
       "Index(['item', 'Year', 'Percent change',\n",
       "       'Inflation Rate YOY From Previous Dec', 'Federal Funds Rate',\n",
       "       'Business Cycle*', 'Events Affecting Inflation'],\n",
       "      dtype='object')"
      ]
     },
     "execution_count": 510,
     "metadata": {},
     "output_type": "execute_result"
    }
   ],
   "source": [
    "sales_df.columns"
   ]
  },
  {
   "cell_type": "code",
   "execution_count": 512,
   "id": "2a1dbf06-5d20-4c5d-9ca5-4128a06ad4f9",
   "metadata": {},
   "outputs": [
    {
     "data": {
      "text/html": [
       "<div>\n",
       "<style scoped>\n",
       "    .dataframe tbody tr th:only-of-type {\n",
       "        vertical-align: middle;\n",
       "    }\n",
       "\n",
       "    .dataframe tbody tr th {\n",
       "        vertical-align: top;\n",
       "    }\n",
       "\n",
       "    .dataframe thead th {\n",
       "        text-align: right;\n",
       "    }\n",
       "</style>\n",
       "<table border=\"1\" class=\"dataframe\">\n",
       "  <thead>\n",
       "    <tr style=\"text-align: right;\">\n",
       "      <th></th>\n",
       "      <th>item</th>\n",
       "      <th>Year</th>\n",
       "      <th>Percent change</th>\n",
       "      <th>Inflation Rate YOY From Previous Dec</th>\n",
       "      <th>Federal Funds Rate</th>\n",
       "      <th>Business Cycle*</th>\n",
       "      <th>Events Affecting Inflation</th>\n",
       "    </tr>\n",
       "  </thead>\n",
       "  <tbody>\n",
       "    <tr>\n",
       "      <th>0</th>\n",
       "      <td>All food</td>\n",
       "      <td>1974</td>\n",
       "      <td>14.3</td>\n",
       "      <td>12.30%</td>\n",
       "      <td>8.00%</td>\n",
       "      <td>Contraction (-0.5%)</td>\n",
       "      <td>Watergate scandal</td>\n",
       "    </tr>\n",
       "    <tr>\n",
       "      <th>1</th>\n",
       "      <td>All food</td>\n",
       "      <td>1975</td>\n",
       "      <td>8.5</td>\n",
       "      <td>6.90%</td>\n",
       "      <td>4.75%</td>\n",
       "      <td>March trough (-0.2%)</td>\n",
       "      <td>Stopgap monetary policy confused businesses an...</td>\n",
       "    </tr>\n",
       "    <tr>\n",
       "      <th>6</th>\n",
       "      <td>All food</td>\n",
       "      <td>1980</td>\n",
       "      <td>8.6</td>\n",
       "      <td>12.50%</td>\n",
       "      <td>18.00%</td>\n",
       "      <td>January peak (-0.3%)</td>\n",
       "      <td>Recession began</td>\n",
       "    </tr>\n",
       "    <tr>\n",
       "      <th>7</th>\n",
       "      <td>All food</td>\n",
       "      <td>1981</td>\n",
       "      <td>7.8</td>\n",
       "      <td>8.90%</td>\n",
       "      <td>12.00%</td>\n",
       "      <td>July trough (2.5%)</td>\n",
       "      <td>Reagan tax cut</td>\n",
       "    </tr>\n",
       "    <tr>\n",
       "      <th>8</th>\n",
       "      <td>All food</td>\n",
       "      <td>1982</td>\n",
       "      <td>4.1</td>\n",
       "      <td>3.80%</td>\n",
       "      <td>8.50%</td>\n",
       "      <td>Contraction (-1.8%)</td>\n",
       "      <td>Recession ended</td>\n",
       "    </tr>\n",
       "  </tbody>\n",
       "</table>\n",
       "</div>"
      ],
      "text/plain": [
       "       item  Year  Percent change Inflation Rate YOY From Previous Dec  \\\n",
       "0  All food  1974            14.3                               12.30%   \n",
       "1  All food  1975             8.5                                6.90%   \n",
       "6  All food  1980             8.6                               12.50%   \n",
       "7  All food  1981             7.8                                8.90%   \n",
       "8  All food  1982             4.1                                3.80%   \n",
       "\n",
       "  Federal Funds Rate       Business Cycle*  \\\n",
       "0              8.00%   Contraction (-0.5%)   \n",
       "1              4.75%  March trough (-0.2%)   \n",
       "6             18.00%  January peak (-0.3%)   \n",
       "7             12.00%    July trough (2.5%)   \n",
       "8              8.50%   Contraction (-1.8%)   \n",
       "\n",
       "                          Events Affecting Inflation  \n",
       "0                                  Watergate scandal  \n",
       "1  Stopgap monetary policy confused businesses an...  \n",
       "6                                    Recession began  \n",
       "7                                     Reagan tax cut  \n",
       "8                                    Recession ended  "
      ]
     },
     "execution_count": 512,
     "metadata": {},
     "output_type": "execute_result"
    }
   ],
   "source": [
    "sales_df.head()"
   ]
  },
  {
   "cell_type": "code",
   "execution_count": 514,
   "id": "e897caba-f460-43e1-a8ec-b0975e83d70f",
   "metadata": {
    "scrolled": true
   },
   "outputs": [
    {
     "data": {
      "text/html": [
       "<div>\n",
       "<style scoped>\n",
       "    .dataframe tbody tr th:only-of-type {\n",
       "        vertical-align: middle;\n",
       "    }\n",
       "\n",
       "    .dataframe tbody tr th {\n",
       "        vertical-align: top;\n",
       "    }\n",
       "\n",
       "    .dataframe thead th {\n",
       "        text-align: right;\n",
       "    }\n",
       "</style>\n",
       "<table border=\"1\" class=\"dataframe\">\n",
       "  <thead>\n",
       "    <tr style=\"text-align: right;\">\n",
       "      <th></th>\n",
       "      <th>Date</th>\n",
       "      <th>State</th>\n",
       "      <th>Category</th>\n",
       "      <th>Variable</th>\n",
       "      <th>Value</th>\n",
       "    </tr>\n",
       "  </thead>\n",
       "  <tbody>\n",
       "    <tr>\n",
       "      <th>0</th>\n",
       "      <td>2019-10-06</td>\n",
       "      <td>Alabama</td>\n",
       "      <td>Alcohol</td>\n",
       "      <td>Dollars</td>\n",
       "      <td>23611285.0</td>\n",
       "    </tr>\n",
       "    <tr>\n",
       "      <th>1</th>\n",
       "      <td>2019-10-13</td>\n",
       "      <td>Alabama</td>\n",
       "      <td>Alcohol</td>\n",
       "      <td>Dollars</td>\n",
       "      <td>23220758.0</td>\n",
       "    </tr>\n",
       "    <tr>\n",
       "      <th>2</th>\n",
       "      <td>2019-10-20</td>\n",
       "      <td>Alabama</td>\n",
       "      <td>Alcohol</td>\n",
       "      <td>Dollars</td>\n",
       "      <td>21770283.0</td>\n",
       "    </tr>\n",
       "    <tr>\n",
       "      <th>3</th>\n",
       "      <td>2019-10-27</td>\n",
       "      <td>Alabama</td>\n",
       "      <td>Alcohol</td>\n",
       "      <td>Dollars</td>\n",
       "      <td>21956558.0</td>\n",
       "    </tr>\n",
       "    <tr>\n",
       "      <th>4</th>\n",
       "      <td>2019-11-03</td>\n",
       "      <td>Alabama</td>\n",
       "      <td>Alcohol</td>\n",
       "      <td>Dollars</td>\n",
       "      <td>23183482.0</td>\n",
       "    </tr>\n",
       "  </tbody>\n",
       "</table>\n",
       "</div>"
      ],
      "text/plain": [
       "         Date    State Category Variable       Value\n",
       "0  2019-10-06  Alabama  Alcohol  Dollars  23611285.0\n",
       "1  2019-10-13  Alabama  Alcohol  Dollars  23220758.0\n",
       "2  2019-10-20  Alabama  Alcohol  Dollars  21770283.0\n",
       "3  2019-10-27  Alabama  Alcohol  Dollars  21956558.0\n",
       "4  2019-11-03  Alabama  Alcohol  Dollars  23183482.0"
      ]
     },
     "execution_count": 514,
     "metadata": {},
     "output_type": "execute_result"
    }
   ],
   "source": [
    "\n",
    "retail_sales_df.head()"
   ]
  },
  {
   "cell_type": "code",
   "execution_count": 743,
   "id": "2b728487-0ffc-4939-a17e-cf55d1917bbc",
   "metadata": {},
   "outputs": [
    {
     "data": {
      "text/html": [
       "<div>\n",
       "<style scoped>\n",
       "    .dataframe tbody tr th:only-of-type {\n",
       "        vertical-align: middle;\n",
       "    }\n",
       "\n",
       "    .dataframe tbody tr th {\n",
       "        vertical-align: top;\n",
       "    }\n",
       "\n",
       "    .dataframe thead th {\n",
       "        text-align: right;\n",
       "    }\n",
       "</style>\n",
       "<table border=\"1\" class=\"dataframe\">\n",
       "  <thead>\n",
       "    <tr style=\"text-align: right;\">\n",
       "      <th></th>\n",
       "      <th>Date</th>\n",
       "      <th>State</th>\n",
       "      <th>Category</th>\n",
       "      <th>Variable</th>\n",
       "      <th>Price</th>\n",
       "    </tr>\n",
       "  </thead>\n",
       "  <tbody>\n",
       "    <tr>\n",
       "      <th>0</th>\n",
       "      <td>2019-10-06</td>\n",
       "      <td>Alabama</td>\n",
       "      <td>Alcohol</td>\n",
       "      <td>Dollars</td>\n",
       "      <td>23611285.0</td>\n",
       "    </tr>\n",
       "    <tr>\n",
       "      <th>1</th>\n",
       "      <td>2019-10-13</td>\n",
       "      <td>Alabama</td>\n",
       "      <td>Alcohol</td>\n",
       "      <td>Dollars</td>\n",
       "      <td>23220758.0</td>\n",
       "    </tr>\n",
       "    <tr>\n",
       "      <th>2</th>\n",
       "      <td>2019-10-20</td>\n",
       "      <td>Alabama</td>\n",
       "      <td>Alcohol</td>\n",
       "      <td>Dollars</td>\n",
       "      <td>21770283.0</td>\n",
       "    </tr>\n",
       "    <tr>\n",
       "      <th>3</th>\n",
       "      <td>2019-10-27</td>\n",
       "      <td>Alabama</td>\n",
       "      <td>Alcohol</td>\n",
       "      <td>Dollars</td>\n",
       "      <td>21956558.0</td>\n",
       "    </tr>\n",
       "    <tr>\n",
       "      <th>4</th>\n",
       "      <td>2019-11-03</td>\n",
       "      <td>Alabama</td>\n",
       "      <td>Alcohol</td>\n",
       "      <td>Dollars</td>\n",
       "      <td>23183482.0</td>\n",
       "    </tr>\n",
       "  </tbody>\n",
       "</table>\n",
       "</div>"
      ],
      "text/plain": [
       "         Date    State Category Variable       Price\n",
       "0  2019-10-06  Alabama  Alcohol  Dollars  23611285.0\n",
       "1  2019-10-13  Alabama  Alcohol  Dollars  23220758.0\n",
       "2  2019-10-20  Alabama  Alcohol  Dollars  21770283.0\n",
       "3  2019-10-27  Alabama  Alcohol  Dollars  21956558.0\n",
       "4  2019-11-03  Alabama  Alcohol  Dollars  23183482.0"
      ]
     },
     "execution_count": 743,
     "metadata": {},
     "output_type": "execute_result"
    }
   ],
   "source": [
    "# Rename the 'Value' column to 'Price'\n",
    "retail_sales_df.rename(columns={\"Value\": \"Price\"}, inplace=True)\n",
    "\n",
    "# Display the updated DataFrame\n",
    "retail_sales_df.head()\n"
   ]
  },
  {
   "cell_type": "code",
   "execution_count": 745,
   "id": "7b0ba45c-6036-4b51-8eee-4cbfd4255391",
   "metadata": {},
   "outputs": [
    {
     "data": {
      "text/plain": [
       "Date             0\n",
       "State            0\n",
       "Category         0\n",
       "Variable         0\n",
       "Price       199066\n",
       "dtype: int64"
      ]
     },
     "execution_count": 745,
     "metadata": {},
     "output_type": "execute_result"
    }
   ],
   "source": [
    "retail_sales_df.isnull().sum()"
   ]
  },
  {
   "cell_type": "code",
   "execution_count": 747,
   "id": "60fd5e0c-21b6-43d5-a129-18c883a1a227",
   "metadata": {},
   "outputs": [
    {
     "name": "stdout",
     "output_type": "stream",
     "text": [
      "Index(['Date', 'State', 'Category', 'Variable', 'Price'], dtype='object')\n"
     ]
    }
   ],
   "source": [
    "\n",
    "print(retail_sales_df.columns)"
   ]
  },
  {
   "cell_type": "code",
   "execution_count": 749,
   "id": "7b792a98-4358-41e8-805f-be31114e3596",
   "metadata": {},
   "outputs": [
    {
     "name": "stdout",
     "output_type": "stream",
     "text": [
      "<class 'pandas.core.frame.DataFrame'>\n",
      "RangeIndex: 889240 entries, 0 to 889239\n",
      "Data columns (total 5 columns):\n",
      " #   Column    Non-Null Count   Dtype  \n",
      "---  ------    --------------   -----  \n",
      " 0   Date      889240 non-null  object \n",
      " 1   State     889240 non-null  object \n",
      " 2   Category  889240 non-null  object \n",
      " 3   Variable  889240 non-null  object \n",
      " 4   Price     690174 non-null  float64\n",
      "dtypes: float64(1), object(4)\n",
      "memory usage: 33.9+ MB\n"
     ]
    }
   ],
   "source": [
    "retail_sales_df.info()"
   ]
  },
  {
   "cell_type": "code",
   "execution_count": 751,
   "id": "611ffa24-3575-4a53-8f5c-476a056271c2",
   "metadata": {},
   "outputs": [],
   "source": [
    "retail_sales_df.loc[:, 'Date'] = pd.to_datetime(retail_sales_df['Date'])\n"
   ]
  },
  {
   "cell_type": "code",
   "execution_count": 752,
   "id": "a303d103-c917-4722-932c-3b0ec84c220c",
   "metadata": {},
   "outputs": [
    {
     "name": "stdout",
     "output_type": "stream",
     "text": [
      "<class 'pandas.core.frame.DataFrame'>\n",
      "Index: 72 entries, 2 to 107\n",
      "Data columns (total 7 columns):\n",
      " #   Column                                Non-Null Count  Dtype  \n",
      "---  ------                                --------------  -----  \n",
      " 0   item                                  72 non-null     object \n",
      " 1   Year                                  72 non-null     int64  \n",
      " 2   Percent change                        72 non-null     float64\n",
      " 3   Inflation Rate YOY From Previous Dec  72 non-null     object \n",
      " 4   Federal Funds Rate                    72 non-null     object \n",
      " 5   Business Cycle*                       72 non-null     object \n",
      " 6   Events Affecting Inflation            72 non-null     object \n",
      "dtypes: float64(1), int64(1), object(5)\n",
      "memory usage: 4.5+ KB\n"
     ]
    }
   ],
   "source": [
    "sales_df.info()"
   ]
  },
  {
   "cell_type": "code",
   "execution_count": 753,
   "id": "3de3db51-63d7-4a0f-82d6-c490da9c7a0f",
   "metadata": {},
   "outputs": [],
   "source": [
    "\n",
    "retail_sales_df['Date'] = pd.to_datetime(retail_sales_df['Date'], errors='coerce')"
   ]
  },
  {
   "cell_type": "code",
   "execution_count": 757,
   "id": "2fbe788f-cda0-432c-9320-959219d404e5",
   "metadata": {},
   "outputs": [
    {
     "name": "stdout",
     "output_type": "stream",
     "text": [
      "Date        datetime64[ns]\n",
      "State               object\n",
      "Category            object\n",
      "Variable            object\n",
      "Price              float64\n",
      "dtype: object\n"
     ]
    }
   ],
   "source": [
    "print(retail_sales_df.dtypes)"
   ]
  },
  {
   "cell_type": "code",
   "execution_count": 759,
   "id": "ce397368-d365-47a8-99e2-0a75df7e9d37",
   "metadata": {},
   "outputs": [],
   "source": [
    "retail_sales_df['Year'] = retail_sales_df['Date'].dt.year"
   ]
  },
  {
   "cell_type": "code",
   "execution_count": 761,
   "id": "88aea945-2d9b-4fa7-9ab2-54b706fea5ff",
   "metadata": {},
   "outputs": [
    {
     "data": {
      "text/plain": [
       "array(['Alcohol', 'Beverages', 'Commercially prepared items', 'Dairy',\n",
       "       'Fats and oils', 'Fruits', 'Grains', 'Meats, eggs, and nuts',\n",
       "       'Other', 'Sugar and sweeteners', 'Vegetables'], dtype=object)"
      ]
     },
     "execution_count": 761,
     "metadata": {},
     "output_type": "execute_result"
    }
   ],
   "source": [
    "retail_sales_df['Category'].unique()\n"
   ]
  },
  {
   "cell_type": "code",
   "execution_count": 763,
   "id": "d43a4eaa-8368-418d-b029-ad414ff55239",
   "metadata": {},
   "outputs": [],
   "source": [
    "retail_sales_df = retail_sales_df[retail_sales_df['Category'] != 'Other']\n"
   ]
  },
  {
   "cell_type": "code",
   "execution_count": 765,
   "id": "e959ac54-8c49-470d-bf55-381d76dfadd3",
   "metadata": {},
   "outputs": [
    {
     "data": {
      "text/plain": [
       "array(['Alcohol', 'Beverages', 'Commercially prepared items', 'Dairy',\n",
       "       'Fats and oils', 'Fruits', 'Grains', 'Meats, eggs, and nuts',\n",
       "       'Sugar and sweeteners', 'Vegetables'], dtype=object)"
      ]
     },
     "execution_count": 765,
     "metadata": {},
     "output_type": "execute_result"
    }
   ],
   "source": [
    "retail_sales_df['Category'].unique()"
   ]
  },
  {
   "cell_type": "code",
   "execution_count": 767,
   "id": "500ab1a3-dd5a-41bf-8acf-6cf9247fb96a",
   "metadata": {},
   "outputs": [
    {
     "data": {
      "text/plain": [
       "Index(['item', 'Year', 'Percent change',\n",
       "       'Inflation Rate YOY From Previous Dec', 'Federal Funds Rate',\n",
       "       'Business Cycle*', 'Events Affecting Inflation'],\n",
       "      dtype='object')"
      ]
     },
     "execution_count": 767,
     "metadata": {},
     "output_type": "execute_result"
    }
   ],
   "source": [
    "sales_df.columns"
   ]
  },
  {
   "cell_type": "code",
   "execution_count": 769,
   "id": "8530ccdf-fb31-441e-9c22-d668c948fb67",
   "metadata": {},
   "outputs": [
    {
     "data": {
      "text/plain": [
       "array(['Meats, poultry, and fish', 'Meats', 'Beef and veal', 'Pork',\n",
       "       'Other meats', 'Poultry', 'Fish and seafood', 'Eggs',\n",
       "       'Dairy products', 'Fats and oils', 'Fruits and vegetables',\n",
       "       'Fresh fruits and vegetables', 'Fresh fruits', 'Fresh vegetables',\n",
       "       'Processed fruits and vegetables', 'Sugar and sweets',\n",
       "       'Cereals and bakery products', 'Nonalcoholic beverages'],\n",
       "      dtype=object)"
      ]
     },
     "execution_count": 769,
     "metadata": {},
     "output_type": "execute_result"
    }
   ],
   "source": [
    "sales_df['item'].unique()"
   ]
  },
  {
   "cell_type": "code",
   "execution_count": 771,
   "id": "c8ef114e-3cad-408a-acc3-4f0f24c2d0c8",
   "metadata": {},
   "outputs": [],
   "source": [
    "categories_to_drop = ['All food', 'Food away from home', 'Food at home',\n",
    "                      'Meats, poultry, and fish', 'Beef and veal', \n",
    "                      'Other meats', 'Other foods']\n",
    "\n",
    "# Ensure sales_df is a DataFrame before filtering\n",
    "if isinstance(sales_df, pd.DataFrame):\n",
    "    sales_df = sales_df[~sales_df['item'].isin(categories_to_drop)]\n",
    "else:\n",
    "    print(\"Error: sales_df is not a DataFrame.\")\n"
   ]
  },
  {
   "cell_type": "code",
   "execution_count": 773,
   "id": "1dc0718e-b87e-4f06-8abe-a444ff195313",
   "metadata": {},
   "outputs": [
    {
     "data": {
      "text/plain": [
       "pandas.core.frame.DataFrame"
      ]
     },
     "execution_count": 773,
     "metadata": {},
     "output_type": "execute_result"
    }
   ],
   "source": [
    "type(sales_df)\n"
   ]
  },
  {
   "cell_type": "code",
   "execution_count": 775,
   "id": "2879bb94-d03c-4b9a-a947-2d5e5ebe2735",
   "metadata": {},
   "outputs": [
    {
     "data": {
      "text/plain": [
       "array(['Meats', 'Pork', 'Poultry', 'Fish and seafood', 'Eggs',\n",
       "       'Dairy products', 'Fats and oils', 'Fruits and vegetables',\n",
       "       'Fresh fruits and vegetables', 'Fresh fruits', 'Fresh vegetables',\n",
       "       'Processed fruits and vegetables', 'Sugar and sweets',\n",
       "       'Cereals and bakery products', 'Nonalcoholic beverages'],\n",
       "      dtype=object)"
      ]
     },
     "execution_count": 775,
     "metadata": {},
     "output_type": "execute_result"
    }
   ],
   "source": [
    "sales_df['item'].unique()"
   ]
  },
  {
   "cell_type": "code",
   "execution_count": 777,
   "id": "4d32e7ac-7a27-4bb9-b105-e812a61596a3",
   "metadata": {},
   "outputs": [],
   "source": [
    "\n",
    "sales_inflation_data = pd.merge(sales_df, retail_sales_df, \n",
    "                                on='Year', \n",
    "                                how='left')"
   ]
  },
  {
   "cell_type": "code",
   "execution_count": 778,
   "id": "6a8bc022-f2ef-4ee2-b0fb-35fdf5515770",
   "metadata": {},
   "outputs": [],
   "source": [
    "sales_inflation_data = sales_inflation_data.drop(columns=['Date'])"
   ]
  },
  {
   "cell_type": "code",
   "execution_count": 779,
   "id": "4153bdaf-be57-48ad-9cb2-5d9260ad82ad",
   "metadata": {},
   "outputs": [
    {
     "data": {
      "text/plain": [
       "Index(['item', 'Year', 'Percent change',\n",
       "       'Inflation Rate YOY From Previous Dec', 'Federal Funds Rate',\n",
       "       'Business Cycle*', 'Events Affecting Inflation', 'State', 'Category',\n",
       "       'Variable', 'Price'],\n",
       "      dtype='object')"
      ]
     },
     "execution_count": 779,
     "metadata": {},
     "output_type": "execute_result"
    }
   ],
   "source": [
    "sales_inflation_data.columns"
   ]
  },
  {
   "cell_type": "code",
   "execution_count": 780,
   "id": "48226ef2-ead7-4bea-8d02-abb8411da462",
   "metadata": {},
   "outputs": [
    {
     "data": {
      "text/html": [
       "<div>\n",
       "<style scoped>\n",
       "    .dataframe tbody tr th:only-of-type {\n",
       "        vertical-align: middle;\n",
       "    }\n",
       "\n",
       "    .dataframe tbody tr th {\n",
       "        vertical-align: top;\n",
       "    }\n",
       "\n",
       "    .dataframe thead th {\n",
       "        text-align: right;\n",
       "    }\n",
       "</style>\n",
       "<table border=\"1\" class=\"dataframe\">\n",
       "  <thead>\n",
       "    <tr style=\"text-align: right;\">\n",
       "      <th></th>\n",
       "      <th>item</th>\n",
       "      <th>Year</th>\n",
       "      <th>Percent change</th>\n",
       "      <th>Inflation Rate YOY From Previous Dec</th>\n",
       "      <th>Federal Funds Rate</th>\n",
       "      <th>Business Cycle*</th>\n",
       "      <th>Events Affecting Inflation</th>\n",
       "      <th>State</th>\n",
       "      <th>Category</th>\n",
       "      <th>Variable</th>\n",
       "      <th>Price</th>\n",
       "    </tr>\n",
       "  </thead>\n",
       "  <tbody>\n",
       "    <tr>\n",
       "      <th>11287495</th>\n",
       "      <td>Nonalcoholic beverages</td>\n",
       "      <td>2023</td>\n",
       "      <td>7.0</td>\n",
       "      <td>3.40%</td>\n",
       "      <td>5.50%</td>\n",
       "      <td>Expansion (2.5%)</td>\n",
       "      <td>Fed raised rates</td>\n",
       "      <td>Wyoming</td>\n",
       "      <td>Vegetables</td>\n",
       "      <td>Percent change units 3 years</td>\n",
       "      <td>-10.0</td>\n",
       "    </tr>\n",
       "    <tr>\n",
       "      <th>11287496</th>\n",
       "      <td>Nonalcoholic beverages</td>\n",
       "      <td>2023</td>\n",
       "      <td>7.0</td>\n",
       "      <td>3.40%</td>\n",
       "      <td>5.50%</td>\n",
       "      <td>Expansion (2.5%)</td>\n",
       "      <td>Fed raised rates</td>\n",
       "      <td>Wyoming</td>\n",
       "      <td>Vegetables</td>\n",
       "      <td>Percent change units 3 years</td>\n",
       "      <td>-22.2</td>\n",
       "    </tr>\n",
       "    <tr>\n",
       "      <th>11287497</th>\n",
       "      <td>Nonalcoholic beverages</td>\n",
       "      <td>2023</td>\n",
       "      <td>7.0</td>\n",
       "      <td>3.40%</td>\n",
       "      <td>5.50%</td>\n",
       "      <td>Expansion (2.5%)</td>\n",
       "      <td>Fed raised rates</td>\n",
       "      <td>Wyoming</td>\n",
       "      <td>Vegetables</td>\n",
       "      <td>Percent change units 3 years</td>\n",
       "      <td>-18.6</td>\n",
       "    </tr>\n",
       "    <tr>\n",
       "      <th>11287498</th>\n",
       "      <td>Nonalcoholic beverages</td>\n",
       "      <td>2023</td>\n",
       "      <td>7.0</td>\n",
       "      <td>3.40%</td>\n",
       "      <td>5.50%</td>\n",
       "      <td>Expansion (2.5%)</td>\n",
       "      <td>Fed raised rates</td>\n",
       "      <td>Wyoming</td>\n",
       "      <td>Vegetables</td>\n",
       "      <td>Percent change units 3 years</td>\n",
       "      <td>-17.9</td>\n",
       "    </tr>\n",
       "    <tr>\n",
       "      <th>11287499</th>\n",
       "      <td>Nonalcoholic beverages</td>\n",
       "      <td>2023</td>\n",
       "      <td>7.0</td>\n",
       "      <td>3.40%</td>\n",
       "      <td>5.50%</td>\n",
       "      <td>Expansion (2.5%)</td>\n",
       "      <td>Fed raised rates</td>\n",
       "      <td>Wyoming</td>\n",
       "      <td>Vegetables</td>\n",
       "      <td>Percent change units 3 years</td>\n",
       "      <td>-13.3</td>\n",
       "    </tr>\n",
       "  </tbody>\n",
       "</table>\n",
       "</div>"
      ],
      "text/plain": [
       "                            item  Year  Percent change  \\\n",
       "11287495  Nonalcoholic beverages  2023             7.0   \n",
       "11287496  Nonalcoholic beverages  2023             7.0   \n",
       "11287497  Nonalcoholic beverages  2023             7.0   \n",
       "11287498  Nonalcoholic beverages  2023             7.0   \n",
       "11287499  Nonalcoholic beverages  2023             7.0   \n",
       "\n",
       "         Inflation Rate YOY From Previous Dec Federal Funds Rate  \\\n",
       "11287495                                3.40%              5.50%   \n",
       "11287496                                3.40%              5.50%   \n",
       "11287497                                3.40%              5.50%   \n",
       "11287498                                3.40%              5.50%   \n",
       "11287499                                3.40%              5.50%   \n",
       "\n",
       "           Business Cycle* Events Affecting Inflation    State    Category  \\\n",
       "11287495  Expansion (2.5%)           Fed raised rates  Wyoming  Vegetables   \n",
       "11287496  Expansion (2.5%)           Fed raised rates  Wyoming  Vegetables   \n",
       "11287497  Expansion (2.5%)           Fed raised rates  Wyoming  Vegetables   \n",
       "11287498  Expansion (2.5%)           Fed raised rates  Wyoming  Vegetables   \n",
       "11287499  Expansion (2.5%)           Fed raised rates  Wyoming  Vegetables   \n",
       "\n",
       "                              Variable  Price  \n",
       "11287495  Percent change units 3 years  -10.0  \n",
       "11287496  Percent change units 3 years  -22.2  \n",
       "11287497  Percent change units 3 years  -18.6  \n",
       "11287498  Percent change units 3 years  -17.9  \n",
       "11287499  Percent change units 3 years  -13.3  "
      ]
     },
     "execution_count": 780,
     "metadata": {},
     "output_type": "execute_result"
    }
   ],
   "source": [
    "sales_inflation_data.tail()"
   ]
  },
  {
   "cell_type": "code",
   "execution_count": 781,
   "id": "f655c06d-4af8-41bf-9072-1511e5507553",
   "metadata": {},
   "outputs": [],
   "source": [
    "sales_inflation_df = sales_inflation_data[sales_inflation_data[\"Year\"] >= 2020]  # Keep data from 2020 onwards\n",
    "sales_inflation_df.to_csv(\"small_data.csv\", index=False)\n"
   ]
  },
  {
   "cell_type": "code",
   "execution_count": 782,
   "id": "2fbf6da7-2074-4955-aa87-32f82ee6a8e7",
   "metadata": {},
   "outputs": [],
   "source": [
    "# Save the DataFrame to a CSV file\n",
    "sales_inflation_df.to_csv('sales_inflation_df.csv', index=False)\n"
   ]
  },
  {
   "cell_type": "code",
   "execution_count": 783,
   "id": "fb6e24a2-aa33-419a-b784-0c34a941ea70",
   "metadata": {},
   "outputs": [
    {
     "data": {
      "text/html": [
       "<div>\n",
       "<style scoped>\n",
       "    .dataframe tbody tr th:only-of-type {\n",
       "        vertical-align: middle;\n",
       "    }\n",
       "\n",
       "    .dataframe tbody tr th {\n",
       "        vertical-align: top;\n",
       "    }\n",
       "\n",
       "    .dataframe thead th {\n",
       "        text-align: right;\n",
       "    }\n",
       "</style>\n",
       "<table border=\"1\" class=\"dataframe\">\n",
       "  <thead>\n",
       "    <tr style=\"text-align: right;\">\n",
       "      <th></th>\n",
       "      <th>item</th>\n",
       "      <th>Year</th>\n",
       "      <th>Percent change</th>\n",
       "      <th>Inflation Rate YOY From Previous Dec</th>\n",
       "      <th>Federal Funds Rate</th>\n",
       "      <th>Business Cycle*</th>\n",
       "      <th>Events Affecting Inflation</th>\n",
       "      <th>State</th>\n",
       "      <th>Category</th>\n",
       "      <th>Variable</th>\n",
       "      <th>Price</th>\n",
       "    </tr>\n",
       "  </thead>\n",
       "  <tbody>\n",
       "    <tr>\n",
       "      <th>0</th>\n",
       "      <td>Meats</td>\n",
       "      <td>2020</td>\n",
       "      <td>7.4</td>\n",
       "      <td>1.40%</td>\n",
       "      <td>0.25%</td>\n",
       "      <td>Contraction (-2.2%)</td>\n",
       "      <td>COVID-19 pandemic</td>\n",
       "      <td>Alabama</td>\n",
       "      <td>Alcohol</td>\n",
       "      <td>Dollars</td>\n",
       "      <td>21567138.0</td>\n",
       "    </tr>\n",
       "    <tr>\n",
       "      <th>1</th>\n",
       "      <td>Meats</td>\n",
       "      <td>2020</td>\n",
       "      <td>7.4</td>\n",
       "      <td>1.40%</td>\n",
       "      <td>0.25%</td>\n",
       "      <td>Contraction (-2.2%)</td>\n",
       "      <td>COVID-19 pandemic</td>\n",
       "      <td>Alabama</td>\n",
       "      <td>Alcohol</td>\n",
       "      <td>Dollars</td>\n",
       "      <td>19396186.0</td>\n",
       "    </tr>\n",
       "    <tr>\n",
       "      <th>2</th>\n",
       "      <td>Meats</td>\n",
       "      <td>2020</td>\n",
       "      <td>7.4</td>\n",
       "      <td>1.40%</td>\n",
       "      <td>0.25%</td>\n",
       "      <td>Contraction (-2.2%)</td>\n",
       "      <td>COVID-19 pandemic</td>\n",
       "      <td>Alabama</td>\n",
       "      <td>Alcohol</td>\n",
       "      <td>Dollars</td>\n",
       "      <td>20285818.0</td>\n",
       "    </tr>\n",
       "    <tr>\n",
       "      <th>3</th>\n",
       "      <td>Meats</td>\n",
       "      <td>2020</td>\n",
       "      <td>7.4</td>\n",
       "      <td>1.40%</td>\n",
       "      <td>0.25%</td>\n",
       "      <td>Contraction (-2.2%)</td>\n",
       "      <td>COVID-19 pandemic</td>\n",
       "      <td>Alabama</td>\n",
       "      <td>Alcohol</td>\n",
       "      <td>Dollars</td>\n",
       "      <td>19559231.0</td>\n",
       "    </tr>\n",
       "    <tr>\n",
       "      <th>4</th>\n",
       "      <td>Meats</td>\n",
       "      <td>2020</td>\n",
       "      <td>7.4</td>\n",
       "      <td>1.40%</td>\n",
       "      <td>0.25%</td>\n",
       "      <td>Contraction (-2.2%)</td>\n",
       "      <td>COVID-19 pandemic</td>\n",
       "      <td>Alabama</td>\n",
       "      <td>Alcohol</td>\n",
       "      <td>Dollars</td>\n",
       "      <td>20591010.0</td>\n",
       "    </tr>\n",
       "    <tr>\n",
       "      <th>...</th>\n",
       "      <td>...</td>\n",
       "      <td>...</td>\n",
       "      <td>...</td>\n",
       "      <td>...</td>\n",
       "      <td>...</td>\n",
       "      <td>...</td>\n",
       "      <td>...</td>\n",
       "      <td>...</td>\n",
       "      <td>...</td>\n",
       "      <td>...</td>\n",
       "      <td>...</td>\n",
       "    </tr>\n",
       "    <tr>\n",
       "      <th>11287495</th>\n",
       "      <td>Nonalcoholic beverages</td>\n",
       "      <td>2023</td>\n",
       "      <td>7.0</td>\n",
       "      <td>3.40%</td>\n",
       "      <td>5.50%</td>\n",
       "      <td>Expansion (2.5%)</td>\n",
       "      <td>Fed raised rates</td>\n",
       "      <td>Wyoming</td>\n",
       "      <td>Vegetables</td>\n",
       "      <td>Percent change units 3 years</td>\n",
       "      <td>-10.0</td>\n",
       "    </tr>\n",
       "    <tr>\n",
       "      <th>11287496</th>\n",
       "      <td>Nonalcoholic beverages</td>\n",
       "      <td>2023</td>\n",
       "      <td>7.0</td>\n",
       "      <td>3.40%</td>\n",
       "      <td>5.50%</td>\n",
       "      <td>Expansion (2.5%)</td>\n",
       "      <td>Fed raised rates</td>\n",
       "      <td>Wyoming</td>\n",
       "      <td>Vegetables</td>\n",
       "      <td>Percent change units 3 years</td>\n",
       "      <td>-22.2</td>\n",
       "    </tr>\n",
       "    <tr>\n",
       "      <th>11287497</th>\n",
       "      <td>Nonalcoholic beverages</td>\n",
       "      <td>2023</td>\n",
       "      <td>7.0</td>\n",
       "      <td>3.40%</td>\n",
       "      <td>5.50%</td>\n",
       "      <td>Expansion (2.5%)</td>\n",
       "      <td>Fed raised rates</td>\n",
       "      <td>Wyoming</td>\n",
       "      <td>Vegetables</td>\n",
       "      <td>Percent change units 3 years</td>\n",
       "      <td>-18.6</td>\n",
       "    </tr>\n",
       "    <tr>\n",
       "      <th>11287498</th>\n",
       "      <td>Nonalcoholic beverages</td>\n",
       "      <td>2023</td>\n",
       "      <td>7.0</td>\n",
       "      <td>3.40%</td>\n",
       "      <td>5.50%</td>\n",
       "      <td>Expansion (2.5%)</td>\n",
       "      <td>Fed raised rates</td>\n",
       "      <td>Wyoming</td>\n",
       "      <td>Vegetables</td>\n",
       "      <td>Percent change units 3 years</td>\n",
       "      <td>-17.9</td>\n",
       "    </tr>\n",
       "    <tr>\n",
       "      <th>11287499</th>\n",
       "      <td>Nonalcoholic beverages</td>\n",
       "      <td>2023</td>\n",
       "      <td>7.0</td>\n",
       "      <td>3.40%</td>\n",
       "      <td>5.50%</td>\n",
       "      <td>Expansion (2.5%)</td>\n",
       "      <td>Fed raised rates</td>\n",
       "      <td>Wyoming</td>\n",
       "      <td>Vegetables</td>\n",
       "      <td>Percent change units 3 years</td>\n",
       "      <td>-13.3</td>\n",
       "    </tr>\n",
       "  </tbody>\n",
       "</table>\n",
       "<p>11287500 rows × 11 columns</p>\n",
       "</div>"
      ],
      "text/plain": [
       "                            item  Year  Percent change  \\\n",
       "0                          Meats  2020             7.4   \n",
       "1                          Meats  2020             7.4   \n",
       "2                          Meats  2020             7.4   \n",
       "3                          Meats  2020             7.4   \n",
       "4                          Meats  2020             7.4   \n",
       "...                          ...   ...             ...   \n",
       "11287495  Nonalcoholic beverages  2023             7.0   \n",
       "11287496  Nonalcoholic beverages  2023             7.0   \n",
       "11287497  Nonalcoholic beverages  2023             7.0   \n",
       "11287498  Nonalcoholic beverages  2023             7.0   \n",
       "11287499  Nonalcoholic beverages  2023             7.0   \n",
       "\n",
       "         Inflation Rate YOY From Previous Dec Federal Funds Rate  \\\n",
       "0                                       1.40%              0.25%   \n",
       "1                                       1.40%              0.25%   \n",
       "2                                       1.40%              0.25%   \n",
       "3                                       1.40%              0.25%   \n",
       "4                                       1.40%              0.25%   \n",
       "...                                       ...                ...   \n",
       "11287495                                3.40%              5.50%   \n",
       "11287496                                3.40%              5.50%   \n",
       "11287497                                3.40%              5.50%   \n",
       "11287498                                3.40%              5.50%   \n",
       "11287499                                3.40%              5.50%   \n",
       "\n",
       "              Business Cycle* Events Affecting Inflation    State    Category  \\\n",
       "0         Contraction (-2.2%)          COVID-19 pandemic  Alabama     Alcohol   \n",
       "1         Contraction (-2.2%)          COVID-19 pandemic  Alabama     Alcohol   \n",
       "2         Contraction (-2.2%)          COVID-19 pandemic  Alabama     Alcohol   \n",
       "3         Contraction (-2.2%)          COVID-19 pandemic  Alabama     Alcohol   \n",
       "4         Contraction (-2.2%)          COVID-19 pandemic  Alabama     Alcohol   \n",
       "...                       ...                        ...      ...         ...   \n",
       "11287495     Expansion (2.5%)           Fed raised rates  Wyoming  Vegetables   \n",
       "11287496     Expansion (2.5%)           Fed raised rates  Wyoming  Vegetables   \n",
       "11287497     Expansion (2.5%)           Fed raised rates  Wyoming  Vegetables   \n",
       "11287498     Expansion (2.5%)           Fed raised rates  Wyoming  Vegetables   \n",
       "11287499     Expansion (2.5%)           Fed raised rates  Wyoming  Vegetables   \n",
       "\n",
       "                              Variable       Price  \n",
       "0                              Dollars  21567138.0  \n",
       "1                              Dollars  19396186.0  \n",
       "2                              Dollars  20285818.0  \n",
       "3                              Dollars  19559231.0  \n",
       "4                              Dollars  20591010.0  \n",
       "...                                ...         ...  \n",
       "11287495  Percent change units 3 years       -10.0  \n",
       "11287496  Percent change units 3 years       -22.2  \n",
       "11287497  Percent change units 3 years       -18.6  \n",
       "11287498  Percent change units 3 years       -17.9  \n",
       "11287499  Percent change units 3 years       -13.3  \n",
       "\n",
       "[11287500 rows x 11 columns]"
      ]
     },
     "execution_count": 783,
     "metadata": {},
     "output_type": "execute_result"
    }
   ],
   "source": [
    "sales_inflation_df"
   ]
  },
  {
   "cell_type": "code",
   "execution_count": 784,
   "id": "4714e32a-87c6-4d58-8054-cb2a95e594fc",
   "metadata": {},
   "outputs": [
    {
     "name": "stdout",
     "output_type": "stream",
     "text": [
      "C:\\Users\\nahla\n"
     ]
    }
   ],
   "source": [
    "import os\n",
    "print(os.getcwd())\n"
   ]
  },
  {
   "cell_type": "code",
   "execution_count": 785,
   "id": "11859663-5842-43f1-ae02-8a5a7cad075c",
   "metadata": {},
   "outputs": [
    {
     "ename": "KeyError",
     "evalue": "\"['Subcategory'] not found in axis\"",
     "output_type": "error",
     "traceback": [
      "\u001b[1;31m---------------------------------------------------------------------------\u001b[0m",
      "\u001b[1;31mKeyError\u001b[0m                                  Traceback (most recent call last)",
      "Cell \u001b[1;32mIn[785], line 2\u001b[0m\n\u001b[0;32m      1\u001b[0m \u001b[38;5;66;03m# Remove the 'item' and 'Subcategory' columns\u001b[39;00m\n\u001b[1;32m----> 2\u001b[0m sales_inflation_df \u001b[38;5;241m=\u001b[39m sales_inflation_df\u001b[38;5;241m.\u001b[39mdrop(columns\u001b[38;5;241m=\u001b[39m[\u001b[38;5;124m'\u001b[39m\u001b[38;5;124mitem\u001b[39m\u001b[38;5;124m'\u001b[39m, \u001b[38;5;124m'\u001b[39m\u001b[38;5;124mSubcategory\u001b[39m\u001b[38;5;124m'\u001b[39m])\n\u001b[0;32m      4\u001b[0m \u001b[38;5;66;03m# Check the updated DataFrame\u001b[39;00m\n\u001b[0;32m      5\u001b[0m \u001b[38;5;28mprint\u001b[39m(sales_inflation_df\u001b[38;5;241m.\u001b[39mhead())\n",
      "File \u001b[1;32m~\\anaconda3\\Lib\\site-packages\\pandas\\core\\frame.py:5581\u001b[0m, in \u001b[0;36mDataFrame.drop\u001b[1;34m(self, labels, axis, index, columns, level, inplace, errors)\u001b[0m\n\u001b[0;32m   5433\u001b[0m \u001b[38;5;28;01mdef\u001b[39;00m \u001b[38;5;21mdrop\u001b[39m(\n\u001b[0;32m   5434\u001b[0m     \u001b[38;5;28mself\u001b[39m,\n\u001b[0;32m   5435\u001b[0m     labels: IndexLabel \u001b[38;5;241m|\u001b[39m \u001b[38;5;28;01mNone\u001b[39;00m \u001b[38;5;241m=\u001b[39m \u001b[38;5;28;01mNone\u001b[39;00m,\n\u001b[1;32m   (...)\u001b[0m\n\u001b[0;32m   5442\u001b[0m     errors: IgnoreRaise \u001b[38;5;241m=\u001b[39m \u001b[38;5;124m\"\u001b[39m\u001b[38;5;124mraise\u001b[39m\u001b[38;5;124m\"\u001b[39m,\n\u001b[0;32m   5443\u001b[0m ) \u001b[38;5;241m-\u001b[39m\u001b[38;5;241m>\u001b[39m DataFrame \u001b[38;5;241m|\u001b[39m \u001b[38;5;28;01mNone\u001b[39;00m:\n\u001b[0;32m   5444\u001b[0m \u001b[38;5;250m    \u001b[39m\u001b[38;5;124;03m\"\"\"\u001b[39;00m\n\u001b[0;32m   5445\u001b[0m \u001b[38;5;124;03m    Drop specified labels from rows or columns.\u001b[39;00m\n\u001b[0;32m   5446\u001b[0m \n\u001b[1;32m   (...)\u001b[0m\n\u001b[0;32m   5579\u001b[0m \u001b[38;5;124;03m            weight  1.0     0.8\u001b[39;00m\n\u001b[0;32m   5580\u001b[0m \u001b[38;5;124;03m    \"\"\"\u001b[39;00m\n\u001b[1;32m-> 5581\u001b[0m     \u001b[38;5;28;01mreturn\u001b[39;00m \u001b[38;5;28msuper\u001b[39m()\u001b[38;5;241m.\u001b[39mdrop(\n\u001b[0;32m   5582\u001b[0m         labels\u001b[38;5;241m=\u001b[39mlabels,\n\u001b[0;32m   5583\u001b[0m         axis\u001b[38;5;241m=\u001b[39maxis,\n\u001b[0;32m   5584\u001b[0m         index\u001b[38;5;241m=\u001b[39mindex,\n\u001b[0;32m   5585\u001b[0m         columns\u001b[38;5;241m=\u001b[39mcolumns,\n\u001b[0;32m   5586\u001b[0m         level\u001b[38;5;241m=\u001b[39mlevel,\n\u001b[0;32m   5587\u001b[0m         inplace\u001b[38;5;241m=\u001b[39minplace,\n\u001b[0;32m   5588\u001b[0m         errors\u001b[38;5;241m=\u001b[39merrors,\n\u001b[0;32m   5589\u001b[0m     )\n",
      "File \u001b[1;32m~\\anaconda3\\Lib\\site-packages\\pandas\\core\\generic.py:4788\u001b[0m, in \u001b[0;36mNDFrame.drop\u001b[1;34m(self, labels, axis, index, columns, level, inplace, errors)\u001b[0m\n\u001b[0;32m   4786\u001b[0m \u001b[38;5;28;01mfor\u001b[39;00m axis, labels \u001b[38;5;129;01min\u001b[39;00m axes\u001b[38;5;241m.\u001b[39mitems():\n\u001b[0;32m   4787\u001b[0m     \u001b[38;5;28;01mif\u001b[39;00m labels \u001b[38;5;129;01mis\u001b[39;00m \u001b[38;5;129;01mnot\u001b[39;00m \u001b[38;5;28;01mNone\u001b[39;00m:\n\u001b[1;32m-> 4788\u001b[0m         obj \u001b[38;5;241m=\u001b[39m obj\u001b[38;5;241m.\u001b[39m_drop_axis(labels, axis, level\u001b[38;5;241m=\u001b[39mlevel, errors\u001b[38;5;241m=\u001b[39merrors)\n\u001b[0;32m   4790\u001b[0m \u001b[38;5;28;01mif\u001b[39;00m inplace:\n\u001b[0;32m   4791\u001b[0m     \u001b[38;5;28mself\u001b[39m\u001b[38;5;241m.\u001b[39m_update_inplace(obj)\n",
      "File \u001b[1;32m~\\anaconda3\\Lib\\site-packages\\pandas\\core\\generic.py:4830\u001b[0m, in \u001b[0;36mNDFrame._drop_axis\u001b[1;34m(self, labels, axis, level, errors, only_slice)\u001b[0m\n\u001b[0;32m   4828\u001b[0m         new_axis \u001b[38;5;241m=\u001b[39m axis\u001b[38;5;241m.\u001b[39mdrop(labels, level\u001b[38;5;241m=\u001b[39mlevel, errors\u001b[38;5;241m=\u001b[39merrors)\n\u001b[0;32m   4829\u001b[0m     \u001b[38;5;28;01melse\u001b[39;00m:\n\u001b[1;32m-> 4830\u001b[0m         new_axis \u001b[38;5;241m=\u001b[39m axis\u001b[38;5;241m.\u001b[39mdrop(labels, errors\u001b[38;5;241m=\u001b[39merrors)\n\u001b[0;32m   4831\u001b[0m     indexer \u001b[38;5;241m=\u001b[39m axis\u001b[38;5;241m.\u001b[39mget_indexer(new_axis)\n\u001b[0;32m   4833\u001b[0m \u001b[38;5;66;03m# Case for non-unique axis\u001b[39;00m\n\u001b[0;32m   4834\u001b[0m \u001b[38;5;28;01melse\u001b[39;00m:\n",
      "File \u001b[1;32m~\\anaconda3\\Lib\\site-packages\\pandas\\core\\indexes\\base.py:7070\u001b[0m, in \u001b[0;36mIndex.drop\u001b[1;34m(self, labels, errors)\u001b[0m\n\u001b[0;32m   7068\u001b[0m \u001b[38;5;28;01mif\u001b[39;00m mask\u001b[38;5;241m.\u001b[39many():\n\u001b[0;32m   7069\u001b[0m     \u001b[38;5;28;01mif\u001b[39;00m errors \u001b[38;5;241m!=\u001b[39m \u001b[38;5;124m\"\u001b[39m\u001b[38;5;124mignore\u001b[39m\u001b[38;5;124m\"\u001b[39m:\n\u001b[1;32m-> 7070\u001b[0m         \u001b[38;5;28;01mraise\u001b[39;00m \u001b[38;5;167;01mKeyError\u001b[39;00m(\u001b[38;5;124mf\u001b[39m\u001b[38;5;124m\"\u001b[39m\u001b[38;5;132;01m{\u001b[39;00mlabels[mask]\u001b[38;5;241m.\u001b[39mtolist()\u001b[38;5;132;01m}\u001b[39;00m\u001b[38;5;124m not found in axis\u001b[39m\u001b[38;5;124m\"\u001b[39m)\n\u001b[0;32m   7071\u001b[0m     indexer \u001b[38;5;241m=\u001b[39m indexer[\u001b[38;5;241m~\u001b[39mmask]\n\u001b[0;32m   7072\u001b[0m \u001b[38;5;28;01mreturn\u001b[39;00m \u001b[38;5;28mself\u001b[39m\u001b[38;5;241m.\u001b[39mdelete(indexer)\n",
      "\u001b[1;31mKeyError\u001b[0m: \"['Subcategory'] not found in axis\""
     ]
    }
   ],
   "source": [
    "# Remove the 'item' and 'Subcategory' columns\n",
    "sales_inflation_df = sales_inflation_df.drop(columns=['item', 'Subcategory'])\n",
    "\n",
    "# Check the updated DataFrame\n",
    "print(sales_inflation_df.head())\n",
    "print(sales_inflation_df.columns)"
   ]
  },
  {
   "cell_type": "code",
   "execution_count": null,
   "id": "702acd3f-04d9-4771-8ee3-b9cc0d775a12",
   "metadata": {},
   "outputs": [],
   "source": [
    "sales_inflation_df.to_csv('sales_inflation_df.csv', index=False)"
   ]
  },
  {
   "cell_type": "code",
   "execution_count": null,
   "id": "c7c76592-b584-4eae-ac29-dcfc62515742",
   "metadata": {},
   "outputs": [],
   "source": [
    "sales_inflation_df.info()\n",
    "sales_inflation_df = sales_inflation_df.drop(columns=['Inflation Rate YOY From Previous Dec'])\n",
    ".head()"
   ]
  },
  {
   "cell_type": "code",
   "execution_count": null,
   "id": "7fb4701a-11b6-4801-b345-deac5e17732c",
   "metadata": {},
   "outputs": [],
   "source": [
    "sales_inflation_df['Inflation Rate YOY From Previous Dec']"
   ]
  },
  {
   "cell_type": "code",
   "execution_count": null,
   "id": "73b2b3e1-e289-40f3-a50c-445c083bf07e",
   "metadata": {},
   "outputs": [],
   "source": [
    "sales_inflation_df.columns()"
   ]
  },
  {
   "cell_type": "code",
   "execution_count": null,
   "id": "321af5a2-f17c-4156-9031-062c6026d4fc",
   "metadata": {},
   "outputs": [],
   "source": [
    "\n",
    "# Calculate summary statistics\n",
    "summary_stats = sales_inflation_df[['Percent change', 'Value', 'Inflation Adjusted Value']].describe()\n",
    "summary_stats"
   ]
  },
  {
   "cell_type": "code",
   "execution_count": null,
   "id": "88a71233-cd98-42c1-b6f9-3e2a528902bc",
   "metadata": {},
   "outputs": [],
   "source": [
    "\n",
    "# Calculate mean, median, and standard deviation separately\n",
    "percent_change_stats = sales_inflation_df['Percent change'].agg(['mean', 'median', 'std'])\n",
    "value_stats = sales_inflation_df['Value'].agg(['mean', 'median', 'std'])\n",
    "inflation_adjusted_value_stats = sales_inflation_df['Inflation Adjusted Value'].agg(['mean', 'median', 'std'])\n",
    "percent_change_stats\n",
    "value_stats\n",
    "inflation_adjusted_value_stats"
   ]
  },
  {
   "cell_type": "code",
   "execution_count": null,
   "id": "c6e68f0f-25d1-48a4-bfd5-45d37c450dc6",
   "metadata": {},
   "outputs": [],
   "source": [
    "print(sales_inflation_df['Inflation Rate YOY From Previous Dec'].isna().sum())  # Count missing values\n",
    "print(sales_inflation_df[['Year', 'Inflation Rate YOY From Previous Dec']].dropna().head())  # Check valid data\n"
   ]
  },
  {
   "cell_type": "code",
   "execution_count": null,
   "id": "e7e43d87-8c76-438c-ab41-d15e3a1f42b6",
   "metadata": {},
   "outputs": [],
   "source": [
    "\n",
    "# Min/Max values for Value and Inflation Adjusted Value\n",
    "min_value = sales_inflation_df['Value'].min()\n",
    "max_value = sales_inflation_df['Value'].max()"
   ]
  },
  {
   "cell_type": "code",
   "execution_count": null,
   "id": "939e55cb-f5a0-42c6-82b0-c56314de8dab",
   "metadata": {},
   "outputs": [],
   "source": [
    "# Print summary statistics\n",
    "print(\"\\nMin/Max Values:\")\n",
    "print(\"Min Value:\", min_value, \"Max Value:\", max_value)"
   ]
  },
  {
   "cell_type": "code",
   "execution_count": null,
   "id": "1d303058-0f00-4e68-85a6-8862735bc0f5",
   "metadata": {},
   "outputs": [],
   "source": [
    "Total_Value_by_Category = sales_inflation_df.groupby('Category')['Value'].sum()\n",
    "Total_Value_by_Category"
   ]
  },
  {
   "cell_type": "code",
   "execution_count": null,
   "id": "52d8ec90-fdc6-4dd7-bb7d-91a58d6fb2a1",
   "metadata": {},
   "outputs": [],
   "source": [
    "sales_inflation_df.columns"
   ]
  },
  {
   "cell_type": "code",
   "execution_count": null,
   "id": "5f102957-1983-4eb4-87fd-dfe85e99dd64",
   "metadata": {},
   "outputs": [],
   "source": [
    "# Group by Category and Subcategory to calculate the total and average values\n",
    "grouped_stats = sales_inflation_df.groupby(['Category']).agg({\n",
    "    'Value': ['sum', 'mean'],\n",
    "}).reset_index()\n",
    "print(\"\\nGrouped Statistics by Category and Subcategory:\\n\", grouped_stats)\n"
   ]
  },
  {
   "cell_type": "code",
   "execution_count": null,
   "id": "e4a0ec14-a188-49ae-8605-f7cb200c5681",
   "metadata": {},
   "outputs": [],
   "source": [
    "sales_inflation_df = sales_inflation_df.rename(columns={'Inflation Rate YOY From Previous Dec ': 'Inflation Rate YOY From Previous Dec'})\n"
   ]
  },
  {
   "cell_type": "code",
   "execution_count": null,
   "id": "a12bbd7e-eb8d-4967-8932-7ecb99d877b1",
   "metadata": {},
   "outputs": [],
   "source": [
    "print(sales_inflation_df.columns)\n",
    "\n"
   ]
  },
  {
   "cell_type": "code",
   "execution_count": null,
   "id": "27e08b05-6c3d-4c63-a39e-dde0dc9b5031",
   "metadata": {},
   "outputs": [],
   "source": [
    "sales_inflation_df['Inflation Adjusted Value']"
   ]
  },
  {
   "cell_type": "code",
   "execution_count": null,
   "id": "c1c5345e-a1de-41ed-85f5-c5783faf3685",
   "metadata": {},
   "outputs": [],
   "source": [
    "# Plot the trend of Inflation Rate YOY From Previous Dec over time\n",
    "plt.figure(figsize=(10, 5))\n",
    "plt.plot(sales_inflation_df['Year'], sales_inflation_df['Percent change'], marker='o', linestyle='-')\n",
    "plt.title('Trend of Inflation Rate YOY From Previous Dec Over Time')\n",
    "plt.xlabel('Year')\n",
    "plt.ylabel('Percent change')\n",
    "plt.grid(True)\n",
    "plt.show()"
   ]
  },
  {
   "cell_type": "code",
   "execution_count": null,
   "id": "40dc0c18-719d-4e77-b959-f04db61f3be2",
   "metadata": {},
   "outputs": [],
   "source": [
    "\n",
    "plt.figure(figsize=(10, 6))\n",
    "plt.scatter(sales_inflation_df['Percent change'], sales_inflation_df['Value'], c='blue', alpha=0.5)\n",
    "plt.xlabel('Percent Change (Inflation)')\n",
    "plt.ylabel('Value')  # Use the correct column name here\n",
    "plt.title('Price vs Percent Change by  product')\n",
    "plt.grid(True)\n",
    "plt.show()\n"
   ]
  },
  {
   "cell_type": "code",
   "execution_count": null,
   "id": "86dbdb4f-0f10-4e8a-9b2f-e45b184e91b2",
   "metadata": {},
   "outputs": [],
   "source": [
    "\n",
    "\n",
    "# Plot a heatmap of the correlation matrix\n",
    "plt.figure(figsize=(10, 6))\n",
    "sns.heatmap(correlation_matrix, annot=True, cmap='coolwarm', fmt='.2f', linewidths=0.5)\n",
    "plt.title('Correlation Matrix')\n",
    "plt.show()\n"
   ]
  },
  {
   "cell_type": "code",
   "execution_count": null,
   "id": "bbed6dd3-e679-4c45-9d36-ca7a9c51010c",
   "metadata": {},
   "outputs": [],
   "source": [
    "plt.figure(figsize=(10, 6))\n",
    "sns.lineplot(x='Year', y='Percent change', data=sales_inflation_df)\n",
    "plt.title('Percent Change Over Time')\n",
    "plt.xlabel('Year')\n",
    "plt.ylabel('Percent Change')\n",
    "plt.show()\n"
   ]
  },
  {
   "cell_type": "code",
   "execution_count": null,
   "id": "81649fb6-cc00-4771-9a3e-00ca04eec82b",
   "metadata": {},
   "outputs": [],
   "source": [
    "\n",
    "# Bar chart for total revenue by category\n",
    "plt.figure(figsize=(12, 6))\n",
    "sns.barplot(data=grouped_stats, x='Category', y=('Value', 'sum'))\n",
    "plt.title('Total Revenue by Category')\n",
    "plt.xlabel('Category')\n",
    "plt.ylabel('Total Revenue')\n",
    "plt.xticks(rotation=45)\n",
    "plt.show()\n"
   ]
  },
  {
   "cell_type": "code",
   "execution_count": null,
   "id": "06f8912f-51e0-40bd-a7f0-fda592d38b65",
   "metadata": {},
   "outputs": [],
   "source": []
  },
  {
   "cell_type": "code",
   "execution_count": null,
   "id": "0dc689fb-90bd-4395-8176-c86cefa37e0e",
   "metadata": {},
   "outputs": [],
   "source": [
    "sales_inflation_df.to_csv('sales_inflation_df.csv', index=False)\n"
   ]
  },
  {
   "cell_type": "code",
   "execution_count": null,
   "id": "bc8aae09-c000-47a2-b29e-bf5ed73ed711",
   "metadata": {},
   "outputs": [],
   "source": []
  },
  {
   "cell_type": "code",
   "execution_count": null,
   "id": "86f366b6-1953-4428-b0f5-dc37a56ff90b",
   "metadata": {},
   "outputs": [],
   "source": []
  },
  {
   "cell_type": "code",
   "execution_count": null,
   "id": "207c9239-0644-4631-896c-523eadd594b3",
   "metadata": {},
   "outputs": [],
   "source": []
  },
  {
   "cell_type": "code",
   "execution_count": null,
   "id": "72f4cc5a-9f89-4c78-8966-1b9a27414bb8",
   "metadata": {},
   "outputs": [],
   "source": []
  },
  {
   "cell_type": "code",
   "execution_count": null,
   "id": "e3f16e67-b8d6-49a1-b828-8574f87337a3",
   "metadata": {},
   "outputs": [],
   "source": []
  },
  {
   "cell_type": "code",
   "execution_count": null,
   "id": "6d105d2a-353e-4d13-a75c-57eb79ba41d9",
   "metadata": {},
   "outputs": [],
   "source": []
  },
  {
   "cell_type": "code",
   "execution_count": null,
   "id": "c8080868-bd6f-45ec-aa75-bbb4b222fbb3",
   "metadata": {},
   "outputs": [],
   "source": []
  },
  {
   "cell_type": "code",
   "execution_count": null,
   "id": "16270c9a-bdae-4a5b-894a-86310b640e5b",
   "metadata": {},
   "outputs": [],
   "source": []
  }
 ],
 "metadata": {
  "kernelspec": {
   "display_name": "Python [conda env:base] *",
   "language": "python",
   "name": "conda-base-py"
  },
  "language_info": {
   "codemirror_mode": {
    "name": "ipython",
    "version": 3
   },
   "file_extension": ".py",
   "mimetype": "text/x-python",
   "name": "python",
   "nbconvert_exporter": "python",
   "pygments_lexer": "ipython3",
   "version": "3.12.7"
  }
 },
 "nbformat": 4,
 "nbformat_minor": 5
}
