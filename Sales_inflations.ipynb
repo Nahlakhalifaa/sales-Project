{
 "cells": [
  {
   "cell_type": "code",
   "execution_count": 1,
   "id": "c60e34f9-44a4-481a-b808-efa54feee0a4",
   "metadata": {},
   "outputs": [],
   "source": [
    "\n",
    "import sqlite3 as sl\n",
    "import pandas as pd\n",
    "import numpy as np\n",
    "import seaborn as sns\n",
    "import matplotlib.pyplot as plt"
   ]
  },
  {
   "cell_type": "code",
   "execution_count": 2,
   "id": "4aa92515-06f6-4e88-9384-0710c1120c5f",
   "metadata": {},
   "outputs": [],
   "source": [
    "Inflation_Rate_df=pd.read_csv(\"C:/Users/nahla/OneDrive/Desktop/Data_Analysis/DataSets/Historical U.S. Inflation Rate by Year_ 1929 to 2024 - Sheet1 (1).csv\" )\n"
   ]
  },
  {
   "cell_type": "code",
   "execution_count": 3,
   "id": "2851cab4-ddce-41af-b513-44cdd6094d6f",
   "metadata": {},
   "outputs": [
    {
     "data": {
      "text/html": [
       "<div>\n",
       "<style scoped>\n",
       "    .dataframe tbody tr th:only-of-type {\n",
       "        vertical-align: middle;\n",
       "    }\n",
       "\n",
       "    .dataframe tbody tr th {\n",
       "        vertical-align: top;\n",
       "    }\n",
       "\n",
       "    .dataframe thead th {\n",
       "        text-align: right;\n",
       "    }\n",
       "</style>\n",
       "<table border=\"1\" class=\"dataframe\">\n",
       "  <thead>\n",
       "    <tr style=\"text-align: right;\">\n",
       "      <th></th>\n",
       "      <th>Year</th>\n",
       "      <th>Inflation Rate YOY, From Previous Dec.</th>\n",
       "      <th>Federal Funds Rate</th>\n",
       "      <th>Business Cycle*</th>\n",
       "      <th>Events Affecting Inflation</th>\n",
       "    </tr>\n",
       "  </thead>\n",
       "  <tbody>\n",
       "    <tr>\n",
       "      <th>89</th>\n",
       "      <td>2018</td>\n",
       "      <td>1.90%</td>\n",
       "      <td>2.50%</td>\n",
       "      <td>Expansion (3.0%)</td>\n",
       "      <td>NaN</td>\n",
       "    </tr>\n",
       "    <tr>\n",
       "      <th>90</th>\n",
       "      <td>2019</td>\n",
       "      <td>2.30%</td>\n",
       "      <td>1.75%</td>\n",
       "      <td>Expansion (2.5%)</td>\n",
       "      <td>NaN</td>\n",
       "    </tr>\n",
       "    <tr>\n",
       "      <th>91</th>\n",
       "      <td>2020</td>\n",
       "      <td>1.40%</td>\n",
       "      <td>0.25%</td>\n",
       "      <td>Contraction (-2.2%)</td>\n",
       "      <td>COVID-19 pandemic</td>\n",
       "    </tr>\n",
       "    <tr>\n",
       "      <th>92</th>\n",
       "      <td>2021</td>\n",
       "      <td>7.00%</td>\n",
       "      <td>0.25%</td>\n",
       "      <td>Expansion (5.8%)</td>\n",
       "      <td>COVID-19 pandemic</td>\n",
       "    </tr>\n",
       "    <tr>\n",
       "      <th>93</th>\n",
       "      <td>2022</td>\n",
       "      <td>6.50%</td>\n",
       "      <td>4.50%</td>\n",
       "      <td>Expansion (1.9%)</td>\n",
       "      <td>Russia invades Ukraine</td>\n",
       "    </tr>\n",
       "    <tr>\n",
       "      <th>94</th>\n",
       "      <td>2023</td>\n",
       "      <td>3.40%</td>\n",
       "      <td>5.50%</td>\n",
       "      <td>Expansion (2.5%)</td>\n",
       "      <td>Fed raised rates</td>\n",
       "    </tr>\n",
       "  </tbody>\n",
       "</table>\n",
       "</div>"
      ],
      "text/plain": [
       "    Year Inflation Rate YOY, From Previous Dec. Federal Funds Rate  \\\n",
       "89  2018                                  1.90%              2.50%   \n",
       "90  2019                                  2.30%              1.75%   \n",
       "91  2020                                  1.40%              0.25%   \n",
       "92  2021                                  7.00%              0.25%   \n",
       "93  2022                                  6.50%              4.50%   \n",
       "94  2023                                  3.40%              5.50%   \n",
       "\n",
       "        Business Cycle* Events Affecting Inflation  \n",
       "89     Expansion (3.0%)                        NaN  \n",
       "90     Expansion (2.5%)                        NaN  \n",
       "91  Contraction (-2.2%)          COVID-19 pandemic  \n",
       "92     Expansion (5.8%)          COVID-19 pandemic  \n",
       "93     Expansion (1.9%)     Russia invades Ukraine  \n",
       "94     Expansion (2.5%)           Fed raised rates  "
      ]
     },
     "execution_count": 3,
     "metadata": {},
     "output_type": "execute_result"
    }
   ],
   "source": [
    "Inflation_Rate_df['Year'] = Inflation_Rate_df['Year'].astype(int)\n",
    "\n",
    "# Filter the data from 2018 onwards\n",
    "Inflation_Rate_df = Inflation_Rate_df[Inflation_Rate_df['Year'] >= 2018]\n",
    "\n",
    "Inflation_Rate_df"
   ]
  },
  {
   "cell_type": "code",
   "execution_count": 4,
   "id": "185ed31b-fead-452d-90bc-0c18c0f1bf4e",
   "metadata": {},
   "outputs": [
    {
     "name": "stdout",
     "output_type": "stream",
     "text": [
      "[2018 2019 2020 2021 2022 2023]\n"
     ]
    }
   ],
   "source": [
    "years_inf = Inflation_Rate_df['Year'].values \n",
    "print(years_inf)"
   ]
  },
  {
   "cell_type": "code",
   "execution_count": 5,
   "id": "4b373ef3-ae24-47f6-9cea-06dfa54576ff",
   "metadata": {},
   "outputs": [
    {
     "data": {
      "text/plain": [
       "Year                                      0\n",
       "Inflation Rate YOY, From Previous Dec.    0\n",
       "Federal Funds Rate                        0\n",
       "Business Cycle*                           0\n",
       "Events Affecting Inflation                2\n",
       "dtype: int64"
      ]
     },
     "execution_count": 5,
     "metadata": {},
     "output_type": "execute_result"
    }
   ],
   "source": [
    "Inflation_Rate_df.isnull().sum()"
   ]
  },
  {
   "cell_type": "code",
   "execution_count": 6,
   "id": "e06d7d5a-cc18-48c2-8dea-a7df37f1908b",
   "metadata": {},
   "outputs": [
    {
     "name": "stdout",
     "output_type": "stream",
     "text": [
      "<class 'pandas.core.frame.DataFrame'>\n",
      "Index: 6 entries, 89 to 94\n",
      "Data columns (total 5 columns):\n",
      " #   Column                                  Non-Null Count  Dtype \n",
      "---  ------                                  --------------  ----- \n",
      " 0   Year                                    6 non-null      int32 \n",
      " 1   Inflation Rate YOY, From Previous Dec.  6 non-null      object\n",
      " 2   Federal Funds Rate                      6 non-null      object\n",
      " 3   Business Cycle*                         6 non-null      object\n",
      " 4   Events Affecting Inflation              4 non-null      object\n",
      "dtypes: int32(1), object(4)\n",
      "memory usage: 264.0+ bytes\n"
     ]
    }
   ],
   "source": [
    "Inflation_Rate_df.info()"
   ]
  },
  {
   "cell_type": "code",
   "execution_count": 7,
   "id": "6d057bed-c5bd-4671-980c-49e1b9ad5251",
   "metadata": {},
   "outputs": [],
   "source": [
    "retail_sales_df = pd.read_csv(\"C:/Users/nahla/OneDrive/Desktop/Data_Analysis/DataSets/StateAndCategory (1).csv\", encoding=\"latin1\")\n"
   ]
  },
  {
   "cell_type": "code",
   "execution_count": 8,
   "id": "2803ab5b-c074-4d8a-9042-512a194bc07a",
   "metadata": {},
   "outputs": [],
   "source": [
    "Groceries_sales_df = pd.read_csv(\"C:/Users/nahla/OneDrive/Desktop/Data_Analysis/DataSets/Food_price.csv\")"
   ]
  },
  {
   "cell_type": "code",
   "execution_count": 9,
   "id": "657a01cb-2dcf-4821-99e3-ed0e7578b57a",
   "metadata": {},
   "outputs": [],
   "source": [
    "sales_df = pd.merge(Groceries_sales_df, Inflation_Rate_df, \n",
    "                              left_on='Year', right_on='Year', how='left')"
   ]
  },
  {
   "cell_type": "code",
   "execution_count": 10,
   "id": "e6bdb57b-06c5-47c9-9427-790799a5f1c2",
   "metadata": {},
   "outputs": [
    {
     "data": {
      "text/html": [
       "<div>\n",
       "<style scoped>\n",
       "    .dataframe tbody tr th:only-of-type {\n",
       "        vertical-align: middle;\n",
       "    }\n",
       "\n",
       "    .dataframe tbody tr th {\n",
       "        vertical-align: top;\n",
       "    }\n",
       "\n",
       "    .dataframe thead th {\n",
       "        text-align: right;\n",
       "    }\n",
       "</style>\n",
       "<table border=\"1\" class=\"dataframe\">\n",
       "  <thead>\n",
       "    <tr style=\"text-align: right;\">\n",
       "      <th></th>\n",
       "      <th>Date</th>\n",
       "      <th>State</th>\n",
       "      <th>Category</th>\n",
       "      <th>Variable</th>\n",
       "      <th>Value</th>\n",
       "    </tr>\n",
       "  </thead>\n",
       "  <tbody>\n",
       "    <tr>\n",
       "      <th>0</th>\n",
       "      <td>2019-10-06</td>\n",
       "      <td>Alabama</td>\n",
       "      <td>Alcohol</td>\n",
       "      <td>Dollars</td>\n",
       "      <td>23611285.0</td>\n",
       "    </tr>\n",
       "    <tr>\n",
       "      <th>1</th>\n",
       "      <td>2019-10-13</td>\n",
       "      <td>Alabama</td>\n",
       "      <td>Alcohol</td>\n",
       "      <td>Dollars</td>\n",
       "      <td>23220758.0</td>\n",
       "    </tr>\n",
       "    <tr>\n",
       "      <th>2</th>\n",
       "      <td>2019-10-20</td>\n",
       "      <td>Alabama</td>\n",
       "      <td>Alcohol</td>\n",
       "      <td>Dollars</td>\n",
       "      <td>21770283.0</td>\n",
       "    </tr>\n",
       "    <tr>\n",
       "      <th>3</th>\n",
       "      <td>2019-10-27</td>\n",
       "      <td>Alabama</td>\n",
       "      <td>Alcohol</td>\n",
       "      <td>Dollars</td>\n",
       "      <td>21956558.0</td>\n",
       "    </tr>\n",
       "    <tr>\n",
       "      <th>4</th>\n",
       "      <td>2019-11-03</td>\n",
       "      <td>Alabama</td>\n",
       "      <td>Alcohol</td>\n",
       "      <td>Dollars</td>\n",
       "      <td>23183482.0</td>\n",
       "    </tr>\n",
       "    <tr>\n",
       "      <th>...</th>\n",
       "      <td>...</td>\n",
       "      <td>...</td>\n",
       "      <td>...</td>\n",
       "      <td>...</td>\n",
       "      <td>...</td>\n",
       "    </tr>\n",
       "    <tr>\n",
       "      <th>889235</th>\n",
       "      <td>2023-04-09</td>\n",
       "      <td>Wyoming</td>\n",
       "      <td>Vegetables</td>\n",
       "      <td>Percent change units 3 years</td>\n",
       "      <td>-10.0</td>\n",
       "    </tr>\n",
       "    <tr>\n",
       "      <th>889236</th>\n",
       "      <td>2023-04-16</td>\n",
       "      <td>Wyoming</td>\n",
       "      <td>Vegetables</td>\n",
       "      <td>Percent change units 3 years</td>\n",
       "      <td>-22.2</td>\n",
       "    </tr>\n",
       "    <tr>\n",
       "      <th>889237</th>\n",
       "      <td>2023-04-23</td>\n",
       "      <td>Wyoming</td>\n",
       "      <td>Vegetables</td>\n",
       "      <td>Percent change units 3 years</td>\n",
       "      <td>-18.6</td>\n",
       "    </tr>\n",
       "    <tr>\n",
       "      <th>889238</th>\n",
       "      <td>2023-04-30</td>\n",
       "      <td>Wyoming</td>\n",
       "      <td>Vegetables</td>\n",
       "      <td>Percent change units 3 years</td>\n",
       "      <td>-17.9</td>\n",
       "    </tr>\n",
       "    <tr>\n",
       "      <th>889239</th>\n",
       "      <td>2023-05-07</td>\n",
       "      <td>Wyoming</td>\n",
       "      <td>Vegetables</td>\n",
       "      <td>Percent change units 3 years</td>\n",
       "      <td>-13.3</td>\n",
       "    </tr>\n",
       "  </tbody>\n",
       "</table>\n",
       "<p>889240 rows × 5 columns</p>\n",
       "</div>"
      ],
      "text/plain": [
       "              Date    State    Category                      Variable  \\\n",
       "0       2019-10-06  Alabama     Alcohol                       Dollars   \n",
       "1       2019-10-13  Alabama     Alcohol                       Dollars   \n",
       "2       2019-10-20  Alabama     Alcohol                       Dollars   \n",
       "3       2019-10-27  Alabama     Alcohol                       Dollars   \n",
       "4       2019-11-03  Alabama     Alcohol                       Dollars   \n",
       "...            ...      ...         ...                           ...   \n",
       "889235  2023-04-09  Wyoming  Vegetables  Percent change units 3 years   \n",
       "889236  2023-04-16  Wyoming  Vegetables  Percent change units 3 years   \n",
       "889237  2023-04-23  Wyoming  Vegetables  Percent change units 3 years   \n",
       "889238  2023-04-30  Wyoming  Vegetables  Percent change units 3 years   \n",
       "889239  2023-05-07  Wyoming  Vegetables  Percent change units 3 years   \n",
       "\n",
       "             Value  \n",
       "0       23611285.0  \n",
       "1       23220758.0  \n",
       "2       21770283.0  \n",
       "3       21956558.0  \n",
       "4       23183482.0  \n",
       "...            ...  \n",
       "889235       -10.0  \n",
       "889236       -22.2  \n",
       "889237       -18.6  \n",
       "889238       -17.9  \n",
       "889239       -13.3  \n",
       "\n",
       "[889240 rows x 5 columns]"
      ]
     },
     "execution_count": 10,
     "metadata": {},
     "output_type": "execute_result"
    }
   ],
   "source": [
    "retail_sales_df"
   ]
  },
  {
   "cell_type": "code",
   "execution_count": 11,
   "id": "74aa8a77-c1a8-4edf-ba21-86190cb9a547",
   "metadata": {},
   "outputs": [
    {
     "name": "stdout",
     "output_type": "stream",
     "text": [
      "<class 'pandas.core.frame.DataFrame'>\n",
      "RangeIndex: 1100 entries, 0 to 1099\n",
      "Data columns (total 3 columns):\n",
      " #   Column                     Non-Null Count  Dtype  \n",
      "---  ------                     --------------  -----  \n",
      " 0   Consumer Price Index item  1100 non-null   object \n",
      " 1   Year                       1100 non-null   int64  \n",
      " 2   Percent change             1075 non-null   float64\n",
      "dtypes: float64(1), int64(1), object(1)\n",
      "memory usage: 25.9+ KB\n"
     ]
    }
   ],
   "source": [
    "Groceries_sales_df.info()"
   ]
  },
  {
   "cell_type": "code",
   "execution_count": 12,
   "id": "d26ffe3e-bd07-4d18-a8c3-849080739c62",
   "metadata": {},
   "outputs": [
    {
     "name": "stdout",
     "output_type": "stream",
     "text": [
      "int64\n"
     ]
    }
   ],
   "source": [
    "print(Groceries_sales_df['Year'].dtype)"
   ]
  },
  {
   "cell_type": "code",
   "execution_count": 13,
   "id": "3b414289-82a9-4cb1-a064-1f5d92c81541",
   "metadata": {},
   "outputs": [
    {
     "name": "stdout",
     "output_type": "stream",
     "text": [
      "<class 'pandas.core.series.Series'>\n",
      "RangeIndex: 1100 entries, 0 to 1099\n",
      "Series name: Year\n",
      "Non-Null Count  Dtype\n",
      "--------------  -----\n",
      "1100 non-null   int64\n",
      "dtypes: int64(1)\n",
      "memory usage: 8.7 KB\n"
     ]
    }
   ],
   "source": [
    "Groceries_sales_df['Year'].info()"
   ]
  },
  {
   "cell_type": "code",
   "execution_count": 14,
   "id": "f622b41a-e209-46f2-85db-2b8a3b773f11",
   "metadata": {},
   "outputs": [
    {
     "name": "stdout",
     "output_type": "stream",
     "text": [
      "int32\n"
     ]
    }
   ],
   "source": [
    "print(Inflation_Rate_df['Year'].dtype)"
   ]
  },
  {
   "cell_type": "code",
   "execution_count": 21,
   "id": "5859d1ef-0209-4c43-8439-f7a1ef5c431a",
   "metadata": {},
   "outputs": [
    {
     "name": "stdout",
     "output_type": "stream",
     "text": [
      "Consumer Price Index item     object\n",
      "Year                           int64\n",
      "Percent change               float64\n",
      "dtype: object\n"
     ]
    }
   ],
   "source": [
    "print(Groceries_sales_df.dtypes)"
   ]
  },
  {
   "cell_type": "code",
   "execution_count": 22,
   "id": "1ba58995-a66b-4155-929e-721889c963e2",
   "metadata": {},
   "outputs": [
    {
     "data": {
      "text/html": [
       "<div>\n",
       "<style scoped>\n",
       "    .dataframe tbody tr th:only-of-type {\n",
       "        vertical-align: middle;\n",
       "    }\n",
       "\n",
       "    .dataframe tbody tr th {\n",
       "        vertical-align: top;\n",
       "    }\n",
       "\n",
       "    .dataframe thead th {\n",
       "        text-align: right;\n",
       "    }\n",
       "</style>\n",
       "<table border=\"1\" class=\"dataframe\">\n",
       "  <thead>\n",
       "    <tr style=\"text-align: right;\">\n",
       "      <th></th>\n",
       "      <th>Consumer Price Index item</th>\n",
       "      <th>Year</th>\n",
       "      <th>Percent change</th>\n",
       "    </tr>\n",
       "  </thead>\n",
       "  <tbody>\n",
       "    <tr>\n",
       "      <th>194</th>\n",
       "      <td>Meats, poultry, and fish</td>\n",
       "      <td>2018</td>\n",
       "      <td>0.7</td>\n",
       "    </tr>\n",
       "    <tr>\n",
       "      <th>195</th>\n",
       "      <td>Meats, poultry, and fish</td>\n",
       "      <td>2019</td>\n",
       "      <td>1.0</td>\n",
       "    </tr>\n",
       "    <tr>\n",
       "      <th>196</th>\n",
       "      <td>Meats, poultry, and fish</td>\n",
       "      <td>2020</td>\n",
       "      <td>6.3</td>\n",
       "    </tr>\n",
       "    <tr>\n",
       "      <th>197</th>\n",
       "      <td>Meats, poultry, and fish</td>\n",
       "      <td>2021</td>\n",
       "      <td>6.8</td>\n",
       "    </tr>\n",
       "    <tr>\n",
       "      <th>198</th>\n",
       "      <td>Meats, poultry, and fish</td>\n",
       "      <td>2022</td>\n",
       "      <td>9.6</td>\n",
       "    </tr>\n",
       "  </tbody>\n",
       "</table>\n",
       "</div>"
      ],
      "text/plain": [
       "    Consumer Price Index item  Year  Percent change\n",
       "194  Meats, poultry, and fish  2018             0.7\n",
       "195  Meats, poultry, and fish  2019             1.0\n",
       "196  Meats, poultry, and fish  2020             6.3\n",
       "197  Meats, poultry, and fish  2021             6.8\n",
       "198  Meats, poultry, and fish  2022             9.6"
      ]
     },
     "execution_count": 22,
     "metadata": {},
     "output_type": "execute_result"
    }
   ],
   "source": [
    "\n",
    "Groceries_sales_df = Groceries_sales_df[~Groceries_sales_df['Consumer Price Index item'].isin(['All food', 'Food away from home','Food at home'\t, 'Other foods'])]\n",
    "Groceries_sales_df = Groceries_sales_df[Groceries_sales_df['Year'] >= 2018]\n",
    "\n",
    "Groceries_sales_df.head()\n"
   ]
  },
  {
   "cell_type": "code",
   "execution_count": 31,
   "id": "e0d93c88-ac7e-41b4-85f1-bdb635796b46",
   "metadata": {},
   "outputs": [],
   "source": [
    "sales_df = pd.merge(Groceries_sales_df, Inflation_Rate_df, \n",
    "                              left_on='Year', right_on='Year', how='left')\n"
   ]
  },
  {
   "cell_type": "code",
   "execution_count": 35,
   "id": "8f949384-b6e3-4eb6-9f2b-bd270172dfa0",
   "metadata": {},
   "outputs": [
    {
     "data": {
      "text/html": [
       "<div>\n",
       "<style scoped>\n",
       "    .dataframe tbody tr th:only-of-type {\n",
       "        vertical-align: middle;\n",
       "    }\n",
       "\n",
       "    .dataframe tbody tr th {\n",
       "        vertical-align: top;\n",
       "    }\n",
       "\n",
       "    .dataframe thead th {\n",
       "        text-align: right;\n",
       "    }\n",
       "</style>\n",
       "<table border=\"1\" class=\"dataframe\">\n",
       "  <thead>\n",
       "    <tr style=\"text-align: right;\">\n",
       "      <th></th>\n",
       "      <th>Consumer Price Index item</th>\n",
       "      <th>Year</th>\n",
       "      <th>Percent change</th>\n",
       "      <th>Inflation Rate YOY, From Previous Dec.</th>\n",
       "      <th>Federal Funds Rate</th>\n",
       "      <th>Business Cycle*</th>\n",
       "      <th>Events Affecting Inflation</th>\n",
       "    </tr>\n",
       "  </thead>\n",
       "  <tbody>\n",
       "    <tr>\n",
       "      <th>0</th>\n",
       "      <td>Meats, poultry, and fish</td>\n",
       "      <td>2018</td>\n",
       "      <td>0.7</td>\n",
       "      <td>1.90%</td>\n",
       "      <td>2.50%</td>\n",
       "      <td>Expansion (3.0%)</td>\n",
       "      <td>NaN</td>\n",
       "    </tr>\n",
       "    <tr>\n",
       "      <th>1</th>\n",
       "      <td>Meats, poultry, and fish</td>\n",
       "      <td>2019</td>\n",
       "      <td>1.0</td>\n",
       "      <td>2.30%</td>\n",
       "      <td>1.75%</td>\n",
       "      <td>Expansion (2.5%)</td>\n",
       "      <td>NaN</td>\n",
       "    </tr>\n",
       "    <tr>\n",
       "      <th>2</th>\n",
       "      <td>Meats, poultry, and fish</td>\n",
       "      <td>2020</td>\n",
       "      <td>6.3</td>\n",
       "      <td>1.40%</td>\n",
       "      <td>0.25%</td>\n",
       "      <td>Contraction (-2.2%)</td>\n",
       "      <td>COVID-19 pandemic</td>\n",
       "    </tr>\n",
       "    <tr>\n",
       "      <th>3</th>\n",
       "      <td>Meats, poultry, and fish</td>\n",
       "      <td>2021</td>\n",
       "      <td>6.8</td>\n",
       "      <td>7.00%</td>\n",
       "      <td>0.25%</td>\n",
       "      <td>Expansion (5.8%)</td>\n",
       "      <td>COVID-19 pandemic</td>\n",
       "    </tr>\n",
       "    <tr>\n",
       "      <th>4</th>\n",
       "      <td>Meats, poultry, and fish</td>\n",
       "      <td>2022</td>\n",
       "      <td>9.6</td>\n",
       "      <td>6.50%</td>\n",
       "      <td>4.50%</td>\n",
       "      <td>Expansion (1.9%)</td>\n",
       "      <td>Russia invades Ukraine</td>\n",
       "    </tr>\n",
       "    <tr>\n",
       "      <th>...</th>\n",
       "      <td>...</td>\n",
       "      <td>...</td>\n",
       "      <td>...</td>\n",
       "      <td>...</td>\n",
       "      <td>...</td>\n",
       "      <td>...</td>\n",
       "      <td>...</td>\n",
       "    </tr>\n",
       "    <tr>\n",
       "      <th>103</th>\n",
       "      <td>Nonalcoholic beverages</td>\n",
       "      <td>2019</td>\n",
       "      <td>1.9</td>\n",
       "      <td>2.30%</td>\n",
       "      <td>1.75%</td>\n",
       "      <td>Expansion (2.5%)</td>\n",
       "      <td>NaN</td>\n",
       "    </tr>\n",
       "    <tr>\n",
       "      <th>104</th>\n",
       "      <td>Nonalcoholic beverages</td>\n",
       "      <td>2020</td>\n",
       "      <td>3.6</td>\n",
       "      <td>1.40%</td>\n",
       "      <td>0.25%</td>\n",
       "      <td>Contraction (-2.2%)</td>\n",
       "      <td>COVID-19 pandemic</td>\n",
       "    </tr>\n",
       "    <tr>\n",
       "      <th>105</th>\n",
       "      <td>Nonalcoholic beverages</td>\n",
       "      <td>2021</td>\n",
       "      <td>2.8</td>\n",
       "      <td>7.00%</td>\n",
       "      <td>0.25%</td>\n",
       "      <td>Expansion (5.8%)</td>\n",
       "      <td>COVID-19 pandemic</td>\n",
       "    </tr>\n",
       "    <tr>\n",
       "      <th>106</th>\n",
       "      <td>Nonalcoholic beverages</td>\n",
       "      <td>2022</td>\n",
       "      <td>11.0</td>\n",
       "      <td>6.50%</td>\n",
       "      <td>4.50%</td>\n",
       "      <td>Expansion (1.9%)</td>\n",
       "      <td>Russia invades Ukraine</td>\n",
       "    </tr>\n",
       "    <tr>\n",
       "      <th>107</th>\n",
       "      <td>Nonalcoholic beverages</td>\n",
       "      <td>2023</td>\n",
       "      <td>7.0</td>\n",
       "      <td>3.40%</td>\n",
       "      <td>5.50%</td>\n",
       "      <td>Expansion (2.5%)</td>\n",
       "      <td>Fed raised rates</td>\n",
       "    </tr>\n",
       "  </tbody>\n",
       "</table>\n",
       "<p>108 rows × 7 columns</p>\n",
       "</div>"
      ],
      "text/plain": [
       "    Consumer Price Index item  Year  Percent change  \\\n",
       "0    Meats, poultry, and fish  2018             0.7   \n",
       "1    Meats, poultry, and fish  2019             1.0   \n",
       "2    Meats, poultry, and fish  2020             6.3   \n",
       "3    Meats, poultry, and fish  2021             6.8   \n",
       "4    Meats, poultry, and fish  2022             9.6   \n",
       "..                        ...   ...             ...   \n",
       "103    Nonalcoholic beverages  2019             1.9   \n",
       "104    Nonalcoholic beverages  2020             3.6   \n",
       "105    Nonalcoholic beverages  2021             2.8   \n",
       "106    Nonalcoholic beverages  2022            11.0   \n",
       "107    Nonalcoholic beverages  2023             7.0   \n",
       "\n",
       "    Inflation Rate YOY, From Previous Dec. Federal Funds Rate  \\\n",
       "0                                    1.90%              2.50%   \n",
       "1                                    2.30%              1.75%   \n",
       "2                                    1.40%              0.25%   \n",
       "3                                    7.00%              0.25%   \n",
       "4                                    6.50%              4.50%   \n",
       "..                                     ...                ...   \n",
       "103                                  2.30%              1.75%   \n",
       "104                                  1.40%              0.25%   \n",
       "105                                  7.00%              0.25%   \n",
       "106                                  6.50%              4.50%   \n",
       "107                                  3.40%              5.50%   \n",
       "\n",
       "         Business Cycle* Events Affecting Inflation  \n",
       "0       Expansion (3.0%)                        NaN  \n",
       "1       Expansion (2.5%)                        NaN  \n",
       "2    Contraction (-2.2%)          COVID-19 pandemic  \n",
       "3       Expansion (5.8%)          COVID-19 pandemic  \n",
       "4       Expansion (1.9%)     Russia invades Ukraine  \n",
       "..                   ...                        ...  \n",
       "103     Expansion (2.5%)                        NaN  \n",
       "104  Contraction (-2.2%)          COVID-19 pandemic  \n",
       "105     Expansion (5.8%)          COVID-19 pandemic  \n",
       "106     Expansion (1.9%)     Russia invades Ukraine  \n",
       "107     Expansion (2.5%)           Fed raised rates  \n",
       "\n",
       "[108 rows x 7 columns]"
      ]
     },
     "execution_count": 35,
     "metadata": {},
     "output_type": "execute_result"
    }
   ],
   "source": [
    "sales_df"
   ]
  },
  {
   "cell_type": "code",
   "execution_count": 37,
   "id": "22112de3-e1a4-43ea-913f-23d8145618df",
   "metadata": {},
   "outputs": [
    {
     "name": "stdout",
     "output_type": "stream",
     "text": [
      "<class 'pandas.core.frame.DataFrame'>\n",
      "Index: 108 entries, 194 to 1049\n",
      "Data columns (total 3 columns):\n",
      " #   Column                     Non-Null Count  Dtype  \n",
      "---  ------                     --------------  -----  \n",
      " 0   Consumer Price Index item  108 non-null    object \n",
      " 1   Year                       108 non-null    int64  \n",
      " 2   Percent change             108 non-null    float64\n",
      "dtypes: float64(1), int64(1), object(1)\n",
      "memory usage: 3.4+ KB\n"
     ]
    }
   ],
   "source": [
    "Groceries_sales_df.info()"
   ]
  },
  {
   "cell_type": "code",
   "execution_count": 39,
   "id": "a10c89a7-f31b-411e-9750-f6f9db723819",
   "metadata": {},
   "outputs": [
    {
     "data": {
      "text/plain": [
       "Consumer Price Index item                  0\n",
       "Year                                       0\n",
       "Percent change                             0\n",
       "Inflation Rate YOY, From Previous Dec.     0\n",
       "Federal Funds Rate                         0\n",
       "Business Cycle*                            0\n",
       "Events Affecting Inflation                36\n",
       "dtype: int64"
      ]
     },
     "execution_count": 39,
     "metadata": {},
     "output_type": "execute_result"
    }
   ],
   "source": [
    "sales_df.isnull().sum()"
   ]
  },
  {
   "cell_type": "code",
   "execution_count": 41,
   "id": "337e0083-4310-42df-a0bf-8dc75e4ea27b",
   "metadata": {},
   "outputs": [],
   "source": [
    "sales_df.dropna(inplace=True)"
   ]
  },
  {
   "cell_type": "code",
   "execution_count": 43,
   "id": "4bf0bf91-a0e4-45e2-a3c7-27c469ca3e48",
   "metadata": {},
   "outputs": [
    {
     "data": {
      "text/plain": [
       "Consumer Price Index item                 0\n",
       "Year                                      0\n",
       "Percent change                            0\n",
       "Inflation Rate YOY, From Previous Dec.    0\n",
       "Federal Funds Rate                        0\n",
       "Business Cycle*                           0\n",
       "Events Affecting Inflation                0\n",
       "dtype: int64"
      ]
     },
     "execution_count": 43,
     "metadata": {},
     "output_type": "execute_result"
    }
   ],
   "source": [
    "sales_df.isnull().sum()"
   ]
  },
  {
   "cell_type": "code",
   "execution_count": 45,
   "id": "fe1c72c3-5fb5-4460-b795-3de329b33515",
   "metadata": {},
   "outputs": [
    {
     "data": {
      "text/html": [
       "<div>\n",
       "<style scoped>\n",
       "    .dataframe tbody tr th:only-of-type {\n",
       "        vertical-align: middle;\n",
       "    }\n",
       "\n",
       "    .dataframe tbody tr th {\n",
       "        vertical-align: top;\n",
       "    }\n",
       "\n",
       "    .dataframe thead th {\n",
       "        text-align: right;\n",
       "    }\n",
       "</style>\n",
       "<table border=\"1\" class=\"dataframe\">\n",
       "  <thead>\n",
       "    <tr style=\"text-align: right;\">\n",
       "      <th></th>\n",
       "      <th>Consumer Price Index item</th>\n",
       "      <th>Year</th>\n",
       "      <th>Percent change</th>\n",
       "      <th>Inflation Rate YOY, From Previous Dec.</th>\n",
       "      <th>Federal Funds Rate</th>\n",
       "      <th>Business Cycle*</th>\n",
       "      <th>Events Affecting Inflation</th>\n",
       "    </tr>\n",
       "  </thead>\n",
       "  <tbody>\n",
       "    <tr>\n",
       "      <th>2</th>\n",
       "      <td>Meats, poultry, and fish</td>\n",
       "      <td>2020</td>\n",
       "      <td>6.3</td>\n",
       "      <td>1.40%</td>\n",
       "      <td>0.25%</td>\n",
       "      <td>Contraction (-2.2%)</td>\n",
       "      <td>COVID-19 pandemic</td>\n",
       "    </tr>\n",
       "    <tr>\n",
       "      <th>3</th>\n",
       "      <td>Meats, poultry, and fish</td>\n",
       "      <td>2021</td>\n",
       "      <td>6.8</td>\n",
       "      <td>7.00%</td>\n",
       "      <td>0.25%</td>\n",
       "      <td>Expansion (5.8%)</td>\n",
       "      <td>COVID-19 pandemic</td>\n",
       "    </tr>\n",
       "    <tr>\n",
       "      <th>4</th>\n",
       "      <td>Meats, poultry, and fish</td>\n",
       "      <td>2022</td>\n",
       "      <td>9.6</td>\n",
       "      <td>6.50%</td>\n",
       "      <td>4.50%</td>\n",
       "      <td>Expansion (1.9%)</td>\n",
       "      <td>Russia invades Ukraine</td>\n",
       "    </tr>\n",
       "    <tr>\n",
       "      <th>5</th>\n",
       "      <td>Meats, poultry, and fish</td>\n",
       "      <td>2023</td>\n",
       "      <td>2.0</td>\n",
       "      <td>3.40%</td>\n",
       "      <td>5.50%</td>\n",
       "      <td>Expansion (2.5%)</td>\n",
       "      <td>Fed raised rates</td>\n",
       "    </tr>\n",
       "    <tr>\n",
       "      <th>8</th>\n",
       "      <td>Meats</td>\n",
       "      <td>2020</td>\n",
       "      <td>7.4</td>\n",
       "      <td>1.40%</td>\n",
       "      <td>0.25%</td>\n",
       "      <td>Contraction (-2.2%)</td>\n",
       "      <td>COVID-19 pandemic</td>\n",
       "    </tr>\n",
       "    <tr>\n",
       "      <th>...</th>\n",
       "      <td>...</td>\n",
       "      <td>...</td>\n",
       "      <td>...</td>\n",
       "      <td>...</td>\n",
       "      <td>...</td>\n",
       "      <td>...</td>\n",
       "      <td>...</td>\n",
       "    </tr>\n",
       "    <tr>\n",
       "      <th>101</th>\n",
       "      <td>Cereals and bakery products</td>\n",
       "      <td>2023</td>\n",
       "      <td>8.4</td>\n",
       "      <td>3.40%</td>\n",
       "      <td>5.50%</td>\n",
       "      <td>Expansion (2.5%)</td>\n",
       "      <td>Fed raised rates</td>\n",
       "    </tr>\n",
       "    <tr>\n",
       "      <th>104</th>\n",
       "      <td>Nonalcoholic beverages</td>\n",
       "      <td>2020</td>\n",
       "      <td>3.6</td>\n",
       "      <td>1.40%</td>\n",
       "      <td>0.25%</td>\n",
       "      <td>Contraction (-2.2%)</td>\n",
       "      <td>COVID-19 pandemic</td>\n",
       "    </tr>\n",
       "    <tr>\n",
       "      <th>105</th>\n",
       "      <td>Nonalcoholic beverages</td>\n",
       "      <td>2021</td>\n",
       "      <td>2.8</td>\n",
       "      <td>7.00%</td>\n",
       "      <td>0.25%</td>\n",
       "      <td>Expansion (5.8%)</td>\n",
       "      <td>COVID-19 pandemic</td>\n",
       "    </tr>\n",
       "    <tr>\n",
       "      <th>106</th>\n",
       "      <td>Nonalcoholic beverages</td>\n",
       "      <td>2022</td>\n",
       "      <td>11.0</td>\n",
       "      <td>6.50%</td>\n",
       "      <td>4.50%</td>\n",
       "      <td>Expansion (1.9%)</td>\n",
       "      <td>Russia invades Ukraine</td>\n",
       "    </tr>\n",
       "    <tr>\n",
       "      <th>107</th>\n",
       "      <td>Nonalcoholic beverages</td>\n",
       "      <td>2023</td>\n",
       "      <td>7.0</td>\n",
       "      <td>3.40%</td>\n",
       "      <td>5.50%</td>\n",
       "      <td>Expansion (2.5%)</td>\n",
       "      <td>Fed raised rates</td>\n",
       "    </tr>\n",
       "  </tbody>\n",
       "</table>\n",
       "<p>72 rows × 7 columns</p>\n",
       "</div>"
      ],
      "text/plain": [
       "       Consumer Price Index item  Year  Percent change  \\\n",
       "2       Meats, poultry, and fish  2020             6.3   \n",
       "3       Meats, poultry, and fish  2021             6.8   \n",
       "4       Meats, poultry, and fish  2022             9.6   \n",
       "5       Meats, poultry, and fish  2023             2.0   \n",
       "8                          Meats  2020             7.4   \n",
       "..                           ...   ...             ...   \n",
       "101  Cereals and bakery products  2023             8.4   \n",
       "104       Nonalcoholic beverages  2020             3.6   \n",
       "105       Nonalcoholic beverages  2021             2.8   \n",
       "106       Nonalcoholic beverages  2022            11.0   \n",
       "107       Nonalcoholic beverages  2023             7.0   \n",
       "\n",
       "    Inflation Rate YOY, From Previous Dec. Federal Funds Rate  \\\n",
       "2                                    1.40%              0.25%   \n",
       "3                                    7.00%              0.25%   \n",
       "4                                    6.50%              4.50%   \n",
       "5                                    3.40%              5.50%   \n",
       "8                                    1.40%              0.25%   \n",
       "..                                     ...                ...   \n",
       "101                                  3.40%              5.50%   \n",
       "104                                  1.40%              0.25%   \n",
       "105                                  7.00%              0.25%   \n",
       "106                                  6.50%              4.50%   \n",
       "107                                  3.40%              5.50%   \n",
       "\n",
       "         Business Cycle* Events Affecting Inflation  \n",
       "2    Contraction (-2.2%)          COVID-19 pandemic  \n",
       "3       Expansion (5.8%)          COVID-19 pandemic  \n",
       "4       Expansion (1.9%)     Russia invades Ukraine  \n",
       "5       Expansion (2.5%)           Fed raised rates  \n",
       "8    Contraction (-2.2%)          COVID-19 pandemic  \n",
       "..                   ...                        ...  \n",
       "101     Expansion (2.5%)           Fed raised rates  \n",
       "104  Contraction (-2.2%)          COVID-19 pandemic  \n",
       "105     Expansion (5.8%)          COVID-19 pandemic  \n",
       "106     Expansion (1.9%)     Russia invades Ukraine  \n",
       "107     Expansion (2.5%)           Fed raised rates  \n",
       "\n",
       "[72 rows x 7 columns]"
      ]
     },
     "execution_count": 45,
     "metadata": {},
     "output_type": "execute_result"
    }
   ],
   "source": [
    "sales_df"
   ]
  },
  {
   "cell_type": "code",
   "execution_count": 47,
   "id": "de52ba58-62a7-4d31-a702-1a42858cee87",
   "metadata": {},
   "outputs": [
    {
     "data": {
      "text/plain": [
       "Index(['Consumer Price Index item', 'Year', 'Percent change',\n",
       "       'Inflation Rate YOY, From Previous Dec.', 'Federal Funds Rate',\n",
       "       'Business Cycle*', 'Events Affecting Inflation'],\n",
       "      dtype='object')"
      ]
     },
     "execution_count": 47,
     "metadata": {},
     "output_type": "execute_result"
    }
   ],
   "source": [
    "sales_df.columns"
   ]
  },
  {
   "cell_type": "code",
   "execution_count": 49,
   "id": "6c128c36-bf8e-401c-abf6-334b2680872d",
   "metadata": {},
   "outputs": [
    {
     "data": {
      "text/plain": [
       "Index(['Consumer Price Index item', 'Year', 'Percent change',\n",
       "       'Inflation Rate YOY, From Previous Dec.', 'Federal Funds Rate',\n",
       "       'Business Cycle*', 'Events Affecting Inflation'],\n",
       "      dtype='object')"
      ]
     },
     "execution_count": 49,
     "metadata": {},
     "output_type": "execute_result"
    }
   ],
   "source": [
    "sales_df.columns"
   ]
  },
  {
   "cell_type": "code",
   "execution_count": 51,
   "id": "f8f8be01-65ee-4c42-a505-c595a109a60a",
   "metadata": {},
   "outputs": [],
   "source": [
    "# Rename remaining columns for clarity\n",
    "sales_df.rename(columns={\n",
    "    'Inflation Rate YOY, From Previous Dec.': 'Inflation Rate YOY From Previous Dec', \n",
    "    'Federal Funds Rate_x': 'Federal Funds Rate', \n",
    "    'Business Cycle*_x': 'Business Cycle*', \n",
    "    'Events Affecting Inflation_x': 'Events Affecting Inflation'\n",
    "    ,'Consumer Price Index item':'item'\n",
    "}, inplace=True)\n",
    "\n"
   ]
  },
  {
   "cell_type": "code",
   "execution_count": 53,
   "id": "243f56c6-3cc3-4bcf-9a28-d9657102d32f",
   "metadata": {},
   "outputs": [
    {
     "data": {
      "text/plain": [
       "Index(['item', 'Year', 'Percent change',\n",
       "       'Inflation Rate YOY From Previous Dec', 'Federal Funds Rate',\n",
       "       'Business Cycle*', 'Events Affecting Inflation'],\n",
       "      dtype='object')"
      ]
     },
     "execution_count": 53,
     "metadata": {},
     "output_type": "execute_result"
    }
   ],
   "source": [
    "sales_df.columns"
   ]
  },
  {
   "cell_type": "code",
   "execution_count": 55,
   "id": "2a1dbf06-5d20-4c5d-9ca5-4128a06ad4f9",
   "metadata": {},
   "outputs": [
    {
     "data": {
      "text/html": [
       "<div>\n",
       "<style scoped>\n",
       "    .dataframe tbody tr th:only-of-type {\n",
       "        vertical-align: middle;\n",
       "    }\n",
       "\n",
       "    .dataframe tbody tr th {\n",
       "        vertical-align: top;\n",
       "    }\n",
       "\n",
       "    .dataframe thead th {\n",
       "        text-align: right;\n",
       "    }\n",
       "</style>\n",
       "<table border=\"1\" class=\"dataframe\">\n",
       "  <thead>\n",
       "    <tr style=\"text-align: right;\">\n",
       "      <th></th>\n",
       "      <th>item</th>\n",
       "      <th>Year</th>\n",
       "      <th>Percent change</th>\n",
       "      <th>Inflation Rate YOY From Previous Dec</th>\n",
       "      <th>Federal Funds Rate</th>\n",
       "      <th>Business Cycle*</th>\n",
       "      <th>Events Affecting Inflation</th>\n",
       "    </tr>\n",
       "  </thead>\n",
       "  <tbody>\n",
       "    <tr>\n",
       "      <th>2</th>\n",
       "      <td>Meats, poultry, and fish</td>\n",
       "      <td>2020</td>\n",
       "      <td>6.3</td>\n",
       "      <td>1.40%</td>\n",
       "      <td>0.25%</td>\n",
       "      <td>Contraction (-2.2%)</td>\n",
       "      <td>COVID-19 pandemic</td>\n",
       "    </tr>\n",
       "    <tr>\n",
       "      <th>3</th>\n",
       "      <td>Meats, poultry, and fish</td>\n",
       "      <td>2021</td>\n",
       "      <td>6.8</td>\n",
       "      <td>7.00%</td>\n",
       "      <td>0.25%</td>\n",
       "      <td>Expansion (5.8%)</td>\n",
       "      <td>COVID-19 pandemic</td>\n",
       "    </tr>\n",
       "    <tr>\n",
       "      <th>4</th>\n",
       "      <td>Meats, poultry, and fish</td>\n",
       "      <td>2022</td>\n",
       "      <td>9.6</td>\n",
       "      <td>6.50%</td>\n",
       "      <td>4.50%</td>\n",
       "      <td>Expansion (1.9%)</td>\n",
       "      <td>Russia invades Ukraine</td>\n",
       "    </tr>\n",
       "    <tr>\n",
       "      <th>5</th>\n",
       "      <td>Meats, poultry, and fish</td>\n",
       "      <td>2023</td>\n",
       "      <td>2.0</td>\n",
       "      <td>3.40%</td>\n",
       "      <td>5.50%</td>\n",
       "      <td>Expansion (2.5%)</td>\n",
       "      <td>Fed raised rates</td>\n",
       "    </tr>\n",
       "    <tr>\n",
       "      <th>8</th>\n",
       "      <td>Meats</td>\n",
       "      <td>2020</td>\n",
       "      <td>7.4</td>\n",
       "      <td>1.40%</td>\n",
       "      <td>0.25%</td>\n",
       "      <td>Contraction (-2.2%)</td>\n",
       "      <td>COVID-19 pandemic</td>\n",
       "    </tr>\n",
       "  </tbody>\n",
       "</table>\n",
       "</div>"
      ],
      "text/plain": [
       "                       item  Year  Percent change  \\\n",
       "2  Meats, poultry, and fish  2020             6.3   \n",
       "3  Meats, poultry, and fish  2021             6.8   \n",
       "4  Meats, poultry, and fish  2022             9.6   \n",
       "5  Meats, poultry, and fish  2023             2.0   \n",
       "8                     Meats  2020             7.4   \n",
       "\n",
       "  Inflation Rate YOY From Previous Dec Federal Funds Rate  \\\n",
       "2                                1.40%              0.25%   \n",
       "3                                7.00%              0.25%   \n",
       "4                                6.50%              4.50%   \n",
       "5                                3.40%              5.50%   \n",
       "8                                1.40%              0.25%   \n",
       "\n",
       "       Business Cycle* Events Affecting Inflation  \n",
       "2  Contraction (-2.2%)          COVID-19 pandemic  \n",
       "3     Expansion (5.8%)          COVID-19 pandemic  \n",
       "4     Expansion (1.9%)     Russia invades Ukraine  \n",
       "5     Expansion (2.5%)           Fed raised rates  \n",
       "8  Contraction (-2.2%)          COVID-19 pandemic  "
      ]
     },
     "execution_count": 55,
     "metadata": {},
     "output_type": "execute_result"
    }
   ],
   "source": [
    "sales_df.head()"
   ]
  },
  {
   "cell_type": "code",
   "execution_count": 57,
   "id": "e897caba-f460-43e1-a8ec-b0975e83d70f",
   "metadata": {
    "scrolled": true
   },
   "outputs": [
    {
     "data": {
      "text/html": [
       "<div>\n",
       "<style scoped>\n",
       "    .dataframe tbody tr th:only-of-type {\n",
       "        vertical-align: middle;\n",
       "    }\n",
       "\n",
       "    .dataframe tbody tr th {\n",
       "        vertical-align: top;\n",
       "    }\n",
       "\n",
       "    .dataframe thead th {\n",
       "        text-align: right;\n",
       "    }\n",
       "</style>\n",
       "<table border=\"1\" class=\"dataframe\">\n",
       "  <thead>\n",
       "    <tr style=\"text-align: right;\">\n",
       "      <th></th>\n",
       "      <th>Date</th>\n",
       "      <th>State</th>\n",
       "      <th>Category</th>\n",
       "      <th>Variable</th>\n",
       "      <th>Value</th>\n",
       "    </tr>\n",
       "  </thead>\n",
       "  <tbody>\n",
       "    <tr>\n",
       "      <th>0</th>\n",
       "      <td>2019-10-06</td>\n",
       "      <td>Alabama</td>\n",
       "      <td>Alcohol</td>\n",
       "      <td>Dollars</td>\n",
       "      <td>23611285.0</td>\n",
       "    </tr>\n",
       "    <tr>\n",
       "      <th>1</th>\n",
       "      <td>2019-10-13</td>\n",
       "      <td>Alabama</td>\n",
       "      <td>Alcohol</td>\n",
       "      <td>Dollars</td>\n",
       "      <td>23220758.0</td>\n",
       "    </tr>\n",
       "    <tr>\n",
       "      <th>2</th>\n",
       "      <td>2019-10-20</td>\n",
       "      <td>Alabama</td>\n",
       "      <td>Alcohol</td>\n",
       "      <td>Dollars</td>\n",
       "      <td>21770283.0</td>\n",
       "    </tr>\n",
       "    <tr>\n",
       "      <th>3</th>\n",
       "      <td>2019-10-27</td>\n",
       "      <td>Alabama</td>\n",
       "      <td>Alcohol</td>\n",
       "      <td>Dollars</td>\n",
       "      <td>21956558.0</td>\n",
       "    </tr>\n",
       "    <tr>\n",
       "      <th>4</th>\n",
       "      <td>2019-11-03</td>\n",
       "      <td>Alabama</td>\n",
       "      <td>Alcohol</td>\n",
       "      <td>Dollars</td>\n",
       "      <td>23183482.0</td>\n",
       "    </tr>\n",
       "  </tbody>\n",
       "</table>\n",
       "</div>"
      ],
      "text/plain": [
       "         Date    State Category Variable       Value\n",
       "0  2019-10-06  Alabama  Alcohol  Dollars  23611285.0\n",
       "1  2019-10-13  Alabama  Alcohol  Dollars  23220758.0\n",
       "2  2019-10-20  Alabama  Alcohol  Dollars  21770283.0\n",
       "3  2019-10-27  Alabama  Alcohol  Dollars  21956558.0\n",
       "4  2019-11-03  Alabama  Alcohol  Dollars  23183482.0"
      ]
     },
     "execution_count": 57,
     "metadata": {},
     "output_type": "execute_result"
    }
   ],
   "source": [
    "\n",
    "retail_sales_df.head()"
   ]
  },
  {
   "cell_type": "code",
   "execution_count": 59,
   "id": "2b728487-0ffc-4939-a17e-cf55d1917bbc",
   "metadata": {},
   "outputs": [
    {
     "data": {
      "text/html": [
       "<div>\n",
       "<style scoped>\n",
       "    .dataframe tbody tr th:only-of-type {\n",
       "        vertical-align: middle;\n",
       "    }\n",
       "\n",
       "    .dataframe tbody tr th {\n",
       "        vertical-align: top;\n",
       "    }\n",
       "\n",
       "    .dataframe thead th {\n",
       "        text-align: right;\n",
       "    }\n",
       "</style>\n",
       "<table border=\"1\" class=\"dataframe\">\n",
       "  <thead>\n",
       "    <tr style=\"text-align: right;\">\n",
       "      <th></th>\n",
       "      <th>Date</th>\n",
       "      <th>State</th>\n",
       "      <th>Category</th>\n",
       "      <th>Variable</th>\n",
       "      <th>Price</th>\n",
       "    </tr>\n",
       "  </thead>\n",
       "  <tbody>\n",
       "    <tr>\n",
       "      <th>0</th>\n",
       "      <td>2019-10-06</td>\n",
       "      <td>Alabama</td>\n",
       "      <td>Alcohol</td>\n",
       "      <td>Dollars</td>\n",
       "      <td>23611285.0</td>\n",
       "    </tr>\n",
       "    <tr>\n",
       "      <th>1</th>\n",
       "      <td>2019-10-13</td>\n",
       "      <td>Alabama</td>\n",
       "      <td>Alcohol</td>\n",
       "      <td>Dollars</td>\n",
       "      <td>23220758.0</td>\n",
       "    </tr>\n",
       "    <tr>\n",
       "      <th>2</th>\n",
       "      <td>2019-10-20</td>\n",
       "      <td>Alabama</td>\n",
       "      <td>Alcohol</td>\n",
       "      <td>Dollars</td>\n",
       "      <td>21770283.0</td>\n",
       "    </tr>\n",
       "    <tr>\n",
       "      <th>3</th>\n",
       "      <td>2019-10-27</td>\n",
       "      <td>Alabama</td>\n",
       "      <td>Alcohol</td>\n",
       "      <td>Dollars</td>\n",
       "      <td>21956558.0</td>\n",
       "    </tr>\n",
       "    <tr>\n",
       "      <th>4</th>\n",
       "      <td>2019-11-03</td>\n",
       "      <td>Alabama</td>\n",
       "      <td>Alcohol</td>\n",
       "      <td>Dollars</td>\n",
       "      <td>23183482.0</td>\n",
       "    </tr>\n",
       "  </tbody>\n",
       "</table>\n",
       "</div>"
      ],
      "text/plain": [
       "         Date    State Category Variable       Price\n",
       "0  2019-10-06  Alabama  Alcohol  Dollars  23611285.0\n",
       "1  2019-10-13  Alabama  Alcohol  Dollars  23220758.0\n",
       "2  2019-10-20  Alabama  Alcohol  Dollars  21770283.0\n",
       "3  2019-10-27  Alabama  Alcohol  Dollars  21956558.0\n",
       "4  2019-11-03  Alabama  Alcohol  Dollars  23183482.0"
      ]
     },
     "execution_count": 59,
     "metadata": {},
     "output_type": "execute_result"
    }
   ],
   "source": [
    "# Rename the 'Value' column to 'Price'\n",
    "retail_sales_df.rename(columns={\"Value\": \"Price\"}, inplace=True)\n",
    "\n",
    "# Display the updated DataFrame\n",
    "retail_sales_df.head()\n"
   ]
  },
  {
   "cell_type": "code",
   "execution_count": 61,
   "id": "7b0ba45c-6036-4b51-8eee-4cbfd4255391",
   "metadata": {},
   "outputs": [
    {
     "data": {
      "text/plain": [
       "Date             0\n",
       "State            0\n",
       "Category         0\n",
       "Variable         0\n",
       "Price       199066\n",
       "dtype: int64"
      ]
     },
     "execution_count": 61,
     "metadata": {},
     "output_type": "execute_result"
    }
   ],
   "source": [
    "retail_sales_df.isnull().sum()"
   ]
  },
  {
   "cell_type": "code",
   "execution_count": 63,
   "id": "60fd5e0c-21b6-43d5-a129-18c883a1a227",
   "metadata": {},
   "outputs": [
    {
     "name": "stdout",
     "output_type": "stream",
     "text": [
      "Index(['Date', 'State', 'Category', 'Variable', 'Price'], dtype='object')\n"
     ]
    }
   ],
   "source": [
    "\n",
    "print(retail_sales_df.columns)"
   ]
  },
  {
   "cell_type": "code",
   "execution_count": 65,
   "id": "7b792a98-4358-41e8-805f-be31114e3596",
   "metadata": {},
   "outputs": [
    {
     "name": "stdout",
     "output_type": "stream",
     "text": [
      "<class 'pandas.core.frame.DataFrame'>\n",
      "RangeIndex: 889240 entries, 0 to 889239\n",
      "Data columns (total 5 columns):\n",
      " #   Column    Non-Null Count   Dtype  \n",
      "---  ------    --------------   -----  \n",
      " 0   Date      889240 non-null  object \n",
      " 1   State     889240 non-null  object \n",
      " 2   Category  889240 non-null  object \n",
      " 3   Variable  889240 non-null  object \n",
      " 4   Price     690174 non-null  float64\n",
      "dtypes: float64(1), object(4)\n",
      "memory usage: 33.9+ MB\n"
     ]
    }
   ],
   "source": [
    "retail_sales_df.info()"
   ]
  },
  {
   "cell_type": "code",
   "execution_count": 67,
   "id": "611ffa24-3575-4a53-8f5c-476a056271c2",
   "metadata": {},
   "outputs": [],
   "source": [
    "retail_sales_df.loc[:, 'Date'] = pd.to_datetime(retail_sales_df['Date'])\n"
   ]
  },
  {
   "cell_type": "code",
   "execution_count": 68,
   "id": "a303d103-c917-4722-932c-3b0ec84c220c",
   "metadata": {},
   "outputs": [
    {
     "name": "stdout",
     "output_type": "stream",
     "text": [
      "<class 'pandas.core.frame.DataFrame'>\n",
      "Index: 72 entries, 2 to 107\n",
      "Data columns (total 7 columns):\n",
      " #   Column                                Non-Null Count  Dtype  \n",
      "---  ------                                --------------  -----  \n",
      " 0   item                                  72 non-null     object \n",
      " 1   Year                                  72 non-null     int64  \n",
      " 2   Percent change                        72 non-null     float64\n",
      " 3   Inflation Rate YOY From Previous Dec  72 non-null     object \n",
      " 4   Federal Funds Rate                    72 non-null     object \n",
      " 5   Business Cycle*                       72 non-null     object \n",
      " 6   Events Affecting Inflation            72 non-null     object \n",
      "dtypes: float64(1), int64(1), object(5)\n",
      "memory usage: 4.5+ KB\n"
     ]
    }
   ],
   "source": [
    "sales_df.info()"
   ]
  },
  {
   "cell_type": "code",
   "execution_count": 69,
   "id": "3de3db51-63d7-4a0f-82d6-c490da9c7a0f",
   "metadata": {},
   "outputs": [],
   "source": [
    "\n",
    "retail_sales_df['Date'] = pd.to_datetime(retail_sales_df['Date'], errors='coerce')"
   ]
  },
  {
   "cell_type": "code",
   "execution_count": 70,
   "id": "2fbe788f-cda0-432c-9320-959219d404e5",
   "metadata": {},
   "outputs": [
    {
     "name": "stdout",
     "output_type": "stream",
     "text": [
      "Date        datetime64[ns]\n",
      "State               object\n",
      "Category            object\n",
      "Variable            object\n",
      "Price              float64\n",
      "dtype: object\n"
     ]
    }
   ],
   "source": [
    "print(retail_sales_df.dtypes)"
   ]
  },
  {
   "cell_type": "code",
   "execution_count": 71,
   "id": "ce397368-d365-47a8-99e2-0a75df7e9d37",
   "metadata": {},
   "outputs": [],
   "source": [
    "retail_sales_df['Year'] = retail_sales_df['Date'].dt.year"
   ]
  },
  {
   "cell_type": "code",
   "execution_count": 72,
   "id": "88aea945-2d9b-4fa7-9ab2-54b706fea5ff",
   "metadata": {},
   "outputs": [
    {
     "data": {
      "text/plain": [
       "array(['Alcohol', 'Beverages', 'Commercially prepared items', 'Dairy',\n",
       "       'Fats and oils', 'Fruits', 'Grains', 'Meats, eggs, and nuts',\n",
       "       'Other', 'Sugar and sweeteners', 'Vegetables'], dtype=object)"
      ]
     },
     "execution_count": 72,
     "metadata": {},
     "output_type": "execute_result"
    }
   ],
   "source": [
    "retail_sales_df['Category'].unique()\n"
   ]
  },
  {
   "cell_type": "code",
   "execution_count": 73,
   "id": "d43a4eaa-8368-418d-b029-ad414ff55239",
   "metadata": {},
   "outputs": [],
   "source": [
    "retail_sales_df = retail_sales_df[retail_sales_df['Category'] != 'Other']\n"
   ]
  },
  {
   "cell_type": "code",
   "execution_count": 74,
   "id": "e959ac54-8c49-470d-bf55-381d76dfadd3",
   "metadata": {},
   "outputs": [
    {
     "data": {
      "text/plain": [
       "array(['Alcohol', 'Beverages', 'Commercially prepared items', 'Dairy',\n",
       "       'Fats and oils', 'Fruits', 'Grains', 'Meats, eggs, and nuts',\n",
       "       'Sugar and sweeteners', 'Vegetables'], dtype=object)"
      ]
     },
     "execution_count": 74,
     "metadata": {},
     "output_type": "execute_result"
    }
   ],
   "source": [
    "retail_sales_df['Category'].unique()"
   ]
  },
  {
   "cell_type": "code",
   "execution_count": 75,
   "id": "500ab1a3-dd5a-41bf-8acf-6cf9247fb96a",
   "metadata": {},
   "outputs": [
    {
     "data": {
      "text/plain": [
       "Index(['item', 'Year', 'Percent change',\n",
       "       'Inflation Rate YOY From Previous Dec', 'Federal Funds Rate',\n",
       "       'Business Cycle*', 'Events Affecting Inflation'],\n",
       "      dtype='object')"
      ]
     },
     "execution_count": 75,
     "metadata": {},
     "output_type": "execute_result"
    }
   ],
   "source": [
    "sales_df.columns"
   ]
  },
  {
   "cell_type": "code",
   "execution_count": 76,
   "id": "8530ccdf-fb31-441e-9c22-d668c948fb67",
   "metadata": {},
   "outputs": [
    {
     "data": {
      "text/plain": [
       "array(['Meats, poultry, and fish', 'Meats', 'Beef and veal', 'Pork',\n",
       "       'Other meats', 'Poultry', 'Fish and seafood', 'Eggs',\n",
       "       'Dairy products', 'Fats and oils', 'Fruits and vegetables',\n",
       "       'Fresh fruits and vegetables', 'Fresh fruits', 'Fresh vegetables',\n",
       "       'Processed fruits and vegetables', 'Sugar and sweets',\n",
       "       'Cereals and bakery products', 'Nonalcoholic beverages'],\n",
       "      dtype=object)"
      ]
     },
     "execution_count": 76,
     "metadata": {},
     "output_type": "execute_result"
    }
   ],
   "source": [
    "sales_df['item'].unique()"
   ]
  },
  {
   "cell_type": "code",
   "execution_count": 79,
   "id": "c8ef114e-3cad-408a-acc3-4f0f24c2d0c8",
   "metadata": {},
   "outputs": [],
   "source": [
    "categories_to_drop = ['All food', 'Food away from home', 'Food at home',\n",
    "                      'Meats, poultry, and fish', 'Beef and veal', \n",
    "                      'Other meats', 'Other foods']\n",
    "\n",
    "# Ensure sales_df is a DataFrame before filtering\n",
    "if isinstance(sales_df, pd.DataFrame):\n",
    "    sales_df = sales_df[~sales_df['item'].isin(categories_to_drop)]\n",
    "else:\n",
    "    print(\"Error: sales_df is not a DataFrame.\")\n"
   ]
  },
  {
   "cell_type": "code",
   "execution_count": 89,
   "id": "1dc0718e-b87e-4f06-8abe-a444ff195313",
   "metadata": {},
   "outputs": [
    {
     "data": {
      "text/plain": [
       "pandas.core.frame.DataFrame"
      ]
     },
     "execution_count": 89,
     "metadata": {},
     "output_type": "execute_result"
    }
   ],
   "source": [
    "type(sales_df)\n"
   ]
  },
  {
   "cell_type": "code",
   "execution_count": 91,
   "id": "2879bb94-d03c-4b9a-a947-2d5e5ebe2735",
   "metadata": {},
   "outputs": [
    {
     "data": {
      "text/plain": [
       "array(['Meats', 'Pork', 'Poultry', 'Fish and seafood', 'Eggs',\n",
       "       'Dairy products', 'Fats and oils', 'Fruits and vegetables',\n",
       "       'Fresh fruits and vegetables', 'Fresh fruits', 'Fresh vegetables',\n",
       "       'Processed fruits and vegetables', 'Sugar and sweets',\n",
       "       'Cereals and bakery products', 'Nonalcoholic beverages'],\n",
       "      dtype=object)"
      ]
     },
     "execution_count": 91,
     "metadata": {},
     "output_type": "execute_result"
    }
   ],
   "source": [
    "sales_df['item'].unique()"
   ]
  },
  {
   "cell_type": "code",
   "execution_count": 93,
   "id": "4d32e7ac-7a27-4bb9-b105-e812a61596a3",
   "metadata": {},
   "outputs": [],
   "source": [
    "\n",
    "sales_inflation_data = pd.merge(sales_df, retail_sales_df, \n",
    "                                on='Year', \n",
    "                                how='left')"
   ]
  },
  {
   "cell_type": "code",
   "execution_count": 94,
   "id": "6a8bc022-f2ef-4ee2-b0fb-35fdf5515770",
   "metadata": {},
   "outputs": [],
   "source": [
    "sales_inflation_data = sales_inflation_data.drop(columns=['Date'])"
   ]
  },
  {
   "cell_type": "code",
   "execution_count": 95,
   "id": "4153bdaf-be57-48ad-9cb2-5d9260ad82ad",
   "metadata": {},
   "outputs": [
    {
     "data": {
      "text/plain": [
       "Index(['item', 'Year', 'Percent change',\n",
       "       'Inflation Rate YOY From Previous Dec', 'Federal Funds Rate',\n",
       "       'Business Cycle*', 'Events Affecting Inflation', 'State', 'Category',\n",
       "       'Variable', 'Price'],\n",
       "      dtype='object')"
      ]
     },
     "execution_count": 95,
     "metadata": {},
     "output_type": "execute_result"
    }
   ],
   "source": [
    "sales_inflation_data.columns"
   ]
  },
  {
   "cell_type": "code",
   "execution_count": 96,
   "id": "48226ef2-ead7-4bea-8d02-abb8411da462",
   "metadata": {},
   "outputs": [
    {
     "data": {
      "text/html": [
       "<div>\n",
       "<style scoped>\n",
       "    .dataframe tbody tr th:only-of-type {\n",
       "        vertical-align: middle;\n",
       "    }\n",
       "\n",
       "    .dataframe tbody tr th {\n",
       "        vertical-align: top;\n",
       "    }\n",
       "\n",
       "    .dataframe thead th {\n",
       "        text-align: right;\n",
       "    }\n",
       "</style>\n",
       "<table border=\"1\" class=\"dataframe\">\n",
       "  <thead>\n",
       "    <tr style=\"text-align: right;\">\n",
       "      <th></th>\n",
       "      <th>item</th>\n",
       "      <th>Year</th>\n",
       "      <th>Percent change</th>\n",
       "      <th>Inflation Rate YOY From Previous Dec</th>\n",
       "      <th>Federal Funds Rate</th>\n",
       "      <th>Business Cycle*</th>\n",
       "      <th>Events Affecting Inflation</th>\n",
       "      <th>State</th>\n",
       "      <th>Category</th>\n",
       "      <th>Variable</th>\n",
       "      <th>Price</th>\n",
       "    </tr>\n",
       "  </thead>\n",
       "  <tbody>\n",
       "    <tr>\n",
       "      <th>11287495</th>\n",
       "      <td>Nonalcoholic beverages</td>\n",
       "      <td>2023</td>\n",
       "      <td>7.0</td>\n",
       "      <td>3.40%</td>\n",
       "      <td>5.50%</td>\n",
       "      <td>Expansion (2.5%)</td>\n",
       "      <td>Fed raised rates</td>\n",
       "      <td>Wyoming</td>\n",
       "      <td>Vegetables</td>\n",
       "      <td>Percent change units 3 years</td>\n",
       "      <td>-10.0</td>\n",
       "    </tr>\n",
       "    <tr>\n",
       "      <th>11287496</th>\n",
       "      <td>Nonalcoholic beverages</td>\n",
       "      <td>2023</td>\n",
       "      <td>7.0</td>\n",
       "      <td>3.40%</td>\n",
       "      <td>5.50%</td>\n",
       "      <td>Expansion (2.5%)</td>\n",
       "      <td>Fed raised rates</td>\n",
       "      <td>Wyoming</td>\n",
       "      <td>Vegetables</td>\n",
       "      <td>Percent change units 3 years</td>\n",
       "      <td>-22.2</td>\n",
       "    </tr>\n",
       "    <tr>\n",
       "      <th>11287497</th>\n",
       "      <td>Nonalcoholic beverages</td>\n",
       "      <td>2023</td>\n",
       "      <td>7.0</td>\n",
       "      <td>3.40%</td>\n",
       "      <td>5.50%</td>\n",
       "      <td>Expansion (2.5%)</td>\n",
       "      <td>Fed raised rates</td>\n",
       "      <td>Wyoming</td>\n",
       "      <td>Vegetables</td>\n",
       "      <td>Percent change units 3 years</td>\n",
       "      <td>-18.6</td>\n",
       "    </tr>\n",
       "    <tr>\n",
       "      <th>11287498</th>\n",
       "      <td>Nonalcoholic beverages</td>\n",
       "      <td>2023</td>\n",
       "      <td>7.0</td>\n",
       "      <td>3.40%</td>\n",
       "      <td>5.50%</td>\n",
       "      <td>Expansion (2.5%)</td>\n",
       "      <td>Fed raised rates</td>\n",
       "      <td>Wyoming</td>\n",
       "      <td>Vegetables</td>\n",
       "      <td>Percent change units 3 years</td>\n",
       "      <td>-17.9</td>\n",
       "    </tr>\n",
       "    <tr>\n",
       "      <th>11287499</th>\n",
       "      <td>Nonalcoholic beverages</td>\n",
       "      <td>2023</td>\n",
       "      <td>7.0</td>\n",
       "      <td>3.40%</td>\n",
       "      <td>5.50%</td>\n",
       "      <td>Expansion (2.5%)</td>\n",
       "      <td>Fed raised rates</td>\n",
       "      <td>Wyoming</td>\n",
       "      <td>Vegetables</td>\n",
       "      <td>Percent change units 3 years</td>\n",
       "      <td>-13.3</td>\n",
       "    </tr>\n",
       "  </tbody>\n",
       "</table>\n",
       "</div>"
      ],
      "text/plain": [
       "                            item  Year  Percent change  \\\n",
       "11287495  Nonalcoholic beverages  2023             7.0   \n",
       "11287496  Nonalcoholic beverages  2023             7.0   \n",
       "11287497  Nonalcoholic beverages  2023             7.0   \n",
       "11287498  Nonalcoholic beverages  2023             7.0   \n",
       "11287499  Nonalcoholic beverages  2023             7.0   \n",
       "\n",
       "         Inflation Rate YOY From Previous Dec Federal Funds Rate  \\\n",
       "11287495                                3.40%              5.50%   \n",
       "11287496                                3.40%              5.50%   \n",
       "11287497                                3.40%              5.50%   \n",
       "11287498                                3.40%              5.50%   \n",
       "11287499                                3.40%              5.50%   \n",
       "\n",
       "           Business Cycle* Events Affecting Inflation    State    Category  \\\n",
       "11287495  Expansion (2.5%)           Fed raised rates  Wyoming  Vegetables   \n",
       "11287496  Expansion (2.5%)           Fed raised rates  Wyoming  Vegetables   \n",
       "11287497  Expansion (2.5%)           Fed raised rates  Wyoming  Vegetables   \n",
       "11287498  Expansion (2.5%)           Fed raised rates  Wyoming  Vegetables   \n",
       "11287499  Expansion (2.5%)           Fed raised rates  Wyoming  Vegetables   \n",
       "\n",
       "                              Variable  Price  \n",
       "11287495  Percent change units 3 years  -10.0  \n",
       "11287496  Percent change units 3 years  -22.2  \n",
       "11287497  Percent change units 3 years  -18.6  \n",
       "11287498  Percent change units 3 years  -17.9  \n",
       "11287499  Percent change units 3 years  -13.3  "
      ]
     },
     "execution_count": 96,
     "metadata": {},
     "output_type": "execute_result"
    }
   ],
   "source": [
    "sales_inflation_data.tail()"
   ]
  },
  {
   "cell_type": "code",
   "execution_count": 97,
   "id": "146fa5c6-c006-4b6b-82e3-54c84906e03a",
   "metadata": {},
   "outputs": [],
   "source": [
    "sales_inflation_data = sales_inflation_data.rename(columns={'Inflation Rate YOY From Previous Dec ': 'Inflation Rate YOY From Previous Dec'})"
   ]
  },
  {
   "cell_type": "code",
   "execution_count": 98,
   "id": "6a2023b3-6372-43cb-84ed-8d9c730540a0",
   "metadata": {},
   "outputs": [
    {
     "name": "stdout",
     "output_type": "stream",
     "text": [
      "   Inflation Rate YOY From Previous Dec Federal Funds Rate\n",
      "0                                 1.40%              0.25%\n",
      "1                                 1.40%              0.25%\n",
      "2                                 1.40%              0.25%\n",
      "3                                 1.40%              0.25%\n",
      "4                                 1.40%              0.25%\n",
      "5                                 1.40%              0.25%\n",
      "6                                 1.40%              0.25%\n",
      "7                                 1.40%              0.25%\n",
      "8                                 1.40%              0.25%\n",
      "9                                 1.40%              0.25%\n",
      "10                                1.40%              0.25%\n",
      "11                                1.40%              0.25%\n",
      "12                                1.40%              0.25%\n",
      "13                                1.40%              0.25%\n",
      "14                                1.40%              0.25%\n",
      "15                                1.40%              0.25%\n",
      "16                                1.40%              0.25%\n",
      "17                                1.40%              0.25%\n",
      "18                                1.40%              0.25%\n",
      "19                                1.40%              0.25%\n"
     ]
    }
   ],
   "source": [
    "print(sales_inflation_data[['Inflation Rate YOY From Previous Dec', 'Federal Funds Rate']].head(20))\n"
   ]
  },
  {
   "cell_type": "code",
   "execution_count": 100,
   "id": "3aba657e-871c-4393-92dc-faa5d44e5e92",
   "metadata": {},
   "outputs": [],
   "source": [
    "# Remove the '%' sign and convert to float\n",
    "sales_inflation_data['Inflation Rate YOY From Previous Dec'] = sales_inflation_data['Inflation Rate YOY From Previous Dec'].replace('%', '', regex=True).astype(float)\n",
    "\n",
    "# For the Federal Funds Rate, remove any '%' and convert to numeric\n",
    "sales_inflation_data['Federal Funds Rate'] = sales_inflation_data['Federal Funds Rate'].replace('%', '', regex=True).astype(float)\n",
    "\n"
   ]
  },
  {
   "cell_type": "code",
   "execution_count": 101,
   "id": "01457b0c-e83e-4662-bd57-dcf3772465ae",
   "metadata": {},
   "outputs": [
    {
     "name": "stdout",
     "output_type": "stream",
     "text": [
      "   Inflation Rate YOY From Previous Dec  Federal Funds Rate\n",
      "0                                   1.4                0.25\n",
      "1                                   1.4                0.25\n",
      "2                                   1.4                0.25\n",
      "3                                   1.4                0.25\n",
      "4                                   1.4                0.25\n"
     ]
    }
   ],
   "source": [
    "print(sales_inflation_data[['Inflation Rate YOY From Previous Dec', 'Federal Funds Rate']].head())\n"
   ]
  },
  {
   "cell_type": "code",
   "execution_count": 102,
   "id": "f6cfaac8-790c-4d98-aa7d-d214c4a9f10c",
   "metadata": {},
   "outputs": [],
   "source": [
    "inflation_trends = sales_inflation_data.groupby(\"Year\").agg({\n",
    "    \"Inflation Rate YOY From Previous Dec\": \"mean\",\n",
    "    \"Federal Funds Rate\": \"mean\"\n",
    "}).reset_index()"
   ]
  },
  {
   "cell_type": "code",
   "execution_count": 103,
   "id": "4b099c3e-38a7-4408-afaf-821c97d9b82d",
   "metadata": {},
   "outputs": [
    {
     "data": {
      "text/html": [
       "<div>\n",
       "<style scoped>\n",
       "    .dataframe tbody tr th:only-of-type {\n",
       "        vertical-align: middle;\n",
       "    }\n",
       "\n",
       "    .dataframe tbody tr th {\n",
       "        vertical-align: top;\n",
       "    }\n",
       "\n",
       "    .dataframe thead th {\n",
       "        text-align: right;\n",
       "    }\n",
       "</style>\n",
       "<table border=\"1\" class=\"dataframe\">\n",
       "  <thead>\n",
       "    <tr style=\"text-align: right;\">\n",
       "      <th></th>\n",
       "      <th>Year</th>\n",
       "      <th>Inflation Rate YOY From Previous Dec</th>\n",
       "      <th>Federal Funds Rate</th>\n",
       "    </tr>\n",
       "  </thead>\n",
       "  <tbody>\n",
       "    <tr>\n",
       "      <th>0</th>\n",
       "      <td>2020</td>\n",
       "      <td>1.4</td>\n",
       "      <td>0.25</td>\n",
       "    </tr>\n",
       "    <tr>\n",
       "      <th>1</th>\n",
       "      <td>2021</td>\n",
       "      <td>7.0</td>\n",
       "      <td>0.25</td>\n",
       "    </tr>\n",
       "    <tr>\n",
       "      <th>2</th>\n",
       "      <td>2022</td>\n",
       "      <td>6.5</td>\n",
       "      <td>4.50</td>\n",
       "    </tr>\n",
       "    <tr>\n",
       "      <th>3</th>\n",
       "      <td>2023</td>\n",
       "      <td>3.4</td>\n",
       "      <td>5.50</td>\n",
       "    </tr>\n",
       "  </tbody>\n",
       "</table>\n",
       "</div>"
      ],
      "text/plain": [
       "   Year  Inflation Rate YOY From Previous Dec  Federal Funds Rate\n",
       "0  2020                                   1.4                0.25\n",
       "1  2021                                   7.0                0.25\n",
       "2  2022                                   6.5                4.50\n",
       "3  2023                                   3.4                5.50"
      ]
     },
     "execution_count": 103,
     "metadata": {},
     "output_type": "execute_result"
    }
   ],
   "source": [
    "inflation_trends"
   ]
  },
  {
   "cell_type": "markdown",
   "id": "8dfe17b4-947e-4074-bf33-59b1c3e71993",
   "metadata": {},
   "source": [
    "2020: Inflation was very low (1.4%) due to economic contraction from COVID-19, with ultra-low interest rates (0.25%) to stimulate the economy.\n",
    "2021: Inflation jumped to 7.0% due to supply chain disruptions and high consumer demand, but interest rates were still 0.25%, fueling price increases.\n",
    "2022: The Fed raised interest rates aggressively (4.5%) to control inflation, bringing it down slightly to 6.5%.\n",
    "2023: The inflation rate dropped further to 3.4%, thanks to even higher interest rates (5.5%), slowing down spending and borrowing.\n"
   ]
  },
  {
   "cell_type": "markdown",
   "id": "4f08ea97-4461-4420-8ce5-563e5d843406",
   "metadata": {},
   "source": [
    "There was a noticeable increase in both inflation and Federal Funds Rate starting in 2021, marking a shift in monetary policy in response to rising inflation.\n",
    "The most significant inflation spike occurred in 2021, with the Federal Funds Rate remaining low until the Fed's intervention in 2022.\n",
    "By 2023, both inflation and interest rates showed signs of stabilization, though inflation was still elevated compared to historical averages."
   ]
  },
  {
   "cell_type": "code",
   "execution_count": 109,
   "id": "36a6223d-0850-432a-acfa-ef22d1e5c5be",
   "metadata": {},
   "outputs": [
    {
     "data": {
      "image/png": "[encoded data removed]",
      "text/plain": [
       "<Figure size 1000x500 with 2 Axes>"
      ]
     },
     "metadata": {},
     "output_type": "display_data"
    }
   ],
   "source": [
    "\n",
    "inflation_trends_df = pd.DataFrame(inflation_trends)\n",
    "sns.set_style(\"whitegrid\")\n",
    "fig, ax1 = plt.subplots(figsize=(10, 5))\n",
    "\n",
    "ax1.plot(inflation_trends_df[\"Year\"], inflation_trends_df[\"Inflation Rate YOY From Previous Dec\"], marker=\"o\", linestyle=\"-\", color=\"red\", label=\"Inflation Rate YOY\")\n",
    "ax1.set_xlabel(\"Year\")\n",
    "ax1.set_ylabel(\"Inflation Rate (%)\", color=\"red\")\n",
    "ax1.tick_params(axis=\"y\", labelcolor=\"red\")\n",
    "\n",
    "ax2 = ax1.twinx()\n",
    "ax2.plot(inflation_trends_df[\"Year\"], inflation_trends_df[\"Federal Funds Rate\"], marker=\"s\", linestyle=\"--\", color=\"blue\", label=\"Federal Funds Rate\")\n",
    "ax2.set_ylabel(\"Federal Funds Rate (%)\", color=\"blue\")\n",
    "ax2.tick_params(axis=\"y\", labelcolor=\"blue\")\n",
    "\n",
    "plt.title(\"U.S. Inflation Rate & Federal Funds Rate (2020-2023)\")\n",
    "ax1.legend(loc=\"upper left\")\n",
    "ax2.legend(loc=\"upper right\")\n",
    "plt.show()\n"
   ]
  },
  {
   "cell_type": "code",
   "execution_count": 110,
   "id": "321af5a2-f17c-4156-9031-062c6026d4fc",
   "metadata": {},
   "outputs": [],
   "source": [
    "\n",
    "sales_inflation_data['Inflation Adjusted Price'] = sales_inflation_data['Price'] * (1 + sales_inflation_data['Inflation Rate YOY From Previous Dec'] / 100)\n"
   ]
  },
  {
   "cell_type": "code",
   "execution_count": 111,
   "id": "88a71233-cd98-42c1-b6f9-3e2a528902bc",
   "metadata": {},
   "outputs": [
    {
     "data": {
      "text/plain": [
       "mean      1.297659e+07\n",
       "median    1.698650e+06\n",
       "std       3.105920e+07\n",
       "Name: Price, dtype: float64"
      ]
     },
     "execution_count": 111,
     "metadata": {},
     "output_type": "execute_result"
    }
   ],
   "source": [
    "\n",
    "# Calculate mean, median, and standard deviation separately\n",
    "percent_change_stats = sales_inflation_data['Percent change'].agg(['mean', 'median', 'std'])\n",
    "value_stats = sales_inflation_data['Price'].agg(['mean', 'median', 'std'])\n",
    "percent_change_stats\n",
    "value_stats"
   ]
  },
  {
   "cell_type": "code",
   "execution_count": 112,
   "id": "c6e68f0f-25d1-48a4-bfd5-45d37c450dc6",
   "metadata": {},
   "outputs": [
    {
     "data": {
      "text/html": [
       "<div>\n",
       "<style scoped>\n",
       "    .dataframe tbody tr th:only-of-type {\n",
       "        vertical-align: middle;\n",
       "    }\n",
       "\n",
       "    .dataframe tbody tr th {\n",
       "        vertical-align: top;\n",
       "    }\n",
       "\n",
       "    .dataframe thead th {\n",
       "        text-align: right;\n",
       "    }\n",
       "</style>\n",
       "<table border=\"1\" class=\"dataframe\">\n",
       "  <thead>\n",
       "    <tr style=\"text-align: right;\">\n",
       "      <th></th>\n",
       "      <th>Year</th>\n",
       "      <th>Percent change</th>\n",
       "      <th>Inflation Rate YOY From Previous Dec</th>\n",
       "      <th>Federal Funds Rate</th>\n",
       "      <th>Price</th>\n",
       "      <th>Inflation Adjusted Price</th>\n",
       "    </tr>\n",
       "  </thead>\n",
       "  <tbody>\n",
       "    <tr>\n",
       "      <th>count</th>\n",
       "      <td>1.128750e+07</td>\n",
       "      <td>1.128750e+07</td>\n",
       "      <td>1.128750e+07</td>\n",
       "      <td>1.128750e+07</td>\n",
       "      <td>8.923350e+06</td>\n",
       "      <td>8.923350e+06</td>\n",
       "    </tr>\n",
       "    <tr>\n",
       "      <th>mean</th>\n",
       "      <td>2.021217e+03</td>\n",
       "      <td>6.171695e+00</td>\n",
       "      <td>4.796571e+00</td>\n",
       "      <td>2.082857e+00</td>\n",
       "      <td>1.297659e+07</td>\n",
       "      <td>1.363008e+07</td>\n",
       "    </tr>\n",
       "    <tr>\n",
       "      <th>std</th>\n",
       "      <td>9.906667e-01</td>\n",
       "      <td>5.456376e+00</td>\n",
       "      <td>2.438170e+00</td>\n",
       "      <td>2.236130e+00</td>\n",
       "      <td>3.105920e+07</td>\n",
       "      <td>3.264660e+07</td>\n",
       "    </tr>\n",
       "    <tr>\n",
       "      <th>min</th>\n",
       "      <td>2.020000e+03</td>\n",
       "      <td>-1.200000e+00</td>\n",
       "      <td>1.400000e+00</td>\n",
       "      <td>2.500000e-01</td>\n",
       "      <td>-6.930000e+01</td>\n",
       "      <td>-7.211800e+01</td>\n",
       "    </tr>\n",
       "    <tr>\n",
       "      <th>25%</th>\n",
       "      <td>2.020000e+03</td>\n",
       "      <td>2.800000e+00</td>\n",
       "      <td>1.400000e+00</td>\n",
       "      <td>2.500000e-01</td>\n",
       "      <td>1.010000e+01</td>\n",
       "      <td>1.054350e+01</td>\n",
       "    </tr>\n",
       "    <tr>\n",
       "      <th>50%</th>\n",
       "      <td>2.021000e+03</td>\n",
       "      <td>4.600000e+00</td>\n",
       "      <td>6.500000e+00</td>\n",
       "      <td>2.500000e-01</td>\n",
       "      <td>1.698650e+06</td>\n",
       "      <td>1.784406e+06</td>\n",
       "    </tr>\n",
       "    <tr>\n",
       "      <th>75%</th>\n",
       "      <td>2.022000e+03</td>\n",
       "      <td>8.500000e+00</td>\n",
       "      <td>7.000000e+00</td>\n",
       "      <td>4.500000e+00</td>\n",
       "      <td>1.229670e+07</td>\n",
       "      <td>1.290978e+07</td>\n",
       "    </tr>\n",
       "    <tr>\n",
       "      <th>max</th>\n",
       "      <td>2.023000e+03</td>\n",
       "      <td>3.220000e+01</td>\n",
       "      <td>7.000000e+00</td>\n",
       "      <td>5.500000e+00</td>\n",
       "      <td>6.452044e+08</td>\n",
       "      <td>6.902351e+08</td>\n",
       "    </tr>\n",
       "  </tbody>\n",
       "</table>\n",
       "</div>"
      ],
      "text/plain": [
       "               Year  Percent change  Inflation Rate YOY From Previous Dec  \\\n",
       "count  1.128750e+07    1.128750e+07                          1.128750e+07   \n",
       "mean   2.021217e+03    6.171695e+00                          4.796571e+00   \n",
       "std    9.906667e-01    5.456376e+00                          2.438170e+00   \n",
       "min    2.020000e+03   -1.200000e+00                          1.400000e+00   \n",
       "25%    2.020000e+03    2.800000e+00                          1.400000e+00   \n",
       "50%    2.021000e+03    4.600000e+00                          6.500000e+00   \n",
       "75%    2.022000e+03    8.500000e+00                          7.000000e+00   \n",
       "max    2.023000e+03    3.220000e+01                          7.000000e+00   \n",
       "\n",
       "       Federal Funds Rate         Price  Inflation Adjusted Price  \n",
       "count        1.128750e+07  8.923350e+06              8.923350e+06  \n",
       "mean         2.082857e+00  1.297659e+07              1.363008e+07  \n",
       "std          2.236130e+00  3.105920e+07              3.264660e+07  \n",
       "min          2.500000e-01 -6.930000e+01             -7.211800e+01  \n",
       "25%          2.500000e-01  1.010000e+01              1.054350e+01  \n",
       "50%          2.500000e-01  1.698650e+06              1.784406e+06  \n",
       "75%          4.500000e+00  1.229670e+07              1.290978e+07  \n",
       "max          5.500000e+00  6.452044e+08              6.902351e+08  "
      ]
     },
     "execution_count": 112,
     "metadata": {},
     "output_type": "execute_result"
    }
   ],
   "source": [
    "sales_inflation_data.describe()\n"
   ]
  },
  {
   "cell_type": "code",
   "execution_count": 114,
   "id": "e7e43d87-8c76-438c-ab41-d15e3a1f42b6",
   "metadata": {},
   "outputs": [
    {
     "name": "stdout",
     "output_type": "stream",
     "text": [
      "                      Category  Inflation Adjusted Price\n",
      "2  Commercially prepared items              4.361225e+07\n",
      "1                    Beverages              2.251556e+07\n",
      "7        Meats, eggs, and nuts              2.005191e+07\n",
      "3                        Dairy              1.101626e+07\n",
      "9                   Vegetables              1.091406e+07\n",
      "0                      Alcohol              1.073875e+07\n",
      "5                       Fruits              8.527332e+06\n",
      "6                       Grains              6.674551e+06\n",
      "4                Fats and oils              1.643423e+06\n",
      "8         Sugar and sweeteners              6.200859e+05\n"
     ]
    }
   ],
   "source": [
    "# Grouping by Category and calculating average Inflation Rate\n",
    "avg_inflation_by_category = sales_inflation_data.groupby('Category')['Inflation Adjusted Price'].mean().reset_index()\n",
    "\n",
    "# Sorting by inflation rate\n",
    "avg_inflation_by_category_sorted = avg_inflation_by_category.sort_values(by='Inflation Adjusted Price', ascending=False)\n",
    "print(avg_inflation_by_category_sorted)\n"
   ]
  },
  {
   "cell_type": "code",
   "execution_count": 115,
   "id": "1d303058-0f00-4e68-85a6-8862735bc0f5",
   "metadata": {},
   "outputs": [
    {
     "data": {
      "text/plain": [
       "Category\n",
       "Alcohol                        9.124385e+12\n",
       "Beverages                      1.912655e+13\n",
       "Commercially prepared items    3.704301e+13\n",
       "Dairy                          9.356849e+12\n",
       "Fats and oils                  1.396575e+12\n",
       "Fruits                         7.245041e+12\n",
       "Grains                         5.672099e+12\n",
       "Meats, eggs, and nuts          1.702764e+13\n",
       "Sugar and sweeteners           5.269612e+11\n",
       "Vegetables                     9.275563e+12\n",
       "Name: Price, dtype: float64"
      ]
     },
     "execution_count": 115,
     "metadata": {},
     "output_type": "execute_result"
    }
   ],
   "source": [
    "Total_Value_by_Category = sales_inflation_data.groupby('Category')['Price'].sum()\n",
    "Total_Value_by_Category"
   ]
  },
  {
   "cell_type": "code",
   "execution_count": 117,
   "id": "c1c5345e-a1de-41ed-85f5-c5783faf3685",
   "metadata": {},
   "outputs": [
    {
     "data": {
      "image/png": "[encoded data removed]",
      "text/plain": [
       "<Figure size 1000x500 with 1 Axes>"
      ]
     },
     "metadata": {},
     "output_type": "display_data"
    }
   ],
   "source": [
    "# Plot the trend of Inflation Rate YOY From Previous Dec over time\n",
    "plt.figure(figsize=(10, 5))\n",
    "plt.plot(sales_inflation_data['Year'], sales_inflation_data['Percent change'], marker='o', linestyle='-')\n",
    "plt.title('Trend of Inflation Rate YOY From Previous Dec Over Time')\n",
    "plt.xlabel('Year')\n",
    "plt.ylabel('Percent change')\n",
    "plt.grid(True)\n",
    "plt.show()"
   ]
  },
  {
   "cell_type": "code",
   "execution_count": 118,
   "id": "40dc0c18-719d-4e77-b959-f04db61f3be2",
   "metadata": {},
   "outputs": [
    {
     "name": "stdout",
     "output_type": "stream",
     "text": [
      "                                      Inflation Rate YOY From Previous Dec  \\\n",
      "Inflation Rate YOY From Previous Dec                              1.000000   \n",
      "Price                                                            -0.003531   \n",
      "\n",
      "                                         Price  \n",
      "Inflation Rate YOY From Previous Dec -0.003531  \n",
      "Price                                 1.000000  \n"
     ]
    }
   ],
   "source": [
    "# Checking correlations between inflation rate and price (for example)\n",
    "correlation_inflation_price = sales_inflation_data[['Inflation Rate YOY From Previous Dec', 'Price']].corr()\n",
    "print(correlation_inflation_price)\n",
    "\n"
   ]
  },
  {
   "cell_type": "code",
   "execution_count": 119,
   "id": "57010c22-cb18-4ad4-a742-bcbebd2b342f",
   "metadata": {},
   "outputs": [
    {
     "data": {
      "image/png": "[encoded data removed]",
      "text/plain": [
       "<Figure size 1000x600 with 2 Axes>"
      ]
     },
     "metadata": {},
     "output_type": "display_data"
    }
   ],
   "source": [
    "\n",
    "# Plotting histograms for price and inflation rate\n",
    "plt.figure(figsize=(10, 6))\n",
    "\n",
    "# Plot price distribution\n",
    "plt.subplot(1, 2, 1)\n",
    "sns.histplot(sales_inflation_data['Price'], bins=20, kde=True)\n",
    "plt.title('Price Distribution')\n",
    "\n",
    "# Plot inflation rate distribution\n",
    "plt.subplot(1, 2, 2)\n",
    "sns.histplot(sales_inflation_data['Inflation Rate YOY From Previous Dec'], bins=20, kde=True)\n",
    "plt.title('Inflation Rate Distribution')\n",
    "\n",
    "plt.tight_layout()\n",
    "plt.show()\n"
   ]
  },
  {
   "cell_type": "code",
   "execution_count": 120,
   "id": "86dbdb4f-0f10-4e8a-9b2f-e45b184e91b2",
   "metadata": {},
   "outputs": [
    {
     "data": {
      "image/png": "[encoded data removed]",
      "text/plain": [
       "<Figure size 1000x600 with 2 Axes>"
      ]
     },
     "metadata": {},
     "output_type": "display_data"
    }
   ],
   "source": [
    "\n",
    "\n",
    "# Plot a heatmap of the correlation matrix\n",
    "plt.figure(figsize=(10, 6))\n",
    "sns.heatmap(correlation_inflation_price, annot=True, cmap='coolwarm', fmt='.2f', linewidths=0.5)\n",
    "plt.title('Correlation Matrix')\n",
    "plt.show()\n"
   ]
  },
  {
   "cell_type": "code",
   "execution_count": 121,
   "id": "bbed6dd3-e679-4c45-9d36-ca7a9c51010c",
   "metadata": {},
   "outputs": [
    {
     "data": {
      "image/png": "[encoded data removed]",
      "text/plain": [
       "<Figure size 1000x600 with 1 Axes>"
      ]
     },
     "metadata": {},
     "output_type": "display_data"
    }
   ],
   "source": [
    "plt.figure(figsize=(10, 6))\n",
    "sns.lineplot(x='Year', y='Percent change', data=sales_inflation_data)\n",
    "plt.title('Percent Change Over Time')\n",
    "plt.xlabel('Year')\n",
    "plt.ylabel('Percent Change')\n",
    "plt.show()\n"
   ]
  },
  {
   "cell_type": "code",
   "execution_count": 139,
   "id": "2f76dff1-26c5-46bc-9d6b-83548dabd25b",
   "metadata": {},
   "outputs": [],
   "source": [
    "\n",
    "#total revenue by category\n",
    "grouped_stats = sales_inflation_data.groupby('Category', as_index=False)['Price'].sum()"
   ]
  },
  {
   "cell_type": "code",
   "execution_count": 144,
   "id": "81649fb6-cc00-4771-9a3e-00ca04eec82b",
   "metadata": {},
   "outputs": [
    {
     "data": {
      "image/png": "[encoded data removed]",
      "text/plain": [
       "<Figure size 1200x600 with 1 Axes>"
      ]
     },
     "metadata": {},
     "output_type": "display_data"
    }
   ],
   "source": [
    "\n",
    "# Bar chart for total revenue by category\n",
    "plt.figure(figsize=(12, 6))\n",
    "sns.barplot(data=grouped_stats, x='Category', y='Price')\n",
    "plt.title('Total Revenue by Category')\n",
    "plt.xlabel('Category')\n",
    "plt.ylabel('Total Revenue')\n",
    "plt.xticks(rotation=45)\n",
    "plt.show()"
   ]
  },
  {
   "cell_type": "code",
   "execution_count": null,
   "id": "06f8912f-51e0-40bd-a7f0-fda592d38b65",
   "metadata": {},
   "outputs": [],
   "source": []
  },
  {
   "cell_type": "code",
   "execution_count": 146,
   "id": "0dc689fb-90bd-4395-8176-c86cefa37e0e",
   "metadata": {},
   "outputs": [],
   "source": [
    "sales_inflation_data.to_csv('sales_inflation_data.csv', index=False)\n"
   ]
  },
  {
   "cell_type": "code",
   "execution_count": null,
   "id": "bc8aae09-c000-47a2-b29e-bf5ed73ed711",
   "metadata": {},
   "outputs": [],
   "source": []
  },
  {
   "cell_type": "code",
   "execution_count": null,
   "id": "86f366b6-1953-4428-b0f5-dc37a56ff90b",
   "metadata": {},
   "outputs": [],
   "source": []
  },
  {
   "cell_type": "code",
   "execution_count": null,
   "id": "207c9239-0644-4631-896c-523eadd594b3",
   "metadata": {},
   "outputs": [],
   "source": []
  },
  {
   "cell_type": "code",
   "execution_count": null,
   "id": "72f4cc5a-9f89-4c78-8966-1b9a27414bb8",
   "metadata": {},
   "outputs": [],
   "source": []
  },
  {
   "cell_type": "code",
   "execution_count": null,
   "id": "e3f16e67-b8d6-49a1-b828-8574f87337a3",
   "metadata": {},
   "outputs": [],
   "source": []
  },
  {
   "cell_type": "code",
   "execution_count": null,
   "id": "6d105d2a-353e-4d13-a75c-57eb79ba41d9",
   "metadata": {},
   "outputs": [],
   "source": []
  },
  {
   "cell_type": "code",
   "execution_count": null,
   "id": "c8080868-bd6f-45ec-aa75-bbb4b222fbb3",
   "metadata": {},
   "outputs": [],
   "source": []
  },
  {
   "cell_type": "code",
   "execution_count": null,
   "id": "16270c9a-bdae-4a5b-894a-86310b640e5b",
   "metadata": {},
   "outputs": [],
   "source": []
  }
 ],
 "metadata": {
  "kernelspec": {
   "display_name": "Python [conda env:base] *",
   "language": "python",
   "name": "conda-base-py"
  },
  "language_info": {
   "codemirror_mode": {
    "name": "ipython",
    "version": 3
   },
   "file_extension": ".py",
   "mimetype": "text/x-python",
   "name": "python",
   "nbconvert_exporter": "python",
   "pygments_lexer": "ipython3",
   "version": "3.12.7"
  }
 },
 "nbformat": 4,
 "nbformat_minor": 5
}
